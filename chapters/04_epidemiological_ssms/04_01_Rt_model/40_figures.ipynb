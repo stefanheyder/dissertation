{
 "cells": [
  {
   "cell_type": "markdown",
   "metadata": {},
   "source": [
    "# Figures and Tables for the reporting delay model"
   ]
  },
  {
   "cell_type": "code",
   "execution_count": 1,
   "metadata": {
    "vscode": {
     "languageId": "r"
    }
   },
   "outputs": [
    {
     "name": "stderr",
     "output_type": "stream",
     "text": [
      "here() starts at /Users/stefan/workspace/work/phd/thesis\n",
      "\n"
     ]
    }
   ],
   "source": [
    "library(here)\n",
    "source(here(\"setup.R\"))\n"
   ]
  },
  {
   "cell_type": "markdown",
   "metadata": {},
   "source": [
    "## Parameters"
   ]
  },
  {
   "cell_type": "code",
   "execution_count": 2,
   "metadata": {
    "vscode": {
     "languageId": "r"
    }
   },
   "outputs": [
    {
     "data": {
      "text/html": [
       "<table class=\"dataframe\">\n",
       "<caption>A spec_tbl_df: 3 x 5</caption>\n",
       "<thead>\n",
       "\t<tr><th scope=col>method</th><th scope=col>\\rho</th><th scope=col>W</th><th scope=col>q</th><th scope=col>M</th></tr>\n",
       "\t<tr><th scope=col>&lt;chr&gt;</th><th scope=col>&lt;dbl&gt;</th><th scope=col>&lt;dbl&gt;</th><th scope=col>&lt;dbl&gt;</th><th scope=col>&lt;dbl&gt;</th></tr>\n",
       "</thead>\n",
       "<tbody>\n",
       "\t<tr><td>manual </td><td>-13.815511</td><td>-4.605170</td><td>-1.3862944</td><td>-9.210340</td></tr>\n",
       "\t<tr><td>initial</td><td> -8.510855</td><td>-7.691463</td><td> 0.5779217</td><td>-4.445763</td></tr>\n",
       "\t<tr><td>MLE    </td><td> -8.510845</td><td>-7.691457</td><td> 0.5795065</td><td>-4.445750</td></tr>\n",
       "</tbody>\n",
       "</table>\n"
      ],
      "text/latex": [
       "A spec\\_tbl\\_df: 3 x 5\n",
       "\\begin{tabular}{lllll}\n",
       " method & \\textbackslash{}rho & W & q & M\\\\\n",
       " <chr> & <dbl> & <dbl> & <dbl> & <dbl>\\\\\n",
       "\\hline\n",
       "\t manual  & -13.815511 & -4.605170 & -1.3862944 & -9.210340\\\\\n",
       "\t initial &  -8.510855 & -7.691463 &  0.5779217 & -4.445763\\\\\n",
       "\t MLE     &  -8.510845 & -7.691457 &  0.5795065 & -4.445750\\\\\n",
       "\\end{tabular}\n"
      ],
      "text/markdown": [
       "\n",
       "A spec_tbl_df: 3 x 5\n",
       "\n",
       "| method &lt;chr&gt; | \\rho &lt;dbl&gt; | W &lt;dbl&gt; | q &lt;dbl&gt; | M &lt;dbl&gt; |\n",
       "|---|---|---|---|---|\n",
       "| manual  | -13.815511 | -4.605170 | -1.3862944 | -9.210340 |\n",
       "| initial |  -8.510855 | -7.691463 |  0.5779217 | -4.445763 |\n",
       "| MLE     |  -8.510845 | -7.691457 |  0.5795065 | -4.445750 |\n",
       "\n"
      ],
      "text/plain": [
       "  method  \\\\rho      W         q          M        \n",
       "1 manual  -13.815511 -4.605170 -1.3862944 -9.210340\n",
       "2 initial  -8.510855 -7.691463  0.5779217 -4.445763\n",
       "3 MLE      -8.510845 -7.691457  0.5795065 -4.445750"
      ]
     },
     "metadata": {},
     "output_type": "display_data"
    },
    {
     "data": {
      "text/html": [
       "<table class=\"dataframe\">\n",
       "<caption>A tibble: 3 x 5</caption>\n",
       "<thead>\n",
       "\t<tr><th scope=col>method</th><th scope=col>\\rho</th><th scope=col>W</th><th scope=col>q</th><th scope=col>M</th></tr>\n",
       "\t<tr><th scope=col>&lt;chr&gt;</th><th scope=col>&lt;dbl&gt;</th><th scope=col>&lt;dbl&gt;</th><th scope=col>&lt;dbl&gt;</th><th scope=col>&lt;dbl&gt;</th></tr>\n",
       "</thead>\n",
       "<tbody>\n",
       "\t<tr><td>manual </td><td>0.0000010000</td><td>0.0100000000</td><td>0.250000</td><td>0.00010000</td></tr>\n",
       "\t<tr><td>initial</td><td>0.0002012717</td><td>0.0004567096</td><td>1.782330</td><td>0.01172815</td></tr>\n",
       "\t<tr><td>MLE    </td><td>0.0002012736</td><td>0.0004567122</td><td>1.785157</td><td>0.01172830</td></tr>\n",
       "</tbody>\n",
       "</table>\n"
      ],
      "text/latex": [
       "A tibble: 3 x 5\n",
       "\\begin{tabular}{lllll}\n",
       " method & \\textbackslash{}rho & W & q & M\\\\\n",
       " <chr> & <dbl> & <dbl> & <dbl> & <dbl>\\\\\n",
       "\\hline\n",
       "\t manual  & 0.0000010000 & 0.0100000000 & 0.250000 & 0.00010000\\\\\n",
       "\t initial & 0.0002012717 & 0.0004567096 & 1.782330 & 0.01172815\\\\\n",
       "\t MLE     & 0.0002012736 & 0.0004567122 & 1.785157 & 0.01172830\\\\\n",
       "\\end{tabular}\n"
      ],
      "text/markdown": [
       "\n",
       "A tibble: 3 x 5\n",
       "\n",
       "| method &lt;chr&gt; | \\rho &lt;dbl&gt; | W &lt;dbl&gt; | q &lt;dbl&gt; | M &lt;dbl&gt; |\n",
       "|---|---|---|---|---|\n",
       "| manual  | 0.0000010000 | 0.0100000000 | 0.250000 | 0.00010000 |\n",
       "| initial | 0.0002012717 | 0.0004567096 | 1.782330 | 0.01172815 |\n",
       "| MLE     | 0.0002012736 | 0.0004567122 | 1.785157 | 0.01172830 |\n",
       "\n"
      ],
      "text/plain": [
       "  method  \\\\rho        W            q        M         \n",
       "1 manual  0.0000010000 0.0100000000 0.250000 0.00010000\n",
       "2 initial 0.0002012717 0.0004567096 1.782330 0.01172815\n",
       "3 MLE     0.0002012736 0.0004567122 1.785157 0.01172830"
      ]
     },
     "metadata": {},
     "output_type": "display_data"
    },
    {
     "data": {
      "text/html": [
       "<table class=\"dataframe\">\n",
       "<caption>A tibble: 3 x 5</caption>\n",
       "<thead>\n",
       "\t<tr><th scope=col>method</th><th scope=col>\\rho</th><th scope=col>W</th><th scope=col>q</th><th scope=col>M</th></tr>\n",
       "\t<tr><th scope=col>&lt;chr&gt;</th><th scope=col>&lt;dbl&gt;</th><th scope=col>&lt;dbl&gt;</th><th scope=col>&lt;dbl&gt;</th><th scope=col>&lt;dbl&gt;</th></tr>\n",
       "</thead>\n",
       "<tbody>\n",
       "\t<tr><td>manual </td><td>0.00100000</td><td>0.10000000</td><td>0.500000</td><td>0.0100000</td></tr>\n",
       "\t<tr><td>initial</td><td>0.01418703</td><td>0.02137076</td><td>1.335039</td><td>0.1082966</td></tr>\n",
       "\t<tr><td>MLE    </td><td>0.01418709</td><td>0.02137083</td><td>1.336098</td><td>0.1082973</td></tr>\n",
       "</tbody>\n",
       "</table>\n"
      ],
      "text/latex": [
       "A tibble: 3 x 5\n",
       "\\begin{tabular}{lllll}\n",
       " method & \\textbackslash{}rho & W & q & M\\\\\n",
       " <chr> & <dbl> & <dbl> & <dbl> & <dbl>\\\\\n",
       "\\hline\n",
       "\t manual  & 0.00100000 & 0.10000000 & 0.500000 & 0.0100000\\\\\n",
       "\t initial & 0.01418703 & 0.02137076 & 1.335039 & 0.1082966\\\\\n",
       "\t MLE     & 0.01418709 & 0.02137083 & 1.336098 & 0.1082973\\\\\n",
       "\\end{tabular}\n"
      ],
      "text/markdown": [
       "\n",
       "A tibble: 3 x 5\n",
       "\n",
       "| method &lt;chr&gt; | \\rho &lt;dbl&gt; | W &lt;dbl&gt; | q &lt;dbl&gt; | M &lt;dbl&gt; |\n",
       "|---|---|---|---|---|\n",
       "| manual  | 0.00100000 | 0.10000000 | 0.500000 | 0.0100000 |\n",
       "| initial | 0.01418703 | 0.02137076 | 1.335039 | 0.1082966 |\n",
       "| MLE     | 0.01418709 | 0.02137083 | 1.336098 | 0.1082973 |\n",
       "\n"
      ],
      "text/plain": [
       "  method  \\\\rho      W          q        M        \n",
       "1 manual  0.00100000 0.10000000 0.500000 0.0100000\n",
       "2 initial 0.01418703 0.02137076 1.335039 0.1082966\n",
       "3 MLE     0.01418709 0.02137083 1.336098 0.1082973"
      ]
     },
     "metadata": {},
     "output_type": "display_data"
    }
   ],
   "source": [
    "theta_showcase <- read_csv(here(\"data/results/4_showcase_model/thetas.csv\")) %>%\n",
    "    rename(\"\\\\rho\" = 2)\n",
    "theta_showcase\n",
    "\n",
    "variances <- theta_showcase %>%\n",
    "    mutate(across(where(is.numeric), ~ exp(.x)))\n",
    "variances\n",
    "\n",
    "sds <- variances %>%\n",
    "    mutate(across(where(is.numeric), ~ sqrt(.x)))\n",
    "sds\n",
    "\n",
    "# use scientific notation\n",
    "sds %>%\n",
    "    rename_with(function(col) str_glue(\"$\\\\sigma_{col}$\"), where(is.numeric)) %>%\n",
    "    kable(format = \"latex\", format.args = list(scipen = 2, digits = 2), booktabs = T, escape = F) %>%\n",
    "    cat(., file = here(\"tables/showcase-parameters.tex\"))\n"
   ]
  }
 ],
 "metadata": {
  "kernelspec": {
   "display_name": "R",
   "language": "R",
   "name": "ir"
  },
  "language_info": {
   "codemirror_mode": "r",
   "file_extension": ".r",
   "mimetype": "text/x-r-source",
   "name": "R",
   "pygments_lexer": "r",
   "version": "4.3.3"
  }
 },
 "nbformat": 4,
 "nbformat_minor": 2
}
