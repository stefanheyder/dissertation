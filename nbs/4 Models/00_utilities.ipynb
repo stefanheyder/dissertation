{
 "cells": [
  {
   "cell_type": "markdown",
   "metadata": {},
   "source": [
    "# Utilities for the models of this thesis\n",
    "> comment"
   ]
  },
  {
   "cell_type": "code",
   "execution_count": null,
   "metadata": {},
   "outputs": [],
   "source": [
    "# | default_exp models.util"
   ]
  },
  {
   "cell_type": "markdown",
   "metadata": {},
   "source": [
    "## Visualization"
   ]
  },
  {
   "cell_type": "code",
   "execution_count": null,
   "metadata": {},
   "outputs": [],
   "source": [
    "# | export\n",
    "import matplotlib.pyplot as plt\n",
    "from isssm.typing import PGSSM\n",
    "from matplotlib.colors import Normalize\n",
    "import matplotlib.cm as cm\n",
    "import jax.numpy as jnp\n",
    "\n",
    "\n",
    "def __zero_to_nan(arr, eps=1e-10):\n",
    "    return jnp.where(jnp.abs(arr) < eps, jnp.nan, arr)\n",
    "\n",
    "\n",
    "def visualize_pgssm(pgssm: PGSSM):\n",
    "    fig, axes = plt.subplots(nrows=1, ncols=3)\n",
    "    cmap = cm.get_cmap(\"viridis\")\n",
    "\n",
    "    A, B, D, Sigma = pgssm.A[0], pgssm.B[0], pgssm.D[0], pgssm.Sigma[0]\n",
    "    max = jnp.max(jnp.array([A.max(), B.max(), D.max()]))\n",
    "    min = jnp.min(jnp.array([A.min(), B.min(), D.min()]))\n",
    "\n",
    "    normalizer = Normalize(min, max)\n",
    "    im = cm.ScalarMappable(norm=normalizer)\n",
    "    axes[0].imshow(__zero_to_nan(A), cmap=cmap, norm=normalizer)\n",
    "    axes[0].set_title(\"A\")\n",
    "    axes[1].imshow(__zero_to_nan(B), cmap=cmap, norm=normalizer)\n",
    "    axes[1].set_title(\"B\")\n",
    "    axes[2].imshow(__zero_to_nan(D), cmap=cmap, norm=normalizer)\n",
    "    axes[2].set_title(\"D\")\n",
    "\n",
    "    fig.colorbar(im, ax=axes.ravel().tolist())\n",
    "    plt.show()\n",
    "\n",
    "    plt.imshow(__zero_to_nan(Sigma))\n",
    "    plt.colorbar()\n",
    "    plt.show()"
   ]
  },
  {
   "cell_type": "code",
   "execution_count": null,
   "metadata": {},
   "outputs": [],
   "source": [
    "# | hide\n",
    "import nbdev\n",
    "\n",
    "nbdev.nbdev_export()"
   ]
  }
 ],
 "metadata": {
  "kernelspec": {
   "display_name": "python3",
   "language": "python",
   "name": "python3"
  },
  "language_info": {
   "name": "python",
   "version": "3.10.13"
  }
 },
 "nbformat": 4,
 "nbformat_minor": 2
}
