{
 "cells": [
  {
   "cell_type": "raw",
   "metadata": {},
   "source": [
    "---\n",
    "skip_exec: true    # Skips in tests\n",
    "skip_showdoc: true # Skips in docs builds\n",
    "---"
   ]
  },
  {
   "cell_type": "markdown",
   "metadata": {},
   "source": [
    "# Utilities for the models of this thesis\n",
    "> comment"
   ]
  },
  {
   "cell_type": "code",
   "execution_count": null,
   "metadata": {},
   "outputs": [],
   "source": [
    "# | default_exp models.util"
   ]
  },
  {
   "cell_type": "code",
   "execution_count": null,
   "metadata": {},
   "outputs": [],
   "source": [
    "# | export\n",
    "# libraries\n",
    "import matplotlib.pyplot as plt\n",
    "from isssm.typing import PGSSM\n",
    "from matplotlib.colors import Normalize\n",
    "import matplotlib.cm as cm\n",
    "import jax.numpy as jnp\n",
    "from jaxtyping import Float, Array\n",
    "import fastcore.test as fct"
   ]
  },
  {
   "cell_type": "markdown",
   "metadata": {},
   "source": [
    "## Visualization"
   ]
  },
  {
   "cell_type": "code",
   "execution_count": null,
   "metadata": {},
   "outputs": [],
   "source": [
    "# | export\n",
    "\n",
    "\n",
    "def __zero_to_nan(arr, eps=1e-10):\n",
    "    return jnp.where(jnp.abs(arr) < eps, jnp.nan, arr)\n",
    "\n",
    "\n",
    "def visualize_pgssm(pgssm: PGSSM):\n",
    "    fig, axes = plt.subplots(nrows=1, ncols=3)\n",
    "    cmap = cm.get_cmap(\"viridis\")\n",
    "\n",
    "    A, B, D, Sigma = pgssm.A[0], pgssm.B[0], pgssm.D[0], pgssm.Sigma[0]\n",
    "    max = jnp.max(jnp.array([A.max(), B.max(), D.max()]))\n",
    "    min = jnp.min(jnp.array([A.min(), B.min(), D.min()]))\n",
    "\n",
    "    normalizer = Normalize(min, max)\n",
    "    im = cm.ScalarMappable(norm=normalizer)\n",
    "    axes[0].imshow(__zero_to_nan(A), cmap=cmap, norm=normalizer)\n",
    "    axes[0].set_title(\"A\")\n",
    "    axes[1].imshow(__zero_to_nan(B), cmap=cmap, norm=normalizer)\n",
    "    axes[1].set_title(\"B\")\n",
    "    axes[2].imshow(__zero_to_nan(D), cmap=cmap, norm=normalizer)\n",
    "    axes[2].set_title(\"D\")\n",
    "\n",
    "    fig.colorbar(im, ax=axes.ravel().tolist())\n",
    "    plt.show()\n",
    "\n",
    "    plt.imshow(__zero_to_nan(Sigma))\n",
    "    plt.colorbar()\n",
    "    plt.show()"
   ]
  },
  {
   "cell_type": "markdown",
   "metadata": {},
   "source": [
    "## Computation"
   ]
  },
  {
   "cell_type": "markdown",
   "metadata": {},
   "source": [
    "For $p \\in \\mathbf R^{k}_{>0}$ with $\\sum_{i = 1}^k p_{i} = 1$, let $\\log q_i = \\log \\frac{p_{i}}{p_{k}}$ for $i = 1, \\dots, k -1$. Then \n",
    "$$\n",
    "    p_{k} = \\frac{1}{1 + \\sum_{i = 1}^{k-1}q_{i}},\n",
    "$$\n",
    "so \n",
    "$$\n",
    "    p_{i} = q_{i} p_{k} = \\frac{q_{i}}{1 + \\sum_{i = 1}^{k-1}q_{i}}.\n",
    "\n",
    "$$\n",
    "\n"
   ]
  },
  {
   "cell_type": "code",
   "execution_count": null,
   "metadata": {},
   "outputs": [],
   "source": [
    "# | export\n",
    "def to_log_probs(log_ratios: Float[Array, \"k-1\"]) -> Float[Array, \"k\"]:\n",
    "    exp_q = jnp.exp(log_ratios)\n",
    "    p_n_delay = 1 / (1 + exp_q.sum(axis=-1, keepdims=True))\n",
    "    log_p = jnp.log(jnp.concatenate([exp_q * p_n_delay, p_n_delay], axis=-1))\n",
    "    return log_p"
   ]
  },
  {
   "cell_type": "code",
   "execution_count": null,
   "metadata": {},
   "outputs": [],
   "source": [
    "# | hide\n",
    "fct.test_close(to_log_probs(jnp.zeros(4)), jnp.log(jnp.ones(5) / 5))"
   ]
  },
  {
   "cell_type": "markdown",
   "metadata": {},
   "source": [
    "Another parametrization takes consecutive conditonal probabilities, using logits to make the problem unconstrained.\n",
    "\n",
    "Thus for $p\\in \\mathbf R^k$ we have\n",
    "$$\n",
    "    q_{i} = \\frac{p_{i}}{1 - \\sum_{j = 1}^{i - 1} p_{i}},\n",
    "$$\n",
    "for $i = 1, \\dots, k - 1$ ($q_k$ is $1$ and can be discarded).  \n",
    "\n",
    "Then for $i = 1, \\dots, k$ \n",
    "$$\n",
    "    p_{i} = q_{i} \\prod_{j = 1}^{i - 1}(1 - q_j).\n",
    "$$\n",
    "\n",
    "\n"
   ]
  },
  {
   "cell_type": "code",
   "execution_count": null,
   "metadata": {},
   "outputs": [],
   "source": [
    "# | export\n",
    "import jax.scipy as jsp\n",
    "\n",
    "\n",
    "def to_consecutive_logits(probs: Float[Array, \"k\"]) -> Float[Array, \"k-1\"]:\n",
    "    cum_probs = jnp.cumsum(probs[..., ::-1], axis=-1)[..., ::-1]\n",
    "    return jsp.special.logit(probs[:-1] / cum_probs[:-1])\n",
    "\n",
    "\n",
    "def from_consecutive_logits(\n",
    "    consecutive_logits: Float[Array, \"k-1\"]\n",
    ") -> Float[Array, \"k\"]:\n",
    "    q = jsp.special.expit(consecutive_logits)\n",
    "    q_ext = jnp.concatenate(\n",
    "        (jnp.zeros_like(q[..., :1]), q, jnp.ones_like(q[..., :1])), axis=-1\n",
    "    )\n",
    "\n",
    "    p = q_ext[..., 1:] * jnp.cumprod(1 - q_ext[..., :-1], axis=-1)\n",
    "    return p"
   ]
  },
  {
   "cell_type": "code",
   "execution_count": null,
   "metadata": {},
   "outputs": [],
   "source": [
    "# | hide\n",
    "from jax import random"
   ]
  },
  {
   "cell_type": "code",
   "execution_count": null,
   "metadata": {},
   "outputs": [],
   "source": [
    "# | hide\n",
    "fct.test_close(\n",
    "    to_consecutive_logits(jnp.ones(3) / 3), jsp.special.logit(jnp.array([1 / 3, 1 / 2]))\n",
    ")\n",
    "fct.test_close(\n",
    "    from_consecutive_logits(jsp.special.logit(jnp.array([1 / 3, 1 / 2]))),\n",
    "    jnp.ones(3) / 3,\n",
    ")\n",
    "fct.test_close(\n",
    "    to_consecutive_logits(jnp.array([1 / 2, 1 / 4, 1 / 8, 1 / 16, 1 / 16])),\n",
    "    jnp.array([0.0, 0.0, 0.0, 0.0]),\n",
    ")\n",
    "\n",
    "random_logits = random.normal(random.PRNGKey(0), (100,))\n",
    "random_probs = from_consecutive_logits(random_logits)\n",
    "fct.test_close(to_consecutive_logits(random_probs), random_logits)\n",
    "fct.test_close(\n",
    "    from_consecutive_logits(to_consecutive_logits(random_probs)), random_probs\n",
    ")"
   ]
  },
  {
   "cell_type": "code",
   "execution_count": null,
   "metadata": {},
   "outputs": [],
   "source": [
    "# | hide\n",
    "import nbdev\n",
    "\n",
    "nbdev.nbdev_export()"
   ]
  }
 ],
 "metadata": {
  "kernelspec": {
   "display_name": "python3",
   "language": "python",
   "name": "python3"
  }
 },
 "nbformat": 4,
 "nbformat_minor": 2
}
