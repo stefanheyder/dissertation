{
 "cells": [
  {
   "cell_type": "raw",
   "metadata": {},
   "source": [
    "---\n",
    "skip_exec: true    # Skips in tests\n",
    "skip_showdoc: true # Skips in docs builds\n",
    "---"
   ]
  },
  {
   "cell_type": "markdown",
   "metadata": {},
   "source": [
    "# Model"
   ]
  },
  {
   "cell_type": "code",
   "execution_count": null,
   "metadata": {},
   "outputs": [],
   "source": [
    "# | default_exp models.hospitalization"
   ]
  },
  {
   "cell_type": "code",
   "execution_count": null,
   "metadata": {},
   "outputs": [],
   "source": [
    "# | export\n",
    "from pyprojroot.here import here\n",
    "import pandas as pd\n",
    "import jax.numpy as jnp\n",
    "import matplotlib.pyplot as plt\n",
    "from isssm.typing import PGSSM\n",
    "from tensorflow_probability.substrates.jax.distributions import Poisson\n",
    "from jax import config\n",
    "\n",
    "config.update(\"jax_enable_x64\", True)"
   ]
  },
  {
   "cell_type": "code",
   "execution_count": null,
   "metadata": {},
   "outputs": [],
   "source": [
    "# | export\n",
    "from ssm4epi.models.util import from_consecutive_logits, to_consecutive_logits\n",
    "import jax.scipy as jsp\n",
    "\n",
    "\n",
    "def hospitalization_model(theta, aux) -> PGSSM:\n",
    "    # log_s2_p, log_s2_q, *log_q = theta\n",
    "    log_s2_p, log_s2_q, log_s2_W, log_s2_0, log_p0 = theta\n",
    "    # log_q = jnp.array(log_q)\n",
    "    s2_p = jnp.exp(log_s2_p)\n",
    "    s2_q = jnp.exp(log_s2_q)\n",
    "    s2_W = jnp.exp(log_s2_W)\n",
    "    s2_0 = jnp.exp(log_s2_0)\n",
    "\n",
    "    np1, n_delay, n_weekday, I = aux\n",
    "    n = np1 - 1\n",
    "\n",
    "    r = 1 + (n_delay - 1) + n_weekday\n",
    "    m = (1 + 1) + (n_delay - 1) + 6 * n_weekday\n",
    "    p = n_delay\n",
    "\n",
    "    u0 = jnp.eye(m)[0] * log_p0\n",
    "    # A_p = jnp.eye(1)\n",
    "    A_p = jnp.array([[1.0, 1.0], [0.0, 1.0]])\n",
    "    A_q = jnp.eye(n_delay - 1)\n",
    "    A_W = jnp.array(\n",
    "        [\n",
    "            [-1.0, -1.0, -1.0, -1.0, -1.0, -1.0],\n",
    "            [1.0, 0.0, 0.0, 0.0, 0.0, 0.0],\n",
    "            [0.0, 1.0, 0.0, 0.0, 0.0, 0.0],\n",
    "            [0.0, 0.0, 1.0, 0.0, 0.0, 0.0],\n",
    "            [0.0, 0.0, 0.0, 1.0, 0.0, 0.0],\n",
    "            [0.0, 0.0, 0.0, 0.0, 1.0, 0.0],\n",
    "        ]\n",
    "    )\n",
    "    A = jsp.linalg.block_diag(A_p, A_q, *[A_W for i in range(n_weekday)])\n",
    "    D = jnp.hstack(\n",
    "        [\n",
    "            jnp.eye(m)[:, 1 : n_delay + 1],\n",
    "            jnp.eye(m)[:, n_delay + 1 : n_delay + 2],\n",
    "            jnp.eye(m)[:, n_delay + 7 : n_delay + 8],\n",
    "        ]\n",
    "    )\n",
    "    Sigma0 = s2_0 * jnp.eye(m)\n",
    "    Sigma = jnp.diag(\n",
    "        jnp.array([s2_p, *jnp.repeat(s2_q, n_delay - 1), *jnp.repeat(s2_W, n_weekday)])\n",
    "    )\n",
    "\n",
    "    # B = jnp.hstack((jnp.ones((p, 1)), jnp.eye(m - 1)))\n",
    "    def B_W(i):\n",
    "        return jnp.zeros((p, 6)).at[i + 1, 0].set(1.0)\n",
    "\n",
    "    B_p = jnp.hstack((jnp.eye(p)[:, 0:1], jnp.zeros((p, 1))))\n",
    "    B_logits = jnp.eye(p)[:, 1:]\n",
    "    B_Ws = [B_W(i) for i in range(n_weekday)]\n",
    "    B = jnp.hstack([B_p, B_logits, *B_Ws])\n",
    "\n",
    "    u = jnp.zeros((np1, m)).at[0].set(u0)\n",
    "    A = jnp.broadcast_to(A, (n, m, m))\n",
    "    D = jnp.broadcast_to(D, (n, m, r))\n",
    "    Sigma = jnp.broadcast_to(Sigma, (n, r, r))\n",
    "    v = jnp.zeros((np1, p))\n",
    "    B = jnp.broadcast_to(B, (np1, p, m))\n",
    "\n",
    "    def hospitalization_dist(signal, xi):\n",
    "        log_I7 = xi[..., :1, 0]\n",
    "\n",
    "        log_p, logit_qs = jnp.split(signal, [1], axis=-1)\n",
    "        log_delay_probs = jnp.log(from_consecutive_logits(logit_qs))\n",
    "        log_lambda = log_I7 + log_p + log_delay_probs\n",
    "\n",
    "        return Poisson(log_rate=log_lambda)\n",
    "\n",
    "    dist = hospitalization_dist\n",
    "    xi = jnp.broadcast_to(jnp.log(I)[:, None, None], (np1, p, 1))\n",
    "    return PGSSM(u, A, D, Sigma0, Sigma, v, B, dist, xi)"
   ]
  },
  {
   "cell_type": "code",
   "execution_count": null,
   "metadata": {},
   "outputs": [],
   "source": [
    "# | export\n",
    "\n",
    "import isssm.laplace_approximation\n",
    "from jax.lax import cond\n",
    "\n",
    "\n",
    "def _initial_guess(xi_t, y_t, dist, link=isssm.laplace_approximation.default_link):\n",
    "    log_I7 = xi_t[0, 1]\n",
    "    is_y_available = xi_t[:, 0] != 0\n",
    "    log_p_est = jnp.log(y_t.sum()) - log_I7\n",
    "    # slightly biased to avoid log(0)\n",
    "    delay_probs_est = (y_t + 1.0) / (y_t + 1.0).sum()\n",
    "    logit_delay_est = to_consecutive_logits(delay_probs_est)\n",
    "\n",
    "    non_nan_guess = jnp.array([log_p_est, *logit_delay_est]) * jnp.concatenate(\n",
    "        (jnp.array([1.0]), is_y_available[:-1])\n",
    "    )\n",
    "    # any_missing = jnp.any(xi_t[..., 0] == 0)\n",
    "    # return cond(any_missing, lambda *_: nan_guess, lambda *_: non_nan_guess)\n",
    "    return non_nan_guess\n",
    "\n",
    "\n",
    "isssm.laplace_approximation._initial_guess = _initial_guess\n",
    "from ssm4epi.patch import full_deps"
   ]
  },
  {
   "cell_type": "code",
   "execution_count": null,
   "metadata": {},
   "outputs": [],
   "source": [
    "# | export\n",
    "\n",
    "hospitalization_data = pd.read_csv(here() / \"data/processed/seven_day_H_I_by_age.csv\")\n",
    "\n",
    "unique_a = hospitalization_data[\"a\"].unique()\n",
    "dates = hospitalization_data[\"s\"].unique()\n",
    "h_by_age = [\n",
    "    jnp.asarray(\n",
    "        hospitalization_data[hospitalization_data[\"a\"] == a]\n",
    "        .pivot(index=\"s\", columns=\"k\", values=\"h\")\n",
    "        .to_numpy()\n",
    "    )\n",
    "    for a in unique_a\n",
    "]\n",
    "I_by_age = [\n",
    "    jnp.asarray(\n",
    "        hospitalization_data[hospitalization_data[\"a\"] == a]\n",
    "        .pivot(index=\"s\", columns=\"k\", values=\"I\")\n",
    "        .to_numpy()\n",
    "    )[:, 0]\n",
    "    for a in unique_a\n",
    "]"
   ]
  },
  {
   "cell_type": "markdown",
   "metadata": {},
   "source": [
    "- NowcastHub period: Monday 22 November 2021 to Friday 29 April 2022\n",
    "- date of final evaluation: 8 August 2022"
   ]
  },
  {
   "cell_type": "code",
   "execution_count": null,
   "metadata": {},
   "outputs": [],
   "source": [
    "dates[0], dates[-1]"
   ]
  },
  {
   "cell_type": "code",
   "execution_count": null,
   "metadata": {},
   "outputs": [],
   "source": [
    "a_index = -1\n",
    "h = h_by_age[a_index]\n",
    "I = I_by_age[a_index]\n",
    "unique_a[a_index]"
   ]
  },
  {
   "cell_type": "code",
   "execution_count": null,
   "metadata": {},
   "outputs": [],
   "source": [
    "[jnp.max(h_by_age[i].sum(axis=-1) / I_by_age[i]) for i in range(len(unique_a))]"
   ]
  },
  {
   "cell_type": "code",
   "execution_count": null,
   "metadata": {},
   "outputs": [],
   "source": [
    "np1 = 158\n",
    "i_start = 231\n",
    "i_end = i_start + np1\n",
    "\n",
    "n_delay = 4\n",
    "y = h[i_start : i_start + np1, :n_delay]\n",
    "\n",
    "p0_hat = y[:7].sum() / I[i_start : i_start + 7].sum()\n",
    "n_weekday = 2\n",
    "aux = (np1, n_delay, n_weekday, I[i_start : i_start + np1])\n",
    "theta_manual = jnp.log(\n",
    "    jnp.array(\n",
    "        [1**2, 1**2, 0.1**2, 0.1**2, p0_hat]  # s2_p  # s2_q  # s2_W  # p0  # s2_0\n",
    "    )\n",
    ")\n",
    "\n",
    "model_manual = hospitalization_model(theta_manual, aux)"
   ]
  },
  {
   "cell_type": "code",
   "execution_count": null,
   "metadata": {},
   "outputs": [],
   "source": [
    "plt.plot(y / I[i_start : i_start + np1][:, None])"
   ]
  },
  {
   "cell_type": "code",
   "execution_count": null,
   "metadata": {},
   "outputs": [],
   "source": [
    "# | export\n",
    "import pandas as pd\n",
    "\n",
    "delays_per_age = pd.DataFrame(\n",
    "    {\"a_index\": range(len(unique_a)), \"n_delays\": [5, 5, 7, 7, 8, 8, 8]}\n",
    ")"
   ]
  },
  {
   "cell_type": "code",
   "execution_count": null,
   "metadata": {},
   "outputs": [],
   "source": [
    "plt.plot(y)\n",
    "plt.show()"
   ]
  },
  {
   "cell_type": "code",
   "execution_count": null,
   "metadata": {},
   "outputs": [],
   "source": [
    "from ssm4epi.models.util import visualize_pgssm\n",
    "\n",
    "visualize_pgssm(model_manual)"
   ]
  },
  {
   "cell_type": "code",
   "execution_count": null,
   "metadata": {},
   "outputs": [],
   "source": [
    "from isssm.estimation import initial_theta\n",
    "\n",
    "theta0_result = initial_theta(y, hospitalization_model, theta_manual, aux, 100)\n",
    "theta0 = theta0_result.x\n",
    "theta0_result"
   ]
  },
  {
   "cell_type": "code",
   "execution_count": null,
   "metadata": {},
   "outputs": [],
   "source": [
    "model0 = hospitalization_model(theta0, aux)\n",
    "sds = jnp.exp(theta0[:4] / 2)\n",
    "p0 = jnp.exp(theta0[4])\n",
    "plt.scatter(jnp.arange(4), sds)\n",
    "plt.scatter(4, p0)\n",
    "plt.xticks(jnp.arange(5), [\"s_p\", \"s_q\", \"s_W\", \"s_0\", \"p0\"])\n",
    "plt.show()"
   ]
  },
  {
   "cell_type": "code",
   "execution_count": null,
   "metadata": {},
   "outputs": [],
   "source": [
    "from isssm.laplace_approximation import laplace_approximation as LA\n",
    "from isssm.modified_efficient_importance_sampling import (\n",
    "    modified_efficient_importance_sampling as MEIS,\n",
    ")\n",
    "from isssm.importance_sampling import pgssm_importance_sampling, ess_pct\n",
    "import jax.random as jrn\n",
    "\n",
    "proposal_la, info_la = LA(y, model0, 100)\n",
    "key = jrn.PRNGKey(423423423)\n",
    "key, subkey = jrn.split(key)\n",
    "proposal_meis, info_meis = MEIS(\n",
    "    y, model0, proposal_la.z, proposal_la.Omega, 100, 10000, subkey\n",
    ")\n",
    "key, subkey = jrn.split(key)\n",
    "samples, log_weights = pgssm_importance_sampling(\n",
    "    y, model0, proposal_meis.z, proposal_meis.Omega, 1000, subkey\n",
    ")\n",
    "ess_pct(log_weights)"
   ]
  },
  {
   "cell_type": "code",
   "execution_count": null,
   "metadata": {},
   "outputs": [],
   "source": [
    "jnp.linalg.eigvalsh(proposal_la.Omega).min()"
   ]
  },
  {
   "cell_type": "code",
   "execution_count": null,
   "metadata": {},
   "outputs": [],
   "source": [
    "# | export\n",
    "from isssm.importance_sampling import mc_integration\n",
    "from isssm.kalman import state_mode\n",
    "from jax import vmap\n",
    "from isssm.importance_sampling import ess_pct\n",
    "\n",
    "\n",
    "def visualize_model_fit(samples, log_weights, model, i_start, np1, y, a_index):\n",
    "    post = mc_integration(samples, log_weights)\n",
    "    post_state = mc_integration(\n",
    "        vmap(state_mode, (None, 0))(model, samples), log_weights\n",
    "    )\n",
    "\n",
    "    _, n_delay = y.shape\n",
    "\n",
    "    fig, axs = plt.subplots(3, 2, figsize=(10, 10))\n",
    "    fig.suptitle(f\"Age group {unique_a[a_index]} - ESS {ess_pct(log_weights):.2f}%\")\n",
    "    fig.tight_layout()\n",
    "    axs = axs.flatten()\n",
    "\n",
    "    axs[0].plot(\n",
    "        jnp.exp(post[:, 0]) * I_by_age[a_index][i_start : i_start + np1],\n",
    "        label=\"predicted\",\n",
    "    )\n",
    "    axs[0].plot(y.sum(axis=-1), label=\"truth\")\n",
    "    axs[0].legend()\n",
    "    axs[0].set_title(f\"Total hospitalizations after {n_delay} weeks\")\n",
    "\n",
    "    axs[1].plot(jnp.exp(post_state[:, 0]))\n",
    "    axs[1].set_title(\"probability of hospitalization\")\n",
    "\n",
    "    axs[2].plot(from_consecutive_logits(post[:, 1:]), linestyle=\"--\")\n",
    "    axs[2].plot(from_consecutive_logits(post_state[:, 2 : (2 + n_delay - 1)]))\n",
    "    axs[2].set_title(\"delay probabilities\")\n",
    "\n",
    "    axs[3].plot(post_state[:, 2 : (2 + n_delay - 1)])\n",
    "    axs[3].set_title(\"delay logits\")\n",
    "\n",
    "    axs[4].plot(post_state[:, (2 + n_delay - 1)])\n",
    "    axs[4].plot(post_state[:, (2 + n_delay - 1) + 6])\n",
    "    axs[4].set_title(\"weekday effects\")\n",
    "\n",
    "    axs[5].plot(post_state[:, 1])\n",
    "    axs[5].set_title(\"hosp. prob speed\")\n",
    "\n",
    "    plt.show()"
   ]
  },
  {
   "cell_type": "code",
   "execution_count": null,
   "metadata": {},
   "outputs": [],
   "source": []
  },
  {
   "cell_type": "code",
   "execution_count": null,
   "metadata": {},
   "outputs": [],
   "source": [
    "visualize_model_fit(samples, log_weights, model0, i_start, np1, y, a_index)"
   ]
  },
  {
   "cell_type": "markdown",
   "metadata": {},
   "source": [
    "## Missingness\n",
    "\n",
    "Deviate from standard setup: now missing indices of $B$ differ from those of $Y$."
   ]
  },
  {
   "cell_type": "code",
   "execution_count": null,
   "metadata": {},
   "outputs": [],
   "source": [
    "# | export\n",
    "from jaxtyping import Array, Float\n",
    "\n",
    "\n",
    "def account_for_nans(\n",
    "    model: PGSSM, y, missing_y_indices, missing_s_indices\n",
    ") -> tuple[PGSSM, Float]:\n",
    "    # only works for Poisson!\n",
    "    # missing_indices = jnp.isnan(y)\n",
    "\n",
    "    y_missing = jnp.nan_to_num(y, nan=0.0)\n",
    "\n",
    "    v = model.v.at[missing_s_indices].set(0.0)\n",
    "    B = model.B.at[missing_s_indices].set(0.0)\n",
    "\n",
    "    xi_missing = jnp.ones_like(y).at[missing_y_indices].set(0.0)[..., None]\n",
    "    xi = jnp.concatenate([xi_missing, model.xi], -1)\n",
    "\n",
    "    def missing_dist(s, xi):\n",
    "        xi_missing, old_xi = xi[..., 0], xi[..., 1:]\n",
    "        old_dist = model.dist(s, old_xi)\n",
    "        # if xi == 0. the log rate becomes -inf, so dist is dirac_0\n",
    "        return Poisson(log_rate=old_dist.log_rate + jnp.log(xi_missing))\n",
    "\n",
    "    model_missing = PGSSM(\n",
    "        u=model.u,\n",
    "        A=model.A,\n",
    "        D=model.D,\n",
    "        Sigma0=model.Sigma0,\n",
    "        Sigma=model.Sigma,\n",
    "        v=v,\n",
    "        B=B,\n",
    "        dist=missing_dist,\n",
    "        xi=xi,\n",
    "    )\n",
    "\n",
    "    return model_missing, y_missing"
   ]
  },
  {
   "cell_type": "markdown",
   "metadata": {},
   "source": [
    "test: make everything in the last week of observations missing, except initial observation"
   ]
  },
  {
   "cell_type": "code",
   "execution_count": null,
   "metadata": {},
   "outputs": [],
   "source": [
    "# | export\n",
    "from jax.lax import fori_loop\n",
    "\n",
    "\n",
    "def make_y_nan(y: Float):\n",
    "    _, n_delay = y.shape\n",
    "    y_nan = y.astype(jnp.float64)\n",
    "    for i in range(n_delay):\n",
    "        y_nan = y_nan.at[(-7 * (i + 1) + 1) :, (i + 1) :].set(jnp.nan)\n",
    "    return y_nan"
   ]
  },
  {
   "cell_type": "code",
   "execution_count": null,
   "metadata": {},
   "outputs": [],
   "source": [
    "plt.plot(y[-30:])\n",
    "plt.axvline(10)\n",
    "plt.show()"
   ]
  },
  {
   "cell_type": "code",
   "execution_count": null,
   "metadata": {},
   "outputs": [],
   "source": [
    "y_nan = make_y_nan(y)\n",
    "# need fewer data for missingness\n",
    "np1_miss = 100\n",
    "y_nan = y_nan[-np1_miss:]\n",
    "# y_nan = y_nan[:83]\n",
    "np1_miss, _ = y_nan.shape\n",
    "missing_y_indices = jnp.isnan(y_nan)\n",
    "missing_s_indicies = jnp.concatenate(\n",
    "    (jnp.full((np1_miss, 1), False, dtype=bool), missing_y_indices[:, :-1]), axis=-1\n",
    ")\n",
    "missing_s_indicies = missing_y_indices\n",
    "aux_miss = (np1_miss, n_delay, n_weekday, I[i_start + (np1 - np1_miss) : i_start + np1])\n",
    "\n",
    "theta_manual_missing = theta0\n",
    "_, y_miss = account_for_nans(\n",
    "    hospitalization_model(theta0, aux_miss),\n",
    "    y_nan,\n",
    "    missing_y_indices,\n",
    "    missing_s_indicies,\n",
    ")\n",
    "_model_miss = lambda theta, aux: account_for_nans(\n",
    "    hospitalization_model(theta, aux), y_nan, missing_y_indices, missing_s_indicies\n",
    ")[0]\n",
    "\n",
    "theta0_missing_result = initial_theta(\n",
    "    y_miss, _model_miss, theta_manual_missing, aux_miss, 10\n",
    ")\n",
    "theta0_missing = theta0_missing_result.x\n",
    "theta0_missing_result"
   ]
  },
  {
   "cell_type": "code",
   "execution_count": null,
   "metadata": {},
   "outputs": [],
   "source": [
    "jnp.linalg.eigvalsh(proposal_la.Omega).min()"
   ]
  },
  {
   "cell_type": "code",
   "execution_count": null,
   "metadata": {},
   "outputs": [],
   "source": [
    "model_miss0 = _model_miss(theta0_missing, aux_miss)\n",
    "proposal_la, info_la = LA(y_miss, model_miss0, 10000, eps=1e-10)\n",
    "jnp.min(vmap(jnp.linalg.eigvalsh)(proposal_la.Omega))\n",
    "plt.figure(figsize=(20, 8))\n",
    "plt.imshow(jnp.linalg.eigvalsh(proposal_la.Omega).T)\n",
    "plt.colorbar()"
   ]
  },
  {
   "cell_type": "code",
   "execution_count": null,
   "metadata": {},
   "outputs": [],
   "source": [
    "plt.figure(figsize=(20, 8))\n",
    "plt.imshow(missing_y_indices.T)\n",
    "# plt.colorbar()\n",
    "plt.show()"
   ]
  },
  {
   "cell_type": "code",
   "execution_count": null,
   "metadata": {},
   "outputs": [],
   "source": [
    "jnp.linalg.eigvalsh(proposal_la.Omega).min()"
   ]
  },
  {
   "cell_type": "code",
   "execution_count": null,
   "metadata": {},
   "outputs": [],
   "source": [
    "# print(jnp.linalg.eigvalsh(proposal_la.Omega).min(axis=1)[80:])\n",
    "# print(missing_y_indices[78:])\n",
    "plt.imshow(proposal_la.Omega[80])\n",
    "plt.colorbar()\n",
    "print(jnp.exp(model_miss0.dist(proposal_la.z, model_miss0.xi).log_rate[80]))\n",
    "print(y_miss[80])\n",
    "print(jnp.linalg.eigvalsh(proposal_la.Omega).min())"
   ]
  },
  {
   "cell_type": "code",
   "execution_count": null,
   "metadata": {},
   "outputs": [],
   "source": []
  },
  {
   "cell_type": "code",
   "execution_count": null,
   "metadata": {},
   "outputs": [],
   "source": [
    "key, subkey = jrn.split(key)\n",
    "# proposal_meis, info_meis = MEIS(\n",
    "#    y_miss,\n",
    "#    model_miss0,\n",
    "#    proposal_la.z,\n",
    "#    proposal_la.Omega,\n",
    "#    100,\n",
    "#    10000,\n",
    "#    subkey,\n",
    "# )\n",
    "key, subkey = jrn.split(key)\n",
    "samples, log_weights = pgssm_importance_sampling(\n",
    "    y_miss,\n",
    "    model_miss0,\n",
    "    proposal_la.z,\n",
    "    proposal_la.Omega,\n",
    "    10000,\n",
    "    subkey,\n",
    ")\n",
    "\n",
    "ess_pct(log_weights)"
   ]
  },
  {
   "cell_type": "code",
   "execution_count": null,
   "metadata": {},
   "outputs": [],
   "source": [
    "# | hide\n",
    "import nbdev\n",
    "\n",
    "nbdev.nbdev_export()"
   ]
  },
  {
   "cell_type": "code",
   "execution_count": null,
   "metadata": {},
   "outputs": [],
   "source": [
    "from isssm.laplace_approximation import posterior_mode\n",
    "\n",
    "jnp.exp(posterior_mode(proposal_la)[:2, 0])"
   ]
  },
  {
   "cell_type": "code",
   "execution_count": null,
   "metadata": {},
   "outputs": [],
   "source": [
    "visualize_model_fit(\n",
    "    samples,\n",
    "    log_weights,\n",
    "    model_miss0,\n",
    "    i_start + (np1 - np1_miss),\n",
    "    np1_miss,\n",
    "    y_miss,\n",
    "    a_index,\n",
    ")"
   ]
  },
  {
   "cell_type": "code",
   "execution_count": null,
   "metadata": {},
   "outputs": [],
   "source": [
    "post = mc_integration(samples, log_weights)\n",
    "post_state = mc_integration(\n",
    "    vmap(state_mode, (None, 0))(model_miss0, samples), log_weights\n",
    ")\n",
    "\n",
    "fig, axs = plt.subplots(3, 2, figsize=(10, 10))\n",
    "axs = axs.flatten()\n",
    "axs[0].plot(jnp.exp(post[:, 0]) * I[i_start + (np1 - np1_miss) : i_start + np1])\n",
    "axs[0].plot(y[-(np1_miss):].sum(axis=-1))\n",
    "axs[1].plot(jnp.exp(post[:, 0]))\n",
    "\n",
    "axs[2].plot(from_consecutive_logits(post[:, 1:]), linestyle=\"--\")\n",
    "axs[2].plot(from_consecutive_logits(post_state[:, 1:8]))\n",
    "axs[3].plot(post_state[:, 1:8])\n",
    "axs[4].plot(post_state[:, 8])\n",
    "axs[4].plot(post_state[:, 8 + 6])\n",
    "\n",
    "plt.show()"
   ]
  },
  {
   "cell_type": "code",
   "execution_count": null,
   "metadata": {},
   "outputs": [],
   "source": [
    "from isssm.importance_sampling import prediction\n",
    "\n",
    "\n",
    "def f_nowcast(x, s, y):\n",
    "    return jnp.sum((missing_y_indices * y) + (1 - missing_y_indices) * y_miss, axis=-1)\n",
    "\n",
    "\n",
    "key, subkey = jrn.split(key)\n",
    "preds = prediction(\n",
    "    f_nowcast,\n",
    "    y_miss,\n",
    "    proposal_la,\n",
    "    _model_miss(theta0_missing, aux_miss),\n",
    "    10000,\n",
    "    subkey,\n",
    "    jnp.array([0.025, 0.5, 0.975]),\n",
    "    hospitalization_model(theta0_missing, aux_miss),\n",
    ")"
   ]
  },
  {
   "cell_type": "code",
   "execution_count": null,
   "metadata": {},
   "outputs": [],
   "source": [
    "# plt.plot(preds[0])\n",
    "# plt.plot(preds[2][1])\n",
    "plt.plot(jnp.clip(preds[2][0], 0.0), linestyle=\"--\", color=\"grey\")\n",
    "plt.plot(preds[2][2], linestyle=\"--\", color=\"grey\")\n",
    "plt.plot(y.sum(axis=-1)[-np1_miss:])\n",
    "plt.show()"
   ]
  },
  {
   "cell_type": "code",
   "execution_count": null,
   "metadata": {},
   "outputs": [],
   "source": [
    "# | hide\n",
    "import nbdev\n",
    "\n",
    "nbdev.nbdev_export()"
   ]
  }
 ],
 "metadata": {
  "kernelspec": {
   "display_name": "python3",
   "language": "python",
   "name": "python3"
  }
 },
 "nbformat": 4,
 "nbformat_minor": 2
}
