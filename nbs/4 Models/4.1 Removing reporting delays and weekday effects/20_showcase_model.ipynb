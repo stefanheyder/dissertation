{
 "cells": [
  {
   "cell_type": "raw",
   "metadata": {},
   "source": [
    "---\n",
    "skip_exec: true    # Skips in tests\n",
    "skip_showdoc: true # Skips in docs builds\n",
    "---"
   ]
  },
  {
   "cell_type": "markdown",
   "metadata": {},
   "source": [
    "# Application 1: Showcase\n",
    "\n",
    "- fit baseline model to period of April 2020 - end of November 2020, everything observed"
   ]
  },
  {
   "cell_type": "code",
   "execution_count": null,
   "metadata": {},
   "outputs": [],
   "source": [
    "from ssm4epi.models.reporting_delays import (\n",
    "    _model,\n",
    "    to_log_probs,\n",
    "    n_iterations,\n",
    "    N_meis,\n",
    "    N_mle,\n",
    "    N_posterior,\n",
    "    key,\n",
    "    percentiles_of_interest,\n",
    ")\n",
    "from pyprojroot.here import here"
   ]
  },
  {
   "cell_type": "code",
   "execution_count": null,
   "metadata": {},
   "outputs": [],
   "source": [
    "import jax\n",
    "\n",
    "jax.config.update(\"jax_enable_x64\", True)"
   ]
  },
  {
   "cell_type": "code",
   "execution_count": null,
   "metadata": {},
   "outputs": [],
   "source": [
    "import pandas as pd\n",
    "import jax.random as jrn\n",
    "from jax import numpy as jnp, vmap\n",
    "from isssm.laplace_approximation import laplace_approximation as LA\n",
    "from isssm.modified_efficient_importance_sampling import (\n",
    "    modified_efficient_importance_sampling as MEIS,\n",
    ")\n",
    "from isssm.estimation import mle_pgssm, initial_theta\n",
    "from isssm.importance_sampling import (\n",
    "    pgssm_importance_sampling,\n",
    "    ess_pct,\n",
    "    mc_integration,\n",
    "    prediction_percentiles,\n",
    "    normalize_weights,\n",
    ")\n",
    "from isssm.kalman import state_mode\n",
    "import matplotlib.pyplot as plt\n",
    "import matplotlib as mpl\n",
    "\n",
    "mpl.rcParams[\"figure.figsize\"] = (20, 6)"
   ]
  },
  {
   "cell_type": "code",
   "execution_count": null,
   "metadata": {},
   "outputs": [],
   "source": [
    "i_start = 0\n",
    "np1 = 150\n",
    "df = pd.read_csv(here() / \"data/processed/RKI_4day_rt.csv\")\n",
    "dates = pd.to_datetime(df.iloc[i_start : i_start + np1, 0])\n",
    "y = jnp.asarray(df.iloc[i_start : i_start + np1, 1:].to_numpy())\n",
    "\n",
    "plt.plot(dates, y)\n",
    "plt.title(f\"Incidences by delay from {dates[0]} to {dates[np1-1]}\")\n",
    "plt.show()"
   ]
  },
  {
   "cell_type": "code",
   "execution_count": null,
   "metadata": {},
   "outputs": [],
   "source": [
    "theta_manual = jnp.log(\n",
    "    # s2_log_rho, s2_W, s2_q, s2_M, s2_Wq\n",
    "    jnp.array([0.001**2, 0.1**2, 0.5**2, 0.01**2, 0.1**2])\n",
    ")\n",
    "aux = (np1, 4)\n",
    "intial_result = initial_theta(y, _model, theta_manual, aux, n_iterations)\n",
    "theta_0 = intial_result.x\n",
    "intial_result"
   ]
  },
  {
   "cell_type": "code",
   "execution_count": null,
   "metadata": {},
   "outputs": [],
   "source": [
    "key, subkey = jrn.split(key)\n",
    "mle_result = mle_pgssm(y, _model, theta_0, aux, n_iterations, N_mle, subkey)\n",
    "theta_hat = mle_result.x\n",
    "mle_result"
   ]
  },
  {
   "cell_type": "code",
   "execution_count": null,
   "metadata": {},
   "outputs": [],
   "source": [
    "s_manual = jnp.exp(theta_manual / 2)\n",
    "s_0 = jnp.exp(theta_0 / 2)\n",
    "s_mle = jnp.exp(theta_hat / 2)\n",
    "\n",
    "k = theta_manual.size\n",
    "plt.scatter(jnp.arange(k) - 0.2, s_manual, label=\"Manual\")\n",
    "plt.scatter(jnp.arange(k), s_0, label=\"Initial\")\n",
    "plt.scatter(jnp.arange(k) + 0.2, s_mle, label=\"MLE\")\n",
    "plt.xticks(jnp.arange(k), [\"$\\\\log \\\\rho$\", \"$W$\", \"$q$\", \"D\", \"$W_q$\"])\n",
    "plt.legend()\n",
    "plt.show()"
   ]
  },
  {
   "cell_type": "code",
   "execution_count": null,
   "metadata": {},
   "outputs": [],
   "source": [
    "fitted_model = _model(theta_hat, aux)\n",
    "proposal_la, info_la = LA(y, fitted_model, n_iterations)\n",
    "key, subkey = jrn.split(key)\n",
    "proposal_meis, info_meis = MEIS(\n",
    "    y, fitted_model, proposal_la.z, proposal_la.Omega, n_iterations, N_meis, subkey\n",
    ")\n",
    "key, subkey = jrn.split(key)\n",
    "samples, lw = pgssm_importance_sampling(\n",
    "    y, fitted_model, proposal_meis.z, proposal_meis.Omega, N_posterior, subkey\n",
    ")\n",
    "ess_pct(lw)"
   ]
  },
  {
   "cell_type": "code",
   "execution_count": null,
   "metadata": {},
   "outputs": [],
   "source": [
    "state_modes_meis = vmap(state_mode, (None, 0))(fitted_model, samples)\n",
    "x_smooth = mc_integration(state_modes_meis, lw)\n",
    "x_lower, x_mid, x_upper = prediction_percentiles(\n",
    "    state_modes_meis, normalize_weights(lw), jnp.array([2.5, 50.0, 97.5]) / 100.0\n",
    ")\n",
    "\n",
    "# I_smooth = jnp.exp(x_smooth[:, 0])\n",
    "I_smooth = mc_integration(jnp.exp(state_modes_meis[:, :, 0]), lw)\n",
    "rho_smooth = jnp.exp(x_smooth[:, 1])\n",
    "D_smooth = jnp.exp(x_smooth[:, 2])\n",
    "W_smooth = jnp.exp(x_smooth[:, 3])\n",
    "log_ratios = x_smooth[:, 9:12]\n",
    "log_probs = to_log_probs(log_ratios)\n",
    "\n",
    "weekday_log_ratios = x_smooth[:, jnp.array([12, 18, 24])]\n",
    "\n",
    "fig, axs = plt.subplots(4, 2, figsize=(15, 10))\n",
    "\n",
    "axs = axs.flatten()\n",
    "fig.tight_layout()\n",
    "\n",
    "axs[0].set_title(\"incidences\")\n",
    "axs[0].plot(dates, I_smooth, label=\"$I_t$\")\n",
    "# axs[0].plot(dates, jnp.exp(x_lower[:, 0]), color=\"black\", linestyle=\"dashed\")\n",
    "axs[0].plot(dates, y.sum(axis=1), label=\"$Y_t$\", color=\"grey\", alpha=0.5)\n",
    "axs[0].legend()\n",
    "\n",
    "axs[1].set_title(\"growth factor\")\n",
    "axs[1].plot(dates, jnp.exp(x_lower[:, 1]), color=\"grey\", alpha=0.5)\n",
    "axs[1].plot(dates, jnp.exp(x_upper[:, 1]), color=\"grey\", alpha=0.5)\n",
    "axs[1].plot(dates, rho_smooth, label=\"$\\\\log \\\\rho_t$\")\n",
    "\n",
    "axs[2].set_title(\"weekday effect\")\n",
    "axs[2].plot(dates, W_smooth, label=\"$W_t$\")\n",
    "\n",
    "axs[3].set_title(\"delay probabilities\")\n",
    "\n",
    "axs[3].plot(dates, jnp.exp(log_probs[:, 0]), label=\"$p_{t, 1}$\")\n",
    "axs[3].plot(dates, jnp.exp(log_probs[:, 1]), label=\"$p_{t, 2}$\")\n",
    "axs[3].plot(dates, jnp.exp(log_probs[:, 2]), label=\"$p_{t, 3}$\")\n",
    "axs[3].plot(dates, jnp.exp(log_probs[:, 3]), label=\"$p_{t, 4}$\")\n",
    "axs[3].plot(dates, jnp.exp(log_probs).sum(axis=1), label=\"total p\")\n",
    "axs[3].legend()\n",
    "\n",
    "axs[4].set_title(\"Log ratios\")\n",
    "axs[4].plot(dates, log_ratios[:, 0], label=\"$q_{t, 1}$\")\n",
    "axs[4].plot(dates, log_ratios[:, 1], label=\"$q_{t, 2}$\")\n",
    "axs[4].plot(dates, log_ratios[:, 2], label=\"$q_{t, 3}$\")\n",
    "for d in dates[::7]:\n",
    "    axs[4].axvline(d, color=\"black\", alpha=0.2)\n",
    "\n",
    "axs[5].set_title(\"Dirt\")\n",
    "axs[5].plot(dates, D_smooth)\n",
    "\n",
    "axs[6].set_title(\"Weekday effect log ratios\")\n",
    "axs[6].plot(dates, weekday_log_ratios[:, 0], label=\"$W_{t, 1}$\")\n",
    "axs[6].plot(dates, weekday_log_ratios[:, 1], label=\"$W_{t, 2}$\")\n",
    "axs[6].plot(dates, weekday_log_ratios[:, 2], label=\"$W_{t, 3}$\")\n",
    "axs[6].legend()\n",
    "plt.show()"
   ]
  },
  {
   "cell_type": "code",
   "execution_count": null,
   "metadata": {},
   "outputs": [],
   "source": [
    "from isssm.importance_sampling import prediction\n",
    "\n",
    "\n",
    "def f_I(x, s, y_prime):\n",
    "    return jnp.exp(x[:, 0:1])\n",
    "\n",
    "\n",
    "percentiles_of_interest = jnp.array(\n",
    "    [0.01, 0.025, *(0.05 * jnp.arange(1, 20)), 0.975, 0.99]\n",
    ")\n",
    "mean, sd, quantiles = prediction(\n",
    "    f_I, y, proposal_meis, fitted_model, 1000, key, percentiles_of_interest\n",
    ")\n",
    "plt.plot(dates, mean, label=\"mean\")\n",
    "plt.plot(dates, y.sum(axis=-1), label=\"observations\")\n",
    "plt.plot(dates, quantiles[0], linestyle=\"dashed\", color=\"black\", alpha=0.3)\n",
    "plt.plot(dates, quantiles[12], linestyle=\"dotted\", color=\"black\")\n",
    "plt.plot(dates, quantiles[-1], linestyle=\"dashed\", color=\"black\", alpha=0.3)\n",
    "plt.legend()\n",
    "plt.show()"
   ]
  },
  {
   "cell_type": "markdown",
   "metadata": {},
   "source": [
    "## Storing results"
   ]
  },
  {
   "cell_type": "code",
   "execution_count": null,
   "metadata": {},
   "outputs": [],
   "source": [
    "# theta\n",
    "df_theta = pd.DataFrame.from_records(\n",
    "    jnp.vstack([theta_manual, theta_0, theta_hat]),\n",
    "    columns=[\"log rho\", \"W\", \"q\", \"M\", \"W_q\"],\n",
    "    index=[\"manual\", \"initial\", \"MLE\"],\n",
    ")\n",
    "df_theta.to_csv(\n",
    "    here() / \"data/results/4_showcase_model/thetas.csv\", index_label=\"method\"\n",
    ")\n",
    "df_theta"
   ]
  },
  {
   "cell_type": "code",
   "execution_count": null,
   "metadata": {},
   "outputs": [],
   "source": [
    "from isssm.importance_sampling import prediction\n",
    "from jaxtyping import Float, Array\n",
    "\n",
    "# predictions\n",
    "\n",
    "# date / name / mean / sd / percentiles\n",
    "\n",
    "key, subkey_prediction = jrn.split(key)\n",
    "\n",
    "\n",
    "def f_predict(x, s, y):\n",
    "    probs = jnp.exp(to_log_probs(x[:, 9:12]))\n",
    "    probs_signal = jnp.exp(to_log_probs(s[:, 1:]))\n",
    "    I = jnp.exp(x[:, 0:1])\n",
    "    rho = jnp.exp(x[:, 1:2])\n",
    "    M = jnp.exp(x[:, 2:3])\n",
    "    W = jnp.exp(x[:, 3:4])\n",
    "    runn_W = jnp.convolve(jnp.exp(x[:, 3]), jnp.ones(7) / 7, mode=\"same\")[:, None]\n",
    "    Wq = jnp.exp(x[:, jnp.array([12, 18, 24])])\n",
    "    return jnp.concatenate(\n",
    "        [I, rho, M, W, runn_W, probs, probs_signal, Wq],\n",
    "        -1,\n",
    "    )\n",
    "\n",
    "\n",
    "def stacked_prediction(f):\n",
    "    mean, sd, quantiles = prediction(\n",
    "        f,\n",
    "        y,\n",
    "        proposal_meis,\n",
    "        fitted_model,\n",
    "        N_posterior,\n",
    "        subkey_prediction,\n",
    "        percentiles_of_interest,\n",
    "    )\n",
    "    return jnp.vstack((mean[None], sd[None], quantiles))\n",
    "\n",
    "\n",
    "jnp.save(\n",
    "    here() / \"data/results/4_showcase_model/predictions.npy\",\n",
    "    stacked_prediction(f_predict),\n",
    ")"
   ]
  }
 ],
 "metadata": {
  "kernelspec": {
   "display_name": "python3",
   "language": "python",
   "name": "python3"
  }
 },
 "nbformat": 4,
 "nbformat_minor": 2
}
