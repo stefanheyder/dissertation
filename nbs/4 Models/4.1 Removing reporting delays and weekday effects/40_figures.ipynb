{
 "cells": [
  {
   "cell_type": "raw",
   "metadata": {},
   "source": [
    "---\n",
    "skip_exec: true    # Skips in tests\n",
    "skip_showdoc: true # Skips in docs builds\n",
    "---"
   ]
  },
  {
   "cell_type": "markdown",
   "metadata": {},
   "source": [
    "# Figures"
   ]
  },
  {
   "cell_type": "markdown",
   "metadata": {},
   "source": [
    "## Showcase"
   ]
  },
  {
   "cell_type": "code",
   "execution_count": null,
   "metadata": {},
   "outputs": [],
   "source": [
    "library(here)\n",
    "source(here(\"setup.R\"))\n"
   ]
  },
  {
   "cell_type": "markdown",
   "metadata": {},
   "source": [
    "### Parameters"
   ]
  },
  {
   "cell_type": "code",
   "execution_count": null,
   "metadata": {},
   "outputs": [],
   "source": [
    "theta_showcase <- read_csv(here(\"data/results/4_showcase_model/thetas.csv\")) %>%\n",
    "    rename(\"\\\\rho\" = 2)\n",
    "theta_showcase\n",
    "\n",
    "variances <- theta_showcase %>%\n",
    "    mutate(across(where(is.numeric), ~ exp(.x)))\n",
    "\n",
    "sds <- variances %>%\n",
    "    mutate(across(where(is.numeric), ~ sqrt(.x)))\n",
    "\n",
    "var_log_M <- variances %>%\n",
    "    filter(method == \"MLE\") %>%\n",
    "    pull(M)\n",
    "\n",
    "var_M <- exp(var_log_M) - 1\n",
    "sd_M <- sqrt(var_M)\n",
    "\n",
    "c(\"var_M\" = var_M, \"sd_M\" = sd_M)\n"
   ]
  },
  {
   "cell_type": "markdown",
   "metadata": {},
   "source": [
    "#### `tables/showcase-parameters.tex`"
   ]
  },
  {
   "cell_type": "code",
   "execution_count": null,
   "metadata": {},
   "outputs": [],
   "source": [
    "# use scientific notation\n",
    "sds %>%\n",
    "    rename_with(function(col) str_glue(\"$\\\\hat\\\\sigma_{{ {col} }}$\"), where(is.numeric)) %>%\n",
    "    kable(format = \"latex\", format.args = list(scipen = 2, digits = 2), booktabs = T, escape = F) %>%\n",
    "    cat(., file = here(\"tables/showcase-parameters.tex\"))\n"
   ]
  },
  {
   "cell_type": "markdown",
   "metadata": {},
   "source": [
    "### Raw data\n",
    "\n"
   ]
  },
  {
   "cell_type": "code",
   "execution_count": null,
   "metadata": {},
   "outputs": [],
   "source": [
    "rep_tri <- read_csv(here(\"data/processed/RKI_4day_rt.csv\"))\n"
   ]
  },
  {
   "cell_type": "markdown",
   "metadata": {},
   "source": [
    "### Predictions"
   ]
  },
  {
   "cell_type": "code",
   "execution_count": null,
   "metadata": {},
   "outputs": [],
   "source": [
    "df_showcase <- read_predictions(\n",
    "    here(\"data/results/4_showcase_model/predictions.npy\"),\n",
    "    seq(ymd(\"2020-04-05\"), ymd(\"2020-09-01\"), by = \"1 day\"),\n",
    "    c(\"I\", \"$\\\\rho$\", \"M\", \"W\", \"running_W\", \"$p^s_1$\", \"$p^s_2$\", \"$p^s_3$\", \"$p^s_4$\", \"$p_1$\", \"$p_2$\", \"$p_3$\", \"$p_4$\", \"$W_{q_1}\", \"W_{q_2}\", \"W_{q_3}\")\n",
    ")\n"
   ]
  },
  {
   "cell_type": "markdown",
   "metadata": {},
   "source": [
    "#### `figures/showcase_prediction_intervals_I_rho.tex`"
   ]
  },
  {
   "cell_type": "code",
   "execution_count": null,
   "metadata": {},
   "outputs": [],
   "source": [
    "total_df <- rep_tri %>%\n",
    "    mutate(total = `1` + `2` + `3` + `4`) %>%\n",
    "    select(date = county_date, total)\n",
    "\n",
    "plt_I <- df_showcase %>%\n",
    "    filter(variable == \"I\") %>%\n",
    "    ggplot(aes(date, mean)) +\n",
    "    geom_ribbon(aes(date, ymin = `0.025`, ymax = `0.975`), fill = \"darkgreen\", alpha = .3) +\n",
    "    geom_line(aes(linetype = \"mean prediction\")) +\n",
    "    geom_line(aes(y = total, linetype = \"total reported cases\"), data = filter(total_df, date <= max(df_showcase$date))) +\n",
    "    labs(x = \"\", y = \"$Y_{t,\\\\cdot}$ / $I_{t}$\", linetype = \"\") +\n",
    "    scale_x_four_weekly()\n",
    "\n",
    "plt_rho <- df_showcase %>%\n",
    "    filter(variable == \"$\\\\rho$\") %>%\n",
    "    ggplot(aes(date, mean)) +\n",
    "    geom_ribbon(aes(date, ymin = `0.025`, ymax = `0.975`), fill = \"darkgreen\", alpha = .3) +\n",
    "    geom_line() +\n",
    "    geom_hline(yintercept = 1, linetype = \"dashed\", color = \"grey80\", size = 2) +\n",
    "    # geom_text(x = min(df_showcase$date), y = 1.00, label = \"threshold for \\n exponential growth\", color = \"grey80\", vjust = -1, hjust = .15, size = 2) +\n",
    "    labs(x = \"\", y = \"$\\\\rho$\") +\n",
    "    scale_y_continuous(\n",
    "        sec.axis = sec_axis(~ .^7, name = \"$\\\\rho^7$\", breaks = round(c(.9, .95, 1., 1.05, 1.1, 1.15)^7, 2))\n",
    "    ) +\n",
    "    scale_x_four_weekly()\n",
    "\n",
    "plt_I / plt_rho + plot_layout(guides = \"collect\") & theme(legend.position = \"top\")\n",
    "\n",
    "ggsave_tikz(here(\"tikz/showcase_prediction_intervals_I_rho.tex\"), height = default_height)\n"
   ]
  },
  {
   "cell_type": "markdown",
   "metadata": {},
   "source": [
    "#### `figures/showcase_prediction_intervals.tex`"
   ]
  },
  {
   "cell_type": "code",
   "execution_count": null,
   "metadata": {},
   "outputs": [],
   "source": [
    "plt_MW <- df_showcase %>%\n",
    "    filter((variable %in% c(\"M\", \"W\"))) %>%\n",
    "    ggplot(aes(date, mean)) +\n",
    "    geom_ribbon(aes(date, ymin = `0.025`, ymax = `0.975`), fill = \"darkgreen\", alpha = .3) +\n",
    "    geom_line() +\n",
    "    facet_wrap(~variable, scales = \"free_y\", ncol = 1) +\n",
    "    labs(x = \"\", y = \"\")\n",
    "\n",
    "plt_p <- df_showcase %>%\n",
    "    filter(str_starts(variable, \"\\\\$p\")) %>%\n",
    "    mutate(delay = str_extract(variable, \"\\\\d+\")) %>%\n",
    "    select(date, mean, variable, delay) %>%\n",
    "    mutate(variable = ifelse(str_detect(variable, \"s\"), \"smoothed\", \"signal\")) %>%\n",
    "    ggplot(aes(date, 100 * mean, color = delay, linetype = variable)) +\n",
    "    geom_line() +\n",
    "    scale_y_continuous(breaks = 20 * 0:5, limits = c(0, 1) * 100) +\n",
    "    scale_linetype_manual(values = c(\"signal\" = \"dotted\", \"smoothed\" = \"solid\")) +\n",
    "    labs(color = \"$\\\\tau$\", x = \"\", y = \"probability of delay [\\\\%]\", linetype = \"\")\n",
    "\n",
    "plt_MW / plt_p + plot_layout(guides = \"collect\") & theme(legend.position = \"bottom\") & scale_x_four_weekly()\n",
    "# theme(axis.text.x = element_text(angle = 45, hjust = 1))\n",
    "ggsave_tikz(here(\"tikz/showcase_prediction_intervals.tex\"), height = 1.5 * default_height)\n"
   ]
  },
  {
   "cell_type": "markdown",
   "metadata": {},
   "source": [
    "### Weekday effect changes slightly over time"
   ]
  },
  {
   "cell_type": "code",
   "execution_count": null,
   "metadata": {},
   "outputs": [],
   "source": [
    "df_showcase %>%\n",
    "    filter(variable == \"W\") %>%\n",
    "    pull(mean) %>%\n",
    "    head(-1) %>%\n",
    "    matrix(nrow = 7) %>%\n",
    "    t() %>%\n",
    "    matplot(type = \"l\")\n",
    "legend(\"bottomright\", lty = 1:7, legend = c(\"Sun\", \"Mon\", \"Tue\", \"Wed\", \"Thu\", \"Fri\", \"Sat\"), col = 1:7, cex = 0.8, bty = \"n\")\n"
   ]
  },
  {
   "cell_type": "markdown",
   "metadata": {},
   "source": [
    "### Weekly average of weekday effects close to 1"
   ]
  },
  {
   "cell_type": "code",
   "execution_count": null,
   "metadata": {},
   "outputs": [],
   "source": [
    "df_showcase %>%\n",
    "    filter(variable == \"running_W\") %>%\n",
    "    select(mean, sd) %>%\n",
    "    head(-3) %>%\n",
    "    tail(-3) %>%\n",
    "    summarize(mean(.$mean), mean(.$sd))\n"
   ]
  },
  {
   "cell_type": "code",
   "execution_count": null,
   "metadata": {},
   "outputs": [],
   "source": [
    "df_showcase %>%\n",
    "    filter(variable == \"running_W\") %>%\n",
    "    ggplot(aes(date, mean)) +\n",
    "    geom_line() +\n",
    "    geom_ribbon(aes(ymin = `0.025`, ymax = `0.975`), fill = \"darkgreen\", alpha = .3)\n"
   ]
  },
  {
   "cell_type": "markdown",
   "metadata": {},
   "source": [
    "### Heavier tails than normal tails in mean M."
   ]
  },
  {
   "cell_type": "code",
   "execution_count": null,
   "metadata": {},
   "outputs": [],
   "source": [
    "mean_Ms <- df_showcase %>%\n",
    "    filter(variable == \"M\") %>%\n",
    "    pull(mean)\n",
    "\n",
    "mean(mean_Ms)\n",
    "\n",
    "qqnorm(log(mean_Ms))\n",
    "qqline(log(mean_Ms))\n"
   ]
  },
  {
   "cell_type": "markdown",
   "metadata": {},
   "source": [
    "## Christmas"
   ]
  },
  {
   "cell_type": "markdown",
   "metadata": {},
   "source": [
    "### parameters"
   ]
  },
  {
   "cell_type": "code",
   "execution_count": null,
   "metadata": {},
   "outputs": [],
   "source": [
    "theta_christmas <- read_csv(here(\"data/results/4_christmas_model/thetas.csv\")) %>%\n",
    "    rename(\"\\\\rho\" = 2)\n",
    "theta_christmas_miss <- read_csv(here(\"data/results/4_christmas_model/thetas_miss.csv\")) %>%\n",
    "    rename(\"\\\\rho\" = 2)\n",
    "\n",
    "sds_christmas <- theta_christmas %>%\n",
    "    mutate(across(where(is.numeric), ~ exp(.x / 2)))\n",
    "sds_christmas_miss <- theta_christmas_miss %>%\n",
    "    mutate(across(where(is.numeric), ~ exp(.x / 2)))\n"
   ]
  },
  {
   "cell_type": "markdown",
   "metadata": {},
   "source": [
    "#### `tables/christmas-parameters.tex`"
   ]
  },
  {
   "cell_type": "code",
   "execution_count": null,
   "metadata": {},
   "outputs": [],
   "source": [
    "# use scientific notation\n",
    "sds_christmas %>%\n",
    "    mutate(model = \"full\") %>%\n",
    "    bind_rows(sds_christmas_miss %>% mutate(model = \"missing\")) %>%\n",
    "    select(-model) %>%\n",
    "    rename_with(function(col) str_glue(\"$\\\\hat\\\\sigma_{{ {col} }}$\"), where(is.numeric)) %>%\n",
    "    kable(format = \"latex\", format.args = list(scipen = 2, digits = 2), booktabs = T, escape = F) %>%\n",
    "    pack_rows(\"all observations\", 1, 3) %>%\n",
    "    pack_rows(\"Christmas removed\", 4, 6) %>%\n",
    "    cat(., file = here(\"tables/christmas-parameters.tex\"))\n"
   ]
  },
  {
   "cell_type": "markdown",
   "metadata": {},
   "source": [
    "### Predictions"
   ]
  },
  {
   "cell_type": "code",
   "execution_count": null,
   "metadata": {},
   "outputs": [],
   "source": [
    "df_christmas <- read_predictions(\n",
    "    here(\"data/results/4_christmas_model/predictions.npy\"),\n",
    "    seq(ymd(\"2020-10-01\"), ymd(\"2021-02-28\"), by = \"1 day\"),\n",
    "    c(\"I\", \"$\\\\rho$\", \"M\", \"W\", \"running_W\", \"$p^s_1$\", \"$p^s_2$\", \"$p^s_3$\", \"$p^s_4$\", \"$p_1$\", \"$p_2$\", \"$p_3$\", \"$p_4$\", \"$W_{q_1}\", \"W_{q_2}\", \"W_{q_3}\", \"y_christmas\")\n",
    ")\n",
    "\n",
    "df_christmas_missing <- read_predictions(\n",
    "    here(\"data/results/4_christmas_model/predictions_miss.npy\"),\n",
    "    seq(ymd(\"2020-10-01\"), ymd(\"2021-02-28\"), by = \"1 day\"),\n",
    "    c(\"I\", \"$\\\\rho$\", \"M\", \"W\", \"running_W\", \"$p^s_1$\", \"$p^s_2$\", \"$p^s_3$\", \"$p^s_4$\", \"$p_1$\", \"$p_2$\", \"$p_3$\", \"$p_4$\", \"$W_{q_1}\", \"W_{q_2}\", \"W_{q_3}\", \"y_christmas\")\n",
    ")\n"
   ]
  },
  {
   "cell_type": "code",
   "execution_count": null,
   "metadata": {},
   "outputs": [],
   "source": [
    "missing_indices <- 80:109\n",
    "dates_missing <- sort(unique(df_christmas$date))[missing_indices]\n",
    "range(dates_missing)"
   ]
  },
  {
   "cell_type": "markdown",
   "metadata": {},
   "source": [
    "### predictive distribution of total number of cases"
   ]
  },
  {
   "cell_type": "code",
   "execution_count": null,
   "metadata": {},
   "outputs": [],
   "source": [
    "imputed <- df_christmas_missing %>%\n",
    "    filter(variable == \"y_christmas\") %>%\n",
    "    head(1) %>%\n",
    "    select(-date, -variable) %>%\n",
    "    pivot_longer(everything()) %>%\n",
    "    deframe()\n",
    "\n",
    "removed <- total_df %>%\n",
    "    filter(date %in% dates_missing) %>%\n",
    "    summarize(sum(total)) %>%\n",
    "    pull()\n",
    "\n",
    "f_digit <- function(x) format(round(x, -3), big.mark = \",\")\n",
    "str_glue(\"Removed {format(removed, big.mark=',')} cases\")\n",
    "str_glue(\"Imputed cases: {f_digit(imputed['mean'])} +- {f_digit(imputed['sd'])}, 95% PI {f_digit(imputed['0.025'])} - {f_digit(imputed['0.975'])} \")\n"
   ]
  },
  {
   "cell_type": "code",
   "execution_count": null,
   "metadata": {},
   "outputs": [],
   "source": [
    "df_plot <- rbind(\n",
    "    mutate(df_christmas, model = \"all observations\"),\n",
    "    mutate(df_christmas_missing, model = \"Christmas removed\")\n",
    ") %>%\n",
    "    select(model, date, variable, mean, `0.025`, `0.975`) %>%\n",
    "    filter(variable %in% c(\"I\", \"$\\\\rho$\"))\n",
    "\n",
    "total_df_smoothed <- total_df %>%\n",
    "    mutate(total = rollmean(total, 7, 0, True, align = \"center\")) %>%\n",
    "    filter(date %in% unique(df_plot$date)) %>%\n",
    "    mutate(model = \"weekly average cases\")\n",
    "\n",
    "plt_I <- df_plot %>%\n",
    "    filter(variable == \"I\") %>%\n",
    "    ggplot(aes(date, mean, color = model)) +\n",
    "    geom_rect(xmin = min(dates_missing), xmax = max(dates_missing), ymin = -Inf, ymax = Inf, fill = \"gray\", alpha = .01, inherit.aes = F) +\n",
    "    geom_line(aes(date, total), data = total_df_smoothed) +\n",
    "    # geom_ribbon(aes(ymin = `0.025`, ymax = `0.975`, fill = model), alpha = .3) +\n",
    "    geom_line(aes(y = `0.025`, color = model), linetype = \"dotted\") +\n",
    "    geom_line(aes(y = `0.975`, color = model), linetype = \"dotted\") +\n",
    "    geom_line() +\n",
    "    labs(x = \"\", y = \"$I$\", fill = \"\", color = \"\") +\n",
    "    scale_color_manual(values = c(\"all observations\" = pal_npg()(3)[1], \"Christmas removed\" = pal_npg()(3)[2], \"weekly average cases\" = \"black\"))\n",
    "\n",
    "plt_rho <- df_plot %>%\n",
    "    filter(variable == \"$\\\\rho$\") %>%\n",
    "    ggplot(aes(date, mean, color = model)) +\n",
    "    # geom_rect(xmin = min(dates_missing), xmax = max(dates_missing), ymin = -Inf, ymax = Inf, fill = \"gray80\", alpha = .01, inherit.aes = F) +\n",
    "    # geom_ribbon(aes(ymin = `0.025`, ymax = `0.975`, fill = model), alpha = .3) +\n",
    "    geom_line(aes(y = `0.025`, color = model), linetype = \"dotted\", show.legend = F) +\n",
    "    geom_line(aes(y = `0.975`, color = model), linetype = \"dotted\", show.legend = F) +\n",
    "    geom_line(show.legend = F) +\n",
    "    labs(x = \"\", y = \"$\\\\rho$\", fill = \"\", color = \"\")\n",
    "\n",
    "\n",
    "plt_I / plt_rho + plot_layout(guides = \"collect\") & theme(legend.position = \"bottom\") & scale_x_four_weekly()\n",
    "\n",
    "ggsave_tikz(here(\"tikz/christmas_prediction_intervals_I_rho.tex\"))\n"
   ]
  },
  {
   "cell_type": "markdown",
   "metadata": {},
   "source": [
    "#### median in christmas period smaller than mean for missing model"
   ]
  },
  {
   "cell_type": "code",
   "execution_count": null,
   "metadata": {},
   "outputs": [],
   "source": [
    "df_christmas_missing %>%\n",
    "    filter(variable == \"I\") %>%\n",
    "    select(date, mean, `0.5`) %>%\n",
    "    pivot_longer(-date) %>%\n",
    "    ggplot(aes(date, value, color = name)) +\n",
    "    geom_line()\n"
   ]
  },
  {
   "cell_type": "markdown",
   "metadata": {},
   "source": [
    "#### `tikz/christmas_delay_probs.tex`"
   ]
  },
  {
   "cell_type": "code",
   "execution_count": null,
   "metadata": {},
   "outputs": [],
   "source": [
    "df_plot <- rbind(\n",
    "    mutate(df_christmas, model = \"all observations\"),\n",
    "    mutate(df_christmas_missing, model = \"Christmas removed\")\n",
    ") %>%\n",
    "    select(model, date, variable, mean, `0.025`, `0.975`) %>%\n",
    "    filter(str_starts(variable, \"\\\\$p\\\\^s\")) %>%\n",
    "    mutate(delay = str_extract(variable, \"\\\\d+\")) %>%\n",
    "    select(-variable)\n",
    "\n",
    "\n",
    "df_plot %>%\n",
    "    ggplot(aes(date, 100 * mean, color = delay, linetype = model)) +\n",
    "    geom_line() +\n",
    "    ylim(0, 100) +\n",
    "    scale_x_four_weekly() +\n",
    "    labs(x = \"\", y = \"probability of delay [\\\\%]\", color = \"$\\\\tau$\", linetype = \"\") +\n",
    "    theme(legend.position = \"bottom\")\n",
    "\n",
    "ggsave_tikz(here(\"tikz/christmas_delay_probs.tex\"), height = 1 / 2 * default_height)\n"
   ]
  },
  {
   "cell_type": "markdown",
   "metadata": {},
   "source": [
    "## Predictions"
   ]
  }
 ],
 "metadata": {
  "kernelspec": {
   "display_name": "ir",
   "language": "R",
   "name": "ir"
  }
 },
 "nbformat": 4,
 "nbformat_minor": 2
}
