{
 "cells": [
  {
   "cell_type": "raw",
   "metadata": {},
   "source": [
    "---\n",
    "skip_exec: true    # Skips in tests\n",
    "skip_showdoc: true # Skips in docs builds\n",
    "---"
   ]
  },
  {
   "cell_type": "markdown",
   "metadata": {},
   "source": [
    "# Data"
   ]
  },
  {
   "cell_type": "code",
   "execution_count": null,
   "metadata": {},
   "outputs": [],
   "source": [
    "library(here)\n",
    "source(here(\"code/setup.R\"))\n",
    "library(latex2exp)\n"
   ]
  },
  {
   "cell_type": "markdown",
   "metadata": {},
   "source": [
    "# RKI data - reporting triangle\n",
    "\n",
    "We use the reporting triangle for the number of cases, i.e. on any day $t$ the number of cases $$I_{s,t}$$ that are reported associated with date $s < t$. \n",
    "\n",
    "We begin our analysis on April 1st 2020, when data have become stable enough to warrant an analysis.\n",
    "\n",
    "Most delays are less than 4 days, so we consider only those delays, grouping all later delays into a single fifth or larger day.\n",
    "\n",
    "We perform the same pre-processing as described in chapter 2.3."
   ]
  },
  {
   "cell_type": "code",
   "execution_count": null,
   "metadata": {},
   "outputs": [],
   "source": [
    "rep_tri <- read_csv(here(\"data/processed/RKI_4day_rt.csv\"))\n"
   ]
  },
  {
   "cell_type": "code",
   "execution_count": null,
   "metadata": {},
   "outputs": [],
   "source": [
    "rep_tri %>%\n",
    "    pivot_longer(2:5, names_to = \"tau\", values_to = \"i\") %>%\n",
    "    group_by(county_date) %>%\n",
    "    mutate(p_hat = i / sum(i)) %>%\n",
    "    ungroup() %>%\n",
    "    mutate(weekday = wday(county_date, label = TRUE, week_start = 1)) %>%\n",
    "    filter(year(county_date) == 2020) %>%\n",
    "    ggplot(aes(x = weekday, y = p_hat * 100, fill = tau)) +\n",
    "    geom_boxplot() +\n",
    "    labs(x = \"\", fill = \"$\\\\tau$\", y = \"$\\\\hat p_{t, \\\\tau}$ [\\\\%]\")\n",
    "\n",
    "ggsave_tikz(here(\"tikz/weekday_effect_delays.tex\"), height = 3)\n"
   ]
  },
  {
   "cell_type": "code",
   "execution_count": null,
   "metadata": {},
   "outputs": [],
   "source": []
  }
 ],
 "metadata": {
  "kernelspec": {
   "display_name": "ir",
   "language": "R",
   "name": "ir"
  }
 },
 "nbformat": 4,
 "nbformat_minor": 2
}
