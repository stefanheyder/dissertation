{
 "cells": [
  {
   "cell_type": "raw",
   "metadata": {},
   "source": [
    "---\n",
    "skip_exec: true    # Skips in tests\n",
    "skip_showdoc: true # Skips in docs builds\n",
    "---"
   ]
  },
  {
   "cell_type": "markdown",
   "metadata": {},
   "source": [
    "# Figures"
   ]
  },
  {
   "cell_type": "markdown",
   "metadata": {},
   "source": []
  },
  {
   "cell_type": "code",
   "execution_count": null,
   "metadata": {},
   "outputs": [],
   "source": [
    "library(here)\n",
    "source(here(\"setup.R\"))\n",
    "library(reticulate)\n",
    "\n",
    "expit <- function(x) {\n",
    "    1 / (1 + exp(-x))\n",
    "}\n",
    "logit <- function(x) {\n",
    "    log(x / (1 - x))\n",
    "}\n",
    "theta_to_params <- function(theta) {\n",
    "    c(\n",
    "        \"alpha\" = expit(theta[1]),\n",
    "        \"s2_r\" = exp(theta[2]),\n",
    "        \"s2_spatial\" = exp(theta[3]),\n",
    "        \"q\" = expit(theta[4]),\n",
    "        \"C\" = exp(theta[5]) + 1,\n",
    "        \"r\" = exp(theta[6])\n",
    "    )\n",
    "}\n"
   ]
  },
  {
   "cell_type": "code",
   "execution_count": null,
   "metadata": {},
   "outputs": [],
   "source": [
    "toennis_results <- py_load_object(here(\"data/results/4_local_outbreak_model/results.pickle\"))\n",
    "\n",
    "theta <- toennis_results[[1]]\n",
    "predictions <- toennis_results[[3]]\n",
    "dates <- toennis_results[[4]]\n",
    "y <- toennis_results[[5]]\n"
   ]
  },
  {
   "cell_type": "code",
   "execution_count": null,
   "metadata": {},
   "outputs": [],
   "source": [
    "theta_to_params(theta) %>%\n",
    "    enframe() %>%\n",
    "    ggplot(aes(name, value)) +\n",
    "    geom_point()\n"
   ]
  },
  {
   "cell_type": "code",
   "execution_count": null,
   "metadata": {},
   "outputs": [],
   "source": [
    "np <- import(\"numpy\")\n",
    "means <- np$array(predictions[[1]])\n",
    "sds <- np$array(predictions[[2]])\n",
    "quantiles <- np$array(predictions[[3]])\n",
    "\n",
    "dim(quantiles)\n"
   ]
  },
  {
   "cell_type": "code",
   "execution_count": null,
   "metadata": {},
   "outputs": [],
   "source": [
    "# plot(exp(means[402:412]))\n",
    "plot(exp(means[seq(407, by = 400, length.out = 10)]))\n"
   ]
  }
 ],
 "metadata": {
  "kernelspec": {
   "display_name": "ir",
   "language": "R",
   "name": "ir"
  }
 },
 "nbformat": 4,
 "nbformat_minor": 2
}
