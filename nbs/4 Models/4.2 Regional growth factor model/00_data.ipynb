{
 "cells": [
  {
   "cell_type": "raw",
   "metadata": {},
   "source": [
    "---\n",
    "skip_exec: true    # Skips in tests\n",
    "skip_showdoc: true # Skips in docs builds\n",
    "---"
   ]
  },
  {
   "cell_type": "markdown",
   "metadata": {},
   "source": [
    "# Data"
   ]
  },
  {
   "cell_type": "markdown",
   "metadata": {},
   "source": [
    "## Commuting data\n",
    "\n",
    "Files taken from \n",
    "- https://statistik.arbeitsagentur.de/SiteGlobals/Forms/Suche/Einzelheftsuche_Formular.html?topic_f=beschaeftigung-sozbe-svb-kreise-merkmale (Sozialversicherungspflichtige Beschäftigte je Kreis / Bundesland)\n",
    "- https://statistik.arbeitsagentur.de/SiteGlobals/Forms/Suche/Einzelheftsuche_Formular.html?topic_f=beschaeftigung-sozbe-krpend (Pendler)\n"
   ]
  },
  {
   "cell_type": "code",
   "execution_count": null,
   "metadata": {},
   "outputs": [],
   "source": [
    "library(here)\n",
    "source(here(\"setup.R\"))\n",
    "\n",
    "suppressPackageStartupMessages({\n",
    "    library(readxl)\n",
    "    library(reshape2)\n",
    "})\n"
   ]
  },
  {
   "cell_type": "markdown",
   "metadata": {},
   "source": [
    "### Process Commuter data"
   ]
  },
  {
   "cell_type": "code",
   "execution_count": null,
   "metadata": {},
   "outputs": [],
   "source": [
    "process_commuters <- function(fname) {\n",
    "    suppressWarnings({\n",
    "        state <- read_excel(fname, sheet = \"Auspendler Kreise\", range = \"A4:A4\", col_names = F, .name_repair = \"unique_quiet\")[[1]]\n",
    "\n",
    "        outcommuters <- read_excel(fname, sheet = \"Auspendler Kreise\", skip = 6, .name_repair = \"unique_quiet\") %>%\n",
    "            tail(-1) %>%\n",
    "            select(\"ags_home\" = Wohnort, home = 2, \"ags_work\" = Arbeitsort, work = 4, total = Insgesamt) %>%\n",
    "            fill(ags_home, home) %>%\n",
    "            filter(!is.na(work)) %>%\n",
    "            mutate(total = as.numeric(total))\n",
    "\n",
    "        incommuters <- read_excel(fname, sheet = \"Einpendler Kreise\", skip = 6, .name_repair = \"unique_quiet\") %>%\n",
    "            tail(-1) %>%\n",
    "            select(\"ags_work\" = Arbeitsort, work = 2, \"ags_home\" = Wohnort, home = 4, total = Insgesamt) %>%\n",
    "            fill(ags_work, work) %>%\n",
    "            filter(!is.na(home)) %>%\n",
    "            mutate(total = as.numeric(total))\n",
    "    })\n",
    "    list(\n",
    "        incommuters,\n",
    "        outcommuters\n",
    "    )\n",
    "}\n",
    "commuters <- here(\"data/raw\") %>%\n",
    "    # use 2022 data, Eisenach is no longer a county\n",
    "    list.files(pattern = \"krpend*\", full.names = T) %>%\n",
    "    map(process_commuters)\n",
    "\n",
    "incommuters <- commuters %>%\n",
    "    map(function(coms) coms[[1]]) %>%\n",
    "    bind_rows()\n",
    "outcommuters <- commuters %>%\n",
    "    map(function(coms) coms[[2]]) %>%\n",
    "    bind_rows()\n"
   ]
  },
  {
   "cell_type": "markdown",
   "metadata": {},
   "source": [
    "### `data/processed/ags_county_dict.csv`"
   ]
  },
  {
   "cell_type": "code",
   "execution_count": null,
   "metadata": {},
   "outputs": [],
   "source": [
    "all_ags <- distinct(\n",
    "    rbind(\n",
    "        select(incommuters, ags = ags_work, name = work),\n",
    "        select(incommuters, ags = ags_home, name = home),\n",
    "        select(outcommuters, ags = ags_work, name = work),\n",
    "        select(outcommuters, ags = ags_home, name = home)\n",
    "    ),\n",
    "    ags, name\n",
    ")\n",
    "\n",
    "is_county_ags <- function(ags) str_detect(ags, \"^[0-9]{5}$\")\n",
    "is_state_ags <- function(ags) str_detect(ags, \"^[0-9]{2}$\")\n",
    "\n",
    "all_county_ags <- all_ags %>%\n",
    "    filter(is_county_ags(ags))\n",
    "write_csv(all_county_ags, here(\"data/processed/ags_county_dict.csv\"))\n",
    "\n",
    "all_state_ags <- all_ags %>%\n",
    "    filter(is_state_ags(ags)) %>%\n",
    "    filter(!name == \"Übrige Regierungsbezirke (Bundesland)\")\n",
    "write_csv(all_state_ags, here(\"data/processed/ags_state_dict.csv\"))\n"
   ]
  },
  {
   "cell_type": "code",
   "execution_count": null,
   "metadata": {},
   "outputs": [],
   "source": [
    "stopifnot(all_state_ags %>% nrow() == 16)\n",
    "stopifnot(all_county_ags %>% nrow() == 400)\n"
   ]
  },
  {
   "cell_type": "markdown",
   "metadata": {},
   "source": [
    "### `data/processed/{incommuters.csv,outcommuters.csv}`"
   ]
  },
  {
   "cell_type": "code",
   "execution_count": null,
   "metadata": {},
   "outputs": [],
   "source": [
    "complete_ags <- all_county_ags$ags\n",
    "\n",
    "outcommuters_complete <- outcommuters %>%\n",
    "    select(ags_work, ags_home, total) %>%\n",
    "    filter(is_county_ags(ags_work), is_county_ags(ags_home)) %>%\n",
    "    complete(ags_work = complete_ags, ags_home = complete_ags, fill = list(total = 0))\n",
    "\n",
    "incommuters_complete <- incommuters %>%\n",
    "    select(ags_work, ags_home, total) %>%\n",
    "    filter(is_county_ags(ags_work), is_county_ags(ags_home)) %>%\n",
    "    complete(ags_work = complete_ags, ags_home = complete_ags, fill = list(total = 0))\n",
    "\n",
    "stopifnot(\n",
    "    \"Outcommuters are not unique\" = nrow(outcommuters_complete) == length(complete_ags)^2,\n",
    "    \"Incommuters are not unique\" = nrow(incommuters_complete) == length(complete_ags)^2\n",
    ")\n",
    "write_csv(\n",
    "    outcommuters_complete,\n",
    "    here(\"data/processed/outcommuters.csv\")\n",
    ")\n",
    "write_csv(\n",
    "    incommuters_complete,\n",
    "    here(\"data/processed/incommuters.csv\")\n",
    ")\n"
   ]
  },
  {
   "cell_type": "code",
   "execution_count": null,
   "metadata": {},
   "outputs": [],
   "source": [
    "inner_join(\n",
    "    incommuters_complete,\n",
    "    outcommuters_complete,\n",
    "    by = c(\"ags_work\" = \"ags_home\", \"ags_home\" = \"ags_work\"),\n",
    "    suffix = c(\"_in\", \"_out\")\n",
    ") %>%\n",
    "    group_by(state_work = str_sub(ags_work, 0, 2), state_home = str_sub(ags_home, 0, 2)) %>%\n",
    "    summarize(\n",
    "        pct_no_exchange = mean(total_in + total_out == 0) * 100\n",
    "    ) %>%\n",
    "    inner_join(rename(all_state_ags, work = name), by = c(\"state_work\" = \"ags\")) %>%\n",
    "    inner_join(rename(all_state_ags, home = name), by = c(\"state_home\" = \"ags\")) %>%\n",
    "    ggplot(aes(x = work, y = home, fill = pct_no_exchange)) +\n",
    "    geom_tile() +\n",
    "    scale_fill_viridis_c() +\n",
    "    theme_minimal() +\n",
    "    theme(axis.text.x = element_text(angle = 90)) +\n",
    "    labs(\n",
    "        x = \"Work state\",\n",
    "        y = \"Home state\",\n",
    "        fill = \"Percentage of counties without exchange\"\n",
    "    )\n"
   ]
  },
  {
   "cell_type": "markdown",
   "metadata": {},
   "source": [
    "### Sozialversicherungsbeschäftigte\n",
    "Hier die passenden Daten ab September '21 nehmen; ab September 21 ist Eisenach kein eigener Kreis mehr (und kommt in den RKI Zahlen nicht mehr vor)."
   ]
  },
  {
   "cell_type": "markdown",
   "metadata": {},
   "source": [
    "### `data/processed/{work_totals.csv,home_totals.csv}`"
   ]
  },
  {
   "cell_type": "code",
   "execution_count": null,
   "metadata": {},
   "outputs": [],
   "source": [
    "work_totals <- read_excel(here(\"data/raw/svb-kreise-merkmale-d-0-202109-xlsx.xlsx\"), sheet = 3, skip = 6, .name_repair = \"unique_quiet\") %>%\n",
    "    select(name = 1, ags = 2, total = 3) %>%\n",
    "    filter(is_county_ags(ags))\n",
    "home_totals <- read_excel(here(\"data/raw/svb-kreise-merkmale-d-0-202109-xlsx.xlsx\"), sheet = 4, skip = 6, .name_repair = \"unique_quiet\") %>%\n",
    "    select(name = 1, ags = 2, total = 3) %>%\n",
    "    filter(is_county_ags(ags))\n",
    "\n",
    "write_csv(\n",
    "    work_totals,\n",
    "    here(\"data/processed/work_totals.csv\")\n",
    ")\n",
    "write_csv(\n",
    "    home_totals,\n",
    "    here(\"data/processed/home_totals.csv\")\n",
    ")\n"
   ]
  },
  {
   "cell_type": "code",
   "execution_count": null,
   "metadata": {},
   "outputs": [],
   "source": [
    "stopifnot(work_totals %>% nrow() == 400)\n",
    "stopifnot(home_totals %>% nrow() == 400)\n",
    "\n",
    "p_out <- outcommuters_complete %>%\n",
    "    arrange(ags_home, ags_work) %>%\n",
    "    ggplot(aes(ags_home, ags_work, fill = (total + 1))) +\n",
    "    geom_tile() +\n",
    "    scale_fill_viridis_c(trans = \"log\") +\n",
    "    theme(axis.text.x = element_blank(), axis.ticks.x = element_blank()) +\n",
    "    theme(axis.text.y = element_blank(), axis.ticks.y = element_blank()) +\n",
    "    labs(x = \"Home\", y = \"Work\", fill = \"Outcommuters\")\n",
    "\n",
    "p_in <- incommuters_complete %>%\n",
    "    arrange(ags_home, ags_work) %>%\n",
    "    ggplot(aes(ags_home, ags_work, fill = (total + 1))) +\n",
    "    geom_tile() +\n",
    "    scale_fill_viridis_c(trans = \"log\") +\n",
    "    theme(axis.text.x = element_blank(), axis.ticks.x = element_blank()) +\n",
    "    theme(axis.text.y = element_blank(), axis.ticks.y = element_blank()) +\n",
    "    labs(x = \"Home\", y = \"Work\", fill = \"Incommuters\")\n",
    "\n",
    "p_out | p_in\n"
   ]
  },
  {
   "cell_type": "markdown",
   "metadata": {},
   "source": [
    "## RKI data"
   ]
  },
  {
   "cell_type": "code",
   "execution_count": null,
   "metadata": {},
   "outputs": [],
   "source": [
    "options(timeout = max(300, getOption(\"timeout\")))\n",
    "if (!file.exists(here(\"data/raw/RKI.csv\"))) {\n",
    "    download.file(\n",
    "        \"https://zenodo.org/records/10638065/files/Aktuell_Deutschland_SarsCov2_Infektionen.csv?download=1\", here(\"data/raw/RKI.csv\")\n",
    "    )\n",
    "}\n"
   ]
  },
  {
   "cell_type": "markdown",
   "metadata": {},
   "source": [
    "WHO declares end of COVID-19 health crisis on May 5th 2023 (https://www.who.int/director-general/speeches/detail/who-director-general-s-opening-remarks-at-the-media-briefing---5-may-2023). Measures in Germany ended shortly before (April 2023), so weu se May 5th as final date (can also see reporting drop sharply in spring 2023)."
   ]
  },
  {
   "cell_type": "code",
   "execution_count": null,
   "metadata": {},
   "outputs": [],
   "source": [
    "final_date <- ymd(\"2023-05-05\")\n"
   ]
  },
  {
   "cell_type": "code",
   "execution_count": null,
   "metadata": {},
   "outputs": [],
   "source": [
    "rki_no_meta <- read_csv(here(\"data/raw/RKI.csv\"))\n",
    "rki_metadata <- read_csv(here(\"data/raw/RKI_meta.csv\"))\n",
    "\n",
    "rki_no_meta$IdLandkreis <- str_pad(\n",
    "    rki_no_meta$IdLandkreis,\n",
    "    5,\n",
    "    \"left\",\n",
    "    \"0\"\n",
    ")\n",
    "rki <- inner_join(rki_no_meta, rki_metadata, by = \"IdLandkreis\")\n",
    "\n",
    "rki$Meldedatum <- as.Date(rki$Meldedatum)\n",
    "rki$Refdatum <- as.Date(rki$Refdatum)\n"
   ]
  },
  {
   "cell_type": "code",
   "execution_count": null,
   "metadata": {},
   "outputs": [],
   "source": [
    "# RKI also reports differences to yesterdays publication\n",
    "# current days cases / deaths are only those where \"Anzahl(Todes)Fall\" is >= 0\n",
    "rki[rki$NeuerFall < 0, \"AnzahlFall\"] <- 0\n",
    "rki[rki$NeuerTodesfall < 0, \"AnzahlTodesfall\"] <- 0\n",
    "\n",
    "rki <- filter(rki, Meldedatum <= final_date)\n"
   ]
  },
  {
   "cell_type": "code",
   "execution_count": null,
   "metadata": {},
   "outputs": [],
   "source": [
    "rki_county <- rki\n",
    "county_cases <- NULL\n",
    "\n",
    "berlin_ids <- 11000:11012\n",
    "rki_county[rki_county$IdLandkreis %in% berlin_ids, c(\"Landkreis\", \"IdLandkreis\")] <- list(\"LK Berlin\", \"11000\")\n",
    "county_cases <- aggregate(cbind(cases = AnzahlFall, deaths = AnzahlTodesfall) ~ Meldedatum + Bundesland + Landkreis, data = rki_county, sum)\n",
    "colnames(county_cases)[1:3] <- c(\"reporting_date\", \"state\", \"county\")\n",
    "county_cases <- complete(county_cases,\n",
    "    reporting_date = seq(min(reporting_date), max(reporting_date), by = \"1 day\"),\n",
    "    nesting(state, county),\n",
    "    fill = list(cases = 0, deaths = 0)\n",
    ")\n"
   ]
  },
  {
   "cell_type": "markdown",
   "metadata": {},
   "source": [
    "### `data/processed/RKI_county.csv`"
   ]
  },
  {
   "cell_type": "code",
   "execution_count": null,
   "metadata": {},
   "outputs": [],
   "source": [
    "county_cases %>%\n",
    "    inner_join(\n",
    "        rbind(\n",
    "            rki_metadata,\n",
    "            list(IdBundesland = 11, Bundesland = \"Berlin\", IdLandkreis = \"11000\", Landkreis = \"LK Berlin\")\n",
    "        ) %>%\n",
    "            arrange(IdLandkreis),\n",
    "        by = c(\"county\" = \"Landkreis\")\n",
    "    ) %>%\n",
    "    select(date = reporting_date, ags = IdLandkreis, cases, deaths) %>%\n",
    "    write_csv(here(\"data/processed/RKI_county.csv\"))\n"
   ]
  },
  {
   "cell_type": "markdown",
   "metadata": {},
   "source": [
    "### `data/processed/RKI_county_weekly.csv` "
   ]
  },
  {
   "cell_type": "markdown",
   "metadata": {},
   "source": [
    "We use the weekly format [required in the ECDCs ForecastHub](https://github.com/european-modelling-hubs/covid19-forecast-hub-europe/wiki/targets-and-horizons#Date-format):\n",
    "> Forecast horizons should use the Epidemiological Week (EW) format, defined by the US CDC. Each week starts on Sunday and ends on Saturday. "
   ]
  },
  {
   "cell_type": "code",
   "execution_count": null,
   "metadata": {},
   "outputs": [],
   "source": [
    "county_cases %>%\n",
    "    inner_join(\n",
    "        rbind(\n",
    "            rki_metadata,\n",
    "            list(IdBundesland = 11, Bundesland = \"Berlin\", IdLandkreis = \"11000\", Landkreis = \"LK Berlin\")\n",
    "        ) %>%\n",
    "            arrange(IdLandkreis),\n",
    "        by = c(\"county\" = \"Landkreis\")\n",
    "    ) %>%\n",
    "    select(date = reporting_date, ags = IdLandkreis, cases, deaths) %>%\n",
    "    group_by(date = ceiling_date(date, \"week\", week_start = 7), ags) %>%\n",
    "    summarize(cases = sum(cases), deaths = sum(deaths)) %>%\n",
    "    write_csv(here(\"data/processed/RKI_county_weekly.csv\"))\n"
   ]
  },
  {
   "cell_type": "code",
   "execution_count": null,
   "metadata": {},
   "outputs": [],
   "source": [
    "rki_ags <- unique(rki_county$IdLandkreis)\n",
    "commuters_ags <- unique(outcommuters$ags_home)\n",
    "\n",
    "stopifnot(length(c(setdiff(commuters_ags, rki_ags), setdiff(rki_ags, commuters_ags))) == 0)\n"
   ]
  }
 ],
 "metadata": {
  "kernelspec": {
   "display_name": "ir",
   "language": "R",
   "name": "ir"
  }
 },
 "nbformat": 4,
 "nbformat_minor": 2
}
