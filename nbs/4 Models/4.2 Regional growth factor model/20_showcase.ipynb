{
 "cells": [
  {
   "cell_type": "raw",
   "metadata": {},
   "source": [
    "---\n",
    "skip_exec: true    # Skips in tests\n",
    "skip_showdoc: true # Skips in docs builds\n",
    "---"
   ]
  },
  {
   "cell_type": "markdown",
   "metadata": {},
   "source": [
    "# Application 1: Showcase "
   ]
  },
  {
   "cell_type": "code",
   "execution_count": null,
   "metadata": {},
   "outputs": [],
   "source": [
    "from ssm4epi.models.regional_growth_factor import (\n",
    "    key,\n",
    "    n_iterations,\n",
    "    N_mle,\n",
    "    N_meis,\n",
    "    N_posterior,\n",
    "    percentiles_of_interest,\n",
    "    make_aux,\n",
    "    dates_full,\n",
    "    cases_full,\n",
    "    n_ij,\n",
    "    n_tot,\n",
    "    account_for_nans,\n",
    "    growth_factor_model,\n",
    ")\n",
    "\n",
    "import jax.numpy as jnp\n",
    "import jax\n",
    "import jax.random as jrn\n",
    "\n",
    "from isssm.importance_sampling import prediction\n",
    "from isssm.laplace_approximation import laplace_approximation as LA\n",
    "from isssm.modified_efficient_importance_sampling import (\n",
    "    modified_efficient_importance_sampling as MEIS,\n",
    ")\n",
    "\n",
    "from pyprojroot.here import here\n",
    "\n",
    "jax.config.update(\"jax_enable_x64\", True)\n",
    "from isssm.estimation import initial_theta\n",
    "import pickle"
   ]
  },
  {
   "cell_type": "code",
   "execution_count": null,
   "metadata": {},
   "outputs": [],
   "source": [
    "initial_date = dates_full[15]\n",
    "np1 = 10\n",
    "dates = dates_full[15 : 15 + np1]\n",
    "aux = make_aux(initial_date, cases_full, n_ij, n_tot, np1)\n",
    "\n",
    "y = aux[0][1:]\n",
    "y_nan = y.at[-1].set(jnp.nan)\n",
    "missing_inds = jnp.isnan(y_nan)\n",
    "theta_manual = jnp.array(\n",
    "    [5.950e00, -2.063e00, -5.355e00, -4.511e-01, -5.711e-01, 7.932e-01]\n",
    ")\n",
    "_, y_miss = account_for_nans(\n",
    "    growth_factor_model(theta_manual, aux), y_nan, missing_inds\n",
    ")\n",
    "_model_miss = lambda theta, aux: account_for_nans(\n",
    "    growth_factor_model(theta, aux), y_nan, missing_inds\n",
    ")[0]\n",
    "\n",
    "theta0_result = initial_theta(y_miss, _model_miss, theta_manual, aux, n_iterations)\n",
    "theta0 = theta0_result.x\n",
    "fitted_model = _model_miss(theta0, aux)\n",
    "\n",
    "proposal_la, info_la = LA(y_miss, fitted_model, n_iterations)\n",
    "key, subkey = jrn.split(key)\n",
    "proposal_meis, info_meis = MEIS(\n",
    "    y_miss, fitted_model, proposal_la.z, proposal_la.Omega, n_iterations, N_meis, subkey\n",
    ")\n",
    "key, subkey = jrn.split(key)\n",
    "\n",
    "\n",
    "def f_pred(x, s, y):\n",
    "    y_total = y[-1].sum()[None]\n",
    "    y_counties = y[-1]\n",
    "    growth_factors = s.reshape(-1)\n",
    "    return jnp.concatenate([y_total, y_counties, growth_factors])\n",
    "\n",
    "\n",
    "preds = prediction(\n",
    "    f_pred,\n",
    "    y_miss,\n",
    "    proposal_la,\n",
    "    fitted_model,\n",
    "    N_posterior,\n",
    "    subkey,\n",
    "    percentiles_of_interest,\n",
    "    growth_factor_model(theta0, aux),\n",
    ")\n",
    "\n",
    "result = (theta0, proposal_meis, preds, dates, y)\n",
    "\n",
    "with open(here() / \"data/results/4_local_outbreak_model/results.pickle\", \"wb\") as f:\n",
    "    pickle.dump(result, f)"
   ]
  },
  {
   "cell_type": "code",
   "execution_count": null,
   "metadata": {},
   "outputs": [],
   "source": [
    "preds"
   ]
  }
 ],
 "metadata": {
  "kernelspec": {
   "display_name": "python3",
   "language": "python",
   "name": "python3"
  }
 },
 "nbformat": 4,
 "nbformat_minor": 2
}
