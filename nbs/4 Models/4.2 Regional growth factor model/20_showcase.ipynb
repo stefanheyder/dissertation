{
 "cells": [
  {
   "cell_type": "raw",
   "metadata": {},
   "source": [
    "---\n",
    "skip_exec: true    # Skips in tests\n",
    "skip_showdoc: true # Skips in docs builds\n",
    "---"
   ]
  },
  {
   "cell_type": "markdown",
   "metadata": {},
   "source": [
    "# Application 1: Showcase "
   ]
  },
  {
   "cell_type": "code",
   "execution_count": null,
   "metadata": {},
   "outputs": [],
   "source": [
    "from ssm4epi.models.regional_growth_factor import (\n",
    "    key,\n",
    "    n_iterations,\n",
    "    N_mle,\n",
    "    N_meis,\n",
    "    N_posterior,\n",
    "    percentiles_of_interest,\n",
    "    make_aux,\n",
    "    dates_full,\n",
    "    cases_full,\n",
    "    n_ij,\n",
    "    n_tot,\n",
    "    account_for_nans,\n",
    "    growth_factor_model,\n",
    ")\n",
    "\n",
    "import jax.numpy as jnp\n",
    "import jax\n",
    "import jax.random as jrn\n",
    "\n",
    "from isssm.importance_sampling import prediction\n",
    "from isssm.laplace_approximation import laplace_approximation as LA\n",
    "from isssm.modified_efficient_importance_sampling import (\n",
    "    modified_efficient_importance_sampling as MEIS,\n",
    ")\n",
    "\n",
    "from pyprojroot.here import here\n",
    "\n",
    "jax.config.update(\"jax_enable_x64\", True)\n",
    "from isssm.estimation import initial_theta\n",
    "import pickle"
   ]
  },
  {
   "cell_type": "code",
   "execution_count": null,
   "metadata": {},
   "outputs": [
    {
     "ename": "FileNotFoundError",
     "evalue": "[Errno 2] No such file or directory: '/Users/stefan/workspace/work/phd/thesis/data/results/4_local_outbreak_model/results.pickle'",
     "output_type": "error",
     "traceback": [
      "\u001b[0;31m---------------------------------------------------------------------------\u001b[0m",
      "\u001b[0;31mFileNotFoundError\u001b[0m                         Traceback (most recent call last)",
      "Cell \u001b[0;32mIn[2], line 51\u001b[0m\n\u001b[1;32m     38\u001b[0m preds \u001b[38;5;241m=\u001b[39m prediction(\n\u001b[1;32m     39\u001b[0m     f_pred,\n\u001b[1;32m     40\u001b[0m     y_miss,\n\u001b[0;32m   (...)\u001b[0m\n\u001b[1;32m     46\u001b[0m     growth_factor_model(theta0, aux),\n\u001b[1;32m     47\u001b[0m )\n\u001b[1;32m     49\u001b[0m result \u001b[38;5;241m=\u001b[39m (theta0, proposal_meis, preds, dates, y)\n\u001b[0;32m---> 51\u001b[0m \u001b[38;5;28;01mwith\u001b[39;00m \u001b[38;5;28;43mopen\u001b[39;49m\u001b[43m(\u001b[49m\u001b[43mhere\u001b[49m\u001b[43m(\u001b[49m\u001b[43m)\u001b[49m\u001b[43m \u001b[49m\u001b[38;5;241;43m/\u001b[39;49m\u001b[43m \u001b[49m\u001b[38;5;124;43m\"\u001b[39;49m\u001b[38;5;124;43mdata/results/4_local_outbreak_model/results.pickle\u001b[39;49m\u001b[38;5;124;43m\"\u001b[39;49m\u001b[43m,\u001b[49m\u001b[43m \u001b[49m\u001b[38;5;124;43m\"\u001b[39;49m\u001b[38;5;124;43mwb\u001b[39;49m\u001b[38;5;124;43m\"\u001b[39;49m\u001b[43m)\u001b[49m \u001b[38;5;28;01mas\u001b[39;00m f:\n\u001b[1;32m     52\u001b[0m     pickle\u001b[38;5;241m.\u001b[39mdump(result, f)\n",
      "File \u001b[0;32m/opt/homebrew/Caskroom/miniconda/base/envs/research/lib/python3.10/site-packages/IPython/core/interactiveshell.py:324\u001b[0m, in \u001b[0;36m_modified_open\u001b[0;34m(file, *args, **kwargs)\u001b[0m\n\u001b[1;32m    317\u001b[0m \u001b[38;5;28;01mif\u001b[39;00m file \u001b[38;5;129;01min\u001b[39;00m {\u001b[38;5;241m0\u001b[39m, \u001b[38;5;241m1\u001b[39m, \u001b[38;5;241m2\u001b[39m}:\n\u001b[1;32m    318\u001b[0m     \u001b[38;5;28;01mraise\u001b[39;00m \u001b[38;5;167;01mValueError\u001b[39;00m(\n\u001b[1;32m    319\u001b[0m         \u001b[38;5;124mf\u001b[39m\u001b[38;5;124m\"\u001b[39m\u001b[38;5;124mIPython won\u001b[39m\u001b[38;5;124m'\u001b[39m\u001b[38;5;124mt let you open fd=\u001b[39m\u001b[38;5;132;01m{\u001b[39;00mfile\u001b[38;5;132;01m}\u001b[39;00m\u001b[38;5;124m by default \u001b[39m\u001b[38;5;124m\"\u001b[39m\n\u001b[1;32m    320\u001b[0m         \u001b[38;5;124m\"\u001b[39m\u001b[38;5;124mas it is likely to crash IPython. If you know what you are doing, \u001b[39m\u001b[38;5;124m\"\u001b[39m\n\u001b[1;32m    321\u001b[0m         \u001b[38;5;124m\"\u001b[39m\u001b[38;5;124myou can use builtins\u001b[39m\u001b[38;5;124m'\u001b[39m\u001b[38;5;124m open.\u001b[39m\u001b[38;5;124m\"\u001b[39m\n\u001b[1;32m    322\u001b[0m     )\n\u001b[0;32m--> 324\u001b[0m \u001b[38;5;28;01mreturn\u001b[39;00m \u001b[43mio_open\u001b[49m\u001b[43m(\u001b[49m\u001b[43mfile\u001b[49m\u001b[43m,\u001b[49m\u001b[43m \u001b[49m\u001b[38;5;241;43m*\u001b[39;49m\u001b[43margs\u001b[49m\u001b[43m,\u001b[49m\u001b[43m \u001b[49m\u001b[38;5;241;43m*\u001b[39;49m\u001b[38;5;241;43m*\u001b[39;49m\u001b[43mkwargs\u001b[49m\u001b[43m)\u001b[49m\n",
      "\u001b[0;31mFileNotFoundError\u001b[0m: [Errno 2] No such file or directory: '/Users/stefan/workspace/work/phd/thesis/data/results/4_local_outbreak_model/results.pickle'"
     ]
    }
   ],
   "source": [
    "initial_date = dates_full[15]\n",
    "np1 = 10\n",
    "dates = dates_full[15 : 15 + np1]\n",
    "aux = make_aux(initial_date, cases_full, n_ij, n_tot, np1)\n",
    "\n",
    "y = aux[0][1:]\n",
    "y_nan = y.at[-1].set(jnp.nan)\n",
    "missing_inds = jnp.isnan(y_nan)\n",
    "theta_manual = jnp.array(\n",
    "    [5.950e00, -2.063e00, -5.355e00, -4.511e-01, -5.711e-01, 7.932e-01]\n",
    ")\n",
    "_, y_miss = account_for_nans(\n",
    "    growth_factor_model(theta_manual, aux), y_nan, missing_inds\n",
    ")\n",
    "_model_miss = lambda theta, aux: account_for_nans(\n",
    "    growth_factor_model(theta, aux), y_nan, missing_inds\n",
    ")[0]\n",
    "\n",
    "theta0_result = initial_theta(y_miss, _model_miss, theta_manual, aux, n_iterations)\n",
    "theta0 = theta0_result.x\n",
    "fitted_model = _model_miss(theta0, aux)\n",
    "\n",
    "proposal_la, info_la = LA(y_miss, fitted_model, n_iterations)\n",
    "key, subkey = jrn.split(key)\n",
    "proposal_meis, info_meis = MEIS(\n",
    "    y_miss, fitted_model, proposal_la.z, proposal_la.Omega, n_iterations, N_meis, subkey\n",
    ")\n",
    "key, subkey = jrn.split(key)\n",
    "\n",
    "\n",
    "def f_pred(x, s, y):\n",
    "    y_total = y[-1].sum()[None]\n",
    "    y_counties = y[-1]\n",
    "    growth_factors = s.reshape(-1)\n",
    "    return jnp.concatenate([y_total, y_counties, growth_factors])\n",
    "\n",
    "\n",
    "preds = prediction(\n",
    "    f_pred,\n",
    "    y_miss,\n",
    "    proposal_la,\n",
    "    fitted_model,\n",
    "    N_posterior,\n",
    "    subkey,\n",
    "    percentiles_of_interest,\n",
    "    growth_factor_model(theta0, aux),\n",
    ")\n",
    "\n",
    "result = (theta0, proposal_meis, preds, dates, y)\n",
    "\n",
    "with open(here() / \"data/results/4_local_outbreak_model/results.pickle\", \"wb\") as f:\n",
    "    pickle.dump(result, f)"
   ]
  },
  {
   "cell_type": "code",
   "execution_count": null,
   "metadata": {},
   "outputs": [
    {
     "data": {
      "text/plain": [
       "(Array([1.66255525e+04, 2.12210181e+00, 1.03437335e+00, ...,\n",
       "        0.00000000e+00, 0.00000000e+00, 0.00000000e+00], dtype=float64),\n",
       " Array([7.66581469e+03, 2.91949927e+00, 1.49179858e+00, ...,\n",
       "        0.00000000e+00, 0.00000000e+00, 0.00000000e+00], dtype=float64),\n",
       " Array([[6.15800000e+03, 0.00000000e+00, 0.00000000e+00, ...,\n",
       "         0.00000000e+00, 0.00000000e+00, 0.00000000e+00],\n",
       "        [6.56250733e+03, 0.00000000e+00, 0.00000000e+00, ...,\n",
       "         0.00000000e+00, 0.00000000e+00, 0.00000000e+00],\n",
       "        [7.59300000e+03, 0.00000000e+00, 0.00000000e+00, ...,\n",
       "         0.00000000e+00, 0.00000000e+00, 0.00000000e+00],\n",
       "        ...,\n",
       "        [2.92606867e+04, 8.00000000e+00, 3.00000000e+00, ...,\n",
       "         0.00000000e+00, 0.00000000e+00, 0.00000000e+00],\n",
       "        [3.63747669e+04, 1.00000000e+01, 4.00000000e+00, ...,\n",
       "         0.00000000e+00, 0.00000000e+00, 0.00000000e+00],\n",
       "        [4.12856030e+04, 1.30000000e+01, 7.00000000e+00, ...,\n",
       "         0.00000000e+00, 0.00000000e+00, 0.00000000e+00]], dtype=float64))"
      ]
     },
     "execution_count": null,
     "metadata": {},
     "output_type": "execute_result"
    }
   ],
   "source": [
    "preds"
   ]
  }
 ],
 "metadata": {
  "kernelspec": {
   "display_name": "python3",
   "language": "python",
   "name": "python3"
  }
 },
 "nbformat": 4,
 "nbformat_minor": 2
}
