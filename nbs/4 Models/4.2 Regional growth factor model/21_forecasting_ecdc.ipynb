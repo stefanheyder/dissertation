{
 "cells": [
  {
   "cell_type": "code",
   "execution_count": null,
   "id": "f8d33a61",
   "metadata": {},
   "outputs": [],
   "source": [
    "from ssm4epi.models.regional_growth_factor import (\n",
    "    key,\n",
    "    n_iterations,\n",
    "    N_mle,\n",
    "    N_meis,\n",
    "    N_posterior,\n",
    "    percentiles_of_interest,\n",
    "    make_aux,\n",
    "    dates_full,\n",
    "    cases_full,\n",
    "    n_ij,\n",
    "    n_tot,\n",
    "    account_for_nans,\n",
    "    growth_factor_model,\n",
    ")\n",
    "\n",
    "from tqdm.notebook import tqdm\n",
    "import pandas as pd\n",
    "\n",
    "import jax.numpy as jnp\n",
    "import jax\n",
    "import jax.random as jrn\n",
    "\n",
    "from isssm.importance_sampling import prediction\n",
    "from isssm.laplace_approximation import laplace_approximation as LA\n",
    "from isssm.modified_efficient_importance_sampling import (\n",
    "    modified_efficient_importance_sampling as MEIS,\n",
    ")\n",
    "\n",
    "from pyprojroot.here import here\n",
    "\n",
    "jax.config.update(\"jax_enable_x64\", True)\n",
    "from isssm.estimation import initial_theta\n",
    "import pickle\n",
    "import matplotlib.pyplot as plt"
   ]
  },
  {
   "cell_type": "code",
   "execution_count": 7,
   "id": "11fb4bc9",
   "metadata": {},
   "outputs": [
    {
     "data": {
      "text/plain": [
       "39"
      ]
     },
     "execution_count": 7,
     "metadata": {},
     "output_type": "execute_result"
    }
   ],
   "source": [
    "import pandas as pd\n",
    "from datetime import date\n",
    "\n",
    "min_date = date(2021, 4, 3)\n",
    "max_date = date(2021, 12, 25)\n",
    "\n",
    "np1 = 10\n",
    "\n",
    "initial_dates = [\n",
    "    (d - pd.Timedelta(weeks=np1)).strftime(\"%Y-%m-%d\")\n",
    "    for d in pd.date_range(start=min_date, end=max_date, freq=\"W-SAT\", inclusive=\"both\")\n",
    "]\n",
    "len(initial_dates)"
   ]
  },
  {
   "cell_type": "code",
   "execution_count": 10,
   "id": "08ce5ba5",
   "metadata": {},
   "outputs": [],
   "source": [
    "GLOBAL_KEY = jrn.PRNGKey(4534365463653)\n",
    "\n",
    "\n",
    "def prediction_pipeline(initial_date):\n",
    "    (dates_index,) = jnp.where(dates_full == initial_date)[0]\n",
    "    dates = dates_full[dates_index : dates_index + np1]\n",
    "    aux = make_aux(initial_date, cases_full, n_ij, n_tot, np1)\n",
    "\n",
    "    y = aux[0][1:]\n",
    "    y_nan = y.at[-1].set(jnp.nan)\n",
    "    missing_inds = jnp.isnan(y_nan)\n",
    "    theta_manual = jnp.array(\n",
    "        [5.950e00, -2.063e00, -5.355e00, -4.511e-01, -5.711e-01, 7.932e-01]\n",
    "    )\n",
    "    _, y_miss = account_for_nans(\n",
    "        growth_factor_model(theta_manual, aux), y_nan, missing_inds\n",
    "    )\n",
    "    _model_miss = lambda theta, aux: account_for_nans(\n",
    "        growth_factor_model(theta, aux), y_nan, missing_inds\n",
    "    )[0]\n",
    "    theta0_result = initial_theta(\n",
    "        y_miss,\n",
    "        _model_miss,\n",
    "        theta_manual,\n",
    "        aux,\n",
    "        n_iter_la=n_iterations,\n",
    "        options={\"maxiter\": 10},\n",
    "    )\n",
    "    theta0 = theta0_result.x\n",
    "    fitted_model = _model_miss(theta0, aux)\n",
    "    proposal_la, _ = LA(y_miss, fitted_model, n_iterations)\n",
    "\n",
    "    def f_pred(x, s, y):\n",
    "        y_county = y[-1]\n",
    "        y_tot = jnp.minimum(y_county, n_tot).sum()[None]\n",
    "        growth_factors = s.reshape(-1)\n",
    "        return jnp.concatenate([y_tot, y_county, growth_factors])\n",
    "\n",
    "    key, subkey = jrn.split(GLOBAL_KEY)\n",
    "    preds = prediction(\n",
    "        f_pred,\n",
    "        y_miss,\n",
    "        proposal_la,\n",
    "        fitted_model,\n",
    "        1000,\n",
    "        subkey,\n",
    "        percentiles_of_interest,\n",
    "        growth_factor_model(theta0, aux),\n",
    "    )\n",
    "\n",
    "    result = (theta0, proposal_la, preds, dates, y)\n",
    "\n",
    "    with open(\n",
    "        here() / f\"data/results/4_local_outbreak_model/results_{initial_date}.pickle\",\n",
    "        \"wb\",\n",
    "    ) as f:\n",
    "        pickle.dump(result, f)\n",
    "\n",
    "    df = pd.DataFrame(\n",
    "        {\n",
    "            \"variable\": [\n",
    "                \"y_total\",\n",
    "                *[f\"y_total_{c}\" for c in range(1, 401)],\n",
    "                *[f\"log_rho_{c}_{t}\" for t in range(1, 11) for c in range(1, 401)],\n",
    "            ],\n",
    "            \"c\": [0, *range(1, 401), *[c for t in range(1, 11) for c in range(1, 401)]],\n",
    "            \"t\": [\n",
    "                10,\n",
    "                *jnp.repeat(10, 400),\n",
    "                *[t for t in range(1, 11) for c in range(1, 401)],\n",
    "            ],\n",
    "            \"mean\": preds[0],\n",
    "            \"sd\": preds[1],\n",
    "            **{\n",
    "                f\"{p * 100:.1f} %\": preds[2][i, :]\n",
    "                for i, p in enumerate(percentiles_of_interest)\n",
    "            },\n",
    "        }\n",
    "    )\n",
    "\n",
    "    df[\"date\"] = [dates[t - 1] for t in df[\"t\"]]\n",
    "    df.to_csv(\n",
    "        here(f\"data/results/4_local_outbreak_model/forecasts_{initial_date}.csv\"),\n",
    "        index=False,\n",
    "    )"
   ]
  },
  {
   "cell_type": "code",
   "execution_count": 11,
   "id": "c400eaf7",
   "metadata": {},
   "outputs": [
    {
     "data": {
      "application/vnd.jupyter.widget-view+json": {
       "model_id": "cdbf1a75e5cb4b0ea63efeb02e30689a",
       "version_major": 2,
       "version_minor": 0
      },
      "text/plain": [
       "  0%|          | 0/39 [00:00<?, ?it/s]"
      ]
     },
     "metadata": {},
     "output_type": "display_data"
    }
   ],
   "source": [
    "for initial_date in tqdm(initial_dates):\n",
    "    prediction_pipeline(initial_date)"
   ]
  }
 ],
 "metadata": {
  "kernelspec": {
   "display_name": "thesis",
   "language": "python",
   "name": "python3"
  },
  "language_info": {
   "codemirror_mode": {
    "name": "ipython",
    "version": 3
   },
   "file_extension": ".py",
   "mimetype": "text/x-python",
   "name": "python",
   "nbconvert_exporter": "python",
   "pygments_lexer": "ipython3",
   "version": "3.10.17"
  }
 },
 "nbformat": 4,
 "nbformat_minor": 5
}
