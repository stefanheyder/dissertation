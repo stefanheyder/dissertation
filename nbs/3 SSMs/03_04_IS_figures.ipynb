{
 "cells": [
  {
   "cell_type": "raw",
   "metadata": {},
   "source": [
    "---\n",
    "skip_exec: true    # Skips in tests\n",
    "skip_showdoc: true # Skips in docs builds\n",
    "---"
   ]
  },
  {
   "cell_type": "markdown",
   "metadata": {},
   "source": [
    "# 3.4 Importance sampling: Figures"
   ]
  },
  {
   "cell_type": "markdown",
   "metadata": {},
   "source": [
    "## Example 3.2 (failure of ESS)"
   ]
  },
  {
   "cell_type": "code",
   "execution_count": null,
   "metadata": {},
   "outputs": [],
   "source": [
    "library(tidyverse)\n",
    "library(here)\n",
    "source(here(\"code/setup.R\"))"
   ]
  },
  {
   "cell_type": "code",
   "execution_count": null,
   "metadata": {},
   "outputs": [],
   "source": [
    "w <- function(x, eps) 1 / 2 * (1 + dnorm(x, 0, eps^(-2)) / dnorm(x))\n",
    "ess <- function(x, eps) sum(w(x, eps))^2 / sum(w(x, eps)^2)\n",
    "ef <- function(x, eps) ess(x, eps) / length(x) * 100\n",
    "\n",
    "M <- 100\n",
    "Ns <- c(100, 1000, 10000)\n",
    "eps2 <- c(.01, .1, .5)\n",
    "set.seed(454334534)\n",
    "simulations <- \n",
    "expand_grid(eps2 = eps2, N = Ns) %>%\n",
    "    group_by(eps2, N) %>%\n",
    "    mutate(ef = list(replicate(M, ef(rnorm(N), sqrt(eps2))))) %>%\n",
    "    unnest(cols = c(ef)) \n",
    "\n",
    "simulations %>%\n",
    "    ggplot(aes(N, ef, color = factor(eps2), group = interaction(eps2, N))) +\n",
    "    geom_boxplot() +\n",
    "    scale_x_log10(breaks = Ns) +\n",
    "    ylim(0, 100) +\n",
    "    labs(x = \"N\", y = \"EF[\\\\%]\", color = \"$\\\\varepsilon^2$\")\n",
    "\n",
    "ggsave_tikz(here(\"tikz/ess_failure.tex\"), width = 6, height = 4)\n",
    "simulations %>% \n",
    "    filter(N == 1000, eps2 == .5) %>%\n",
    "    pull(ef) %>%\n",
    "    summary()"
   ]
  }
 ],
 "metadata": {
  "kernelspec": {
   "display_name": "ir",
   "language": "R",
   "name": "ir"
  }
 },
 "nbformat": 4,
 "nbformat_minor": 2
}
