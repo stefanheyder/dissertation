{
 "cells": [
  {
   "cell_type": "raw",
   "metadata": {},
   "source": [
    "---\n",
    "skip_exec: true    # Skips in tests\n",
    "skip_showdoc: true # Skips in docs builds\n",
    "---"
   ]
  },
  {
   "cell_type": "markdown",
   "metadata": {},
   "source": [
    "# 3.8 Comparison of Importance Sampling Methods - Figures"
   ]
  },
  {
   "cell_type": "code",
   "execution_count": null,
   "metadata": {},
   "outputs": [],
   "source": [
    "library(here)\n",
    "source(here(\"setup.R\"))\n",
    "\n",
    "df_are_mu <- read_csv(here(\"data/figures/are_mu.csv\"))\n",
    "df_are_sigma2 <- read_csv(here(\"data/figures/are_sigma2.csv\"))\n",
    "\n",
    "df_rho_ce_sigma2 <- read_csv(here(\"data/figures/rho_cem_sigma2.csv\"))\n",
    "df_rho_eis_sigma2 <- read_csv(here(\"data/figures/rho_eis_sigma2.csv\"))\n",
    "df_rho_mu <- read_csv(here(\"data/figures/rho_mu.csv\"))\n",
    "\n",
    "rename_scenario <- function(df) {\n",
    "    df %>% rename(\n",
    "        \"$\\\\mathcal N (0, 1)$\" = 2,\n",
    "        \"loc. mixture, $\\\\omega^2 = 0.1$\" = 3,\n",
    "        \"loc. mixture, $\\\\omega^2= 0.5$\" = 4,\n",
    "        \"loc. mixture, $\\\\omega^2 = 1$\" = 5,\n",
    "        \"scale mixture, $\\\\varepsilon^2 = 100$\" = 6,\n",
    "        \"scale mixture, $\\\\varepsilon^2 = 10$\" = 7,\n",
    "        \"scale mixture, $\\\\varepsilon^2 = 2$\" = 8\n",
    "    )\n",
    "}\n",
    "\n",
    "add_type <- function(df) {\n",
    "    df %>%\n",
    "        mutate(type_short = str_sub(name, 1, 3)) %>%\n",
    "        mutate(type = case_when(\n",
    "            type_short == \"$\\\\m\" ~ \"normal\",\n",
    "            type_short == \"loc\" ~ \"location mixture\",\n",
    "            type_short == \"sca\" ~ \"scale mixture\"\n",
    "        )) %>%\n",
    "        mutate(type = factor(type, levels = c(\"normal\", \"location mixture\", \"scale mixture\")))\n",
    "}\n"
   ]
  },
  {
   "cell_type": "markdown",
   "metadata": {},
   "source": [
    "## `tikz/are.tex`"
   ]
  },
  {
   "cell_type": "code",
   "execution_count": null,
   "metadata": {},
   "outputs": [],
   "source": [
    "df_are_mu_fig <- df_are_mu %>%\n",
    "    rename_scenario() %>%\n",
    "    pivot_longer(-sigma2) %>%\n",
    "    add_type()\n",
    "\n",
    "df_are_sigma2_fig <- df_are_sigma2 %>%\n",
    "    rename_scenario() %>%\n",
    "    pivot_longer(-mu) %>%\n",
    "    add_type()\n",
    "\n",
    "\n",
    "plt_mu <- df_are_mu_fig %>%\n",
    "    mutate(name = str_extract(name, \"\\\\$.*\\\\$\")) %>%\n",
    "    ggplot(aes(sigma2, value, linetype = name, color = type)) +\n",
    "    geom_line() +\n",
    "    coord_cartesian(ylim = c(1e-2, 1e2)) +\n",
    "    scale_y_log10(breaks = 10^(-2:2), labels = paste0(\"$10^{\", -2:2, \"}$\")) +\n",
    "    scale_linetype_discrete(name = \"\") +\n",
    "    scale_color_discrete(name = \"\") +\n",
    "    labs(x = \"$\\\\sigma^2$\", y = \"$\\\\frac{V_{EIS}}{V_{CE}}$\")\n",
    "\n",
    "plt_sigma2 <- df_are_sigma2_fig %>%\n",
    "    mutate(name = str_extract(name, \"\\\\$.*\\\\$\")) %>%\n",
    "    ggplot(aes(mu, value, linetype = name, color = type)) +\n",
    "    geom_line() +\n",
    "    coord_cartesian(ylim = c(1e-2, 1e2)) +\n",
    "    scale_y_log10(breaks = 10^(-2:2), labels = paste0(\"$10^{\", -2:2, \"}$\")) +\n",
    "    scale_linetype_discrete(name = \"\") +\n",
    "    scale_color_discrete(name = \"\") +\n",
    "    labs(x = \"$\\\\mu$\", y = \"$\\\\frac{V_{EIS}}{V_{CE}}$\")\n",
    "\n",
    "(plt_mu | plt_sigma2) + plot_layout(guides = \"collect\") &\n",
    "    theme(legend.position = \"bottom\")\n",
    "\n",
    "ggsave_tikz(here(\"tikz/are.tex\"))\n"
   ]
  },
  {
   "cell_type": "markdown",
   "metadata": {},
   "source": [
    "## `tikz/rho.tex`"
   ]
  },
  {
   "cell_type": "code",
   "execution_count": null,
   "metadata": {},
   "outputs": [],
   "source": [
    "df_rho_ce_fig <- df_rho_ce_sigma2 %>%\n",
    "    rename_scenario() %>%\n",
    "    pivot_longer(-mu) %>%\n",
    "    add_type() %>%\n",
    "    mutate(name = str_extract(name, \"\\\\$.*\\\\$\")) %>%\n",
    "    rename(\"rho\" = value) %>%\n",
    "    mutate(\"EF\" = 1 / rho * 100)\n",
    "df_rho_eis_fig <- df_rho_eis_sigma2 %>%\n",
    "    rename_scenario() %>%\n",
    "    pivot_longer(-mu) %>%\n",
    "    add_type() %>%\n",
    "    mutate(name = str_extract(name, \"\\\\$.*\\\\$\")) %>%\n",
    "    rename(\"rho\" = value) %>%\n",
    "    mutate(\"EF\" = 1 / rho * 100)\n",
    "\n",
    "scales_fig <- list(\n",
    "    scale_linetype_discrete(name = \"\"),\n",
    "    scale_color_discrete(name = \"\")\n",
    ")\n",
    "\n",
    "\n",
    "p1 <- df_rho_ce_fig %>%\n",
    "    ggplot(aes(mu, EF, color = type, linetype = name)) +\n",
    "    geom_line() +\n",
    "    labs(x = \"$\\\\mu$\", y = \"EF [\\\\%]\") +\n",
    "    scales_fig +\n",
    "    coord_cartesian(ylim = c(0, 100)) +\n",
    "    ggtitle(\"CE-method\")\n",
    "p2 <- df_rho_eis_fig %>%\n",
    "    ggplot(aes(mu, EF, color = type, linetype = name)) +\n",
    "    geom_line() +\n",
    "    labs(x = \"$\\\\mu$\", y = \"EF [\\\\%]\") +\n",
    "    scales_fig +\n",
    "    coord_cartesian(ylim = c(0, 100)) +\n",
    "    ggtitle(\"EIS\")\n",
    "\n",
    "p3 <- select(rename(df_rho_ce_fig, \"CE\" = \"EF\"), -rho) %>%\n",
    "    inner_join(select(rename(df_rho_eis_fig, \"EIS\" = \"EF\"), -rho)) %>%\n",
    "    mutate(`relative EF` = CE / EIS) %>%\n",
    "    ggplot(aes(mu, `relative EF`, color = type, linetype = name)) +\n",
    "    geom_line() +\n",
    "    coord_cartesian(ylim = c(NA, 1.5)) +\n",
    "    scales_fig +\n",
    "    xlab(\"$\\\\mu$\") +\n",
    "    ylab(\"relative EF (CE/EIS)\")\n",
    "\n",
    "\n",
    "(p1 | p2 | p3) + plot_layout(guides = \"collect\") & theme(legend.position = \"bottom\")\n",
    "\n",
    "ggsave_tikz(here(\"tikz/rho.tex\"))\n"
   ]
  },
  {
   "cell_type": "markdown",
   "metadata": {},
   "source": [
    "## `tikz/rho_mu.tex`"
   ]
  },
  {
   "cell_type": "code",
   "execution_count": null,
   "metadata": {},
   "outputs": [],
   "source": [
    "df_rho_mu %>%\n",
    "    rename_scenario() %>%\n",
    "    pivot_longer(-sigma2) %>%\n",
    "    add_type() %>%\n",
    "    mutate(name = str_extract(name, \"\\\\$.*\\\\$\")) %>%\n",
    "    rename(\"rho\" = value) %>%\n",
    "    mutate(\"EF\" = 1 / rho * 100) %>%\n",
    "    ggplot(aes(sigma2, EF, color = type, linetype = name)) +\n",
    "    geom_line() +\n",
    "    labs(x = \"$\\\\sigma^2$\", y = \"EF [\\\\%]\") +\n",
    "    scale_color_discrete(name = \"\") +\n",
    "    scale_linetype_discrete(name = \"\") +\n",
    "    theme(legend.position = \"bottom\")\n",
    "\n",
    "ggsave_tikz(here(\"tikz/rho_mu.tex\"))\n"
   ]
  },
  {
   "cell_type": "markdown",
   "metadata": {},
   "source": [
    "## `tikz/cem_eis_sigma2.tex`"
   ]
  },
  {
   "cell_type": "code",
   "execution_count": null,
   "metadata": {},
   "outputs": [],
   "source": [
    "cem_sigma2 <- read_csv(here(\"data/figures/cem_sigma2.csv\")) %>%\n",
    "    rename_scenario() %>%\n",
    "    pivot_longer(-mu) %>%\n",
    "    add_type() %>%\n",
    "    mutate(name = str_extract(name, \"\\\\$.*\\\\$\")) %>%\n",
    "    rename(sigma2 = value) %>%\n",
    "    mutate(method = \"CE\")\n",
    "\n",
    "eis_sigma2 <- read_csv(here(\"data/figures/eis_sigma2.csv\")) %>%\n",
    "    rename_scenario() %>%\n",
    "    pivot_longer(-mu) %>%\n",
    "    add_type() %>%\n",
    "    mutate(name = str_extract(name, \"\\\\$.*\\\\$\")) %>%\n",
    "    rename(sigma2 = value) %>%\n",
    "    mutate(method = \"EIS\")\n",
    "\n",
    "cem_sigma2 %>%\n",
    "    rbind(eis_sigma2) %>%\n",
    "    ggplot(aes(mu, sigma2, color = type, linetype = name)) +\n",
    "    geom_line() +\n",
    "    facet_wrap(~method, scales = \"free_y\") +\n",
    "    coord_cartesian(ylim = c(0, 3)) +\n",
    "    labs(x = \"$\\\\mu$\", y = \"$\\\\sigma^2$\") +\n",
    "    scale_color_discrete(name = \"\") +\n",
    "    scale_linetype_discrete(name = \"\") +\n",
    "    theme(legend.position = \"bottom\")\n",
    "\n",
    "ggsave_tikz(here(\"tikz/cem_eis_sigma2.tex\"))\n"
   ]
  },
  {
   "cell_type": "markdown",
   "metadata": {},
   "source": [
    "## `tikz/gssm_eps.tex`"
   ]
  },
  {
   "cell_type": "code",
   "execution_count": null,
   "metadata": {},
   "outputs": [],
   "source": [
    "df_eps <- read_csv(here(\"data/figures/gsmm_eps.csv\"))\n",
    "\n",
    "p1 <- df_eps %>%\n",
    "    select(epsilon, sigma2_cem, sigma2_eis) %>%\n",
    "    pivot_longer(-epsilon, names_pattern = \"sigma2_(.*)\", values_to = \"sigma2\") %>%\n",
    "    mutate(name = ifelse(name == \"cem\", \"CE\", \"EIS\")) %>%\n",
    "    ggplot(aes(epsilon**2, sigma2 - (1 / 2 + 1 / 2 / epsilon**2), color = name)) +\n",
    "    geom_line() +\n",
    "    scale_x_log10() +\n",
    "    # scale_y_log10() +\n",
    "    scale_color_discrete(name = \"\") +\n",
    "    labs(x = \"$\\\\varepsilon^2$\", y = \"$\\\\hat \\\\sigma^2 - (\\\\frac 1 2 + \\\\frac 1 {2\\\\varepsilon^2})$\") +\n",
    "    ylim(-10, 5)\n",
    "\n",
    "p2 <- df_eps %>%\n",
    "    select(epsilon, starts_with(\"rho\")) %>%\n",
    "    pivot_longer(-epsilon, names_pattern = \"rho_(.*)\", values_to = \"rho\") %>%\n",
    "    mutate(name = ifelse(name == \"cem\", \"CE\", \"EIS\")) %>%\n",
    "    ggplot(aes(epsilon**2, 1 / rho * 100, color = name)) +\n",
    "    geom_line() +\n",
    "    scale_x_log10() +\n",
    "    labs(x = \"$\\\\varepsilon^2$\", y = \"EF [\\\\%]\") +\n",
    "    scale_color_discrete(name = \"\") +\n",
    "    ylim(0, 100)\n",
    "\n",
    "p3 <- df_eps %>%\n",
    "    select(epsilon, are) %>%\n",
    "    ggplot(aes(epsilon**2, are)) +\n",
    "    geom_line() +\n",
    "    scale_x_log10() +\n",
    "    labs(x = \"$\\\\varepsilon^2$\", y = \"$V_{EIS} / V_{CE}$\") +\n",
    "    theme(legend.position = \"bottom\")\n",
    "\n",
    "(p1 / p2 / p3) + plot_layout(guides = \"collect\") & theme(legend.position = \"bottom\")\n",
    "ggsave_tikz(here(\"tikz/gsmm_eps.tex\"))\n"
   ]
  },
  {
   "cell_type": "markdown",
   "metadata": {},
   "source": [
    "## `tikz/targets.tex`"
   ]
  },
  {
   "cell_type": "code",
   "execution_count": null,
   "metadata": {},
   "outputs": [],
   "source": [
    "# Define the location mixture function\n",
    "location_mixture <- function(x, omega2) {\n",
    "    0.5 * dnorm(x, mean = -1, sd = sqrt(omega2)) +\n",
    "        0.5 * dnorm(x, mean = 1, sd = sqrt(omega2))\n",
    "}\n",
    "\n",
    "# Define the scale mixture function\n",
    "scale_mixture <- function(x, eps2) {\n",
    "    1 / 3 * dnorm(x, mean = 0, sd = sqrt(1 / 2)) +\n",
    "        1 / 3 * dnorm(x, mean = 0, sd = sqrt(1 / 10)) +\n",
    "        1 / 3 * dnorm(x, mean = 0, sd = sqrt(1 / 100))\n",
    "}\n",
    "\n",
    "# Plot the functions\n",
    "ggplot() +\n",
    "    geom_function(fun = dnorm, aes(color = \"Standard Normal\")) +\n",
    "    geom_function(fun = location_mixture, aes(color = \"Location Mixture\")) +\n",
    "    geom_function(fun = scale_mixture, aes(color = \"Scale Mixture\")) +\n",
    "    xlim(-3, 3) +\n",
    "    labs(color = \"Distribution\") +\n",
    "    theme_minimal()\n"
   ]
  }
 ],
 "metadata": {
  "kernelspec": {
   "display_name": "ir",
   "language": "R",
   "name": "ir"
  }
 },
 "nbformat": 4,
 "nbformat_minor": 2
}
