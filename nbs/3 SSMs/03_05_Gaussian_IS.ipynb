{
 "cells": [
  {
   "cell_type": "raw",
   "metadata": {},
   "source": [
    "---\n",
    "skip_exec: true    # Skips in tests\n",
    "skip_showdoc: true # Skips in docs builds\n",
    "---"
   ]
  },
  {
   "cell_type": "markdown",
   "metadata": {},
   "source": [
    "# 3.5 Gaussian Importance Sampling"
   ]
  },
  {
   "cell_type": "code",
   "execution_count": null,
   "metadata": {},
   "outputs": [],
   "source": [
    "library(here)\n",
    "source(here(\"setup.R\"))\n"
   ]
  },
  {
   "cell_type": "code",
   "execution_count": null,
   "metadata": {},
   "outputs": [],
   "source": [
    "prob_failure_ce <- function(N, o2) {\n",
    "    pchisq(q = N * (1 + 1 / o2), N - 1, lower.tail = FALSE)\n",
    "}\n",
    "\n",
    "Ns <- round(10^(seq(1, 3, length.out = 5)))\n",
    "o2 <- 10^(seq(0, 2, length.out = 101))\n",
    "\n",
    "df <- expand.grid(N = Ns, o2 = o2) %>%\n",
    "    mutate(prob_failure = map2_dbl(N, o2, prob_failure_ce)) %>%\n",
    "    mutate(N = factor(N))\n",
    "\n",
    "df %>%\n",
    "    ggplot(aes(o2, prob_failure, color = N)) +\n",
    "    geom_line() +\n",
    "    scale_x_log10() +\n",
    "    # scale_y_log10(limits = c(1e-10, 1/2)) +\n",
    "    labs(\n",
    "        y = \"$1 - F_{\\\\chi^2_{N - 1}(N)} \\\\approx \\\\mathbf P ( \\\\hat \\\\Gamma > 1 )$\",\n",
    "        x = \"$\\\\omega^2$\"\n",
    "    )\n",
    "ggsave_tikz(here(\"tikz/ce_prob_failure.tex\"), width = 6, height = 3)\n"
   ]
  }
 ],
 "metadata": {
  "kernelspec": {
   "display_name": "ir",
   "language": "R",
   "name": "ir"
  }
 },
 "nbformat": 4,
 "nbformat_minor": 2
}
