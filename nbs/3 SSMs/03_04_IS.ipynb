{
 "cells": [
  {
   "cell_type": "raw",
   "metadata": {},
   "source": [
    "---\n",
    "skip_exec: true    # Skips in tests\n",
    "skip_showdoc: true # Skips in docs builds\n",
    "---"
   ]
  },
  {
   "cell_type": "markdown",
   "metadata": {},
   "source": [
    "# 3.4 Importance sampling"
   ]
  },
  {
   "cell_type": "code",
   "execution_count": null,
   "metadata": {},
   "outputs": [],
   "source": [
    "from jax import vmap, numpy as jnp\n",
    "import matplotlib.pyplot as plt\n",
    "from IPython.display import display"
   ]
  },
  {
   "cell_type": "markdown",
   "metadata": {},
   "source": [
    "## Lemma 3.5 ($\\mathbb E \\exp U = 1$ implies small $\\mu$)"
   ]
  },
  {
   "cell_type": "code",
   "execution_count": null,
   "metadata": {},
   "outputs": [],
   "source": [
    "def p(a,b):\n",
    "    #return (1 - jnp.exp(b)) / (jnp.exp(a) - jnp.exp(b))\n",
    "    return (jnp.exp(-b) - 1) / (jnp.exp(a - b) - 1)\n",
    "\n",
    "def mu(a,b):\n",
    "    return a * p(a,b) + b * (1 - p(a,b))\n",
    "\n",
    "def s2(a,b):\n",
    "    return p(a,b) * (1 - p(a,b)) * (b - a)**2\n",
    "\n",
    "def lower_bound(a,b):\n",
    "    return jnp.log(1 - jnp.exp(b) * s2(a,b) / 2)\n",
    "\n",
    "def upper_bound(a,b):\n",
    "    return jnp.log(1 - jnp.exp(a) * s2(a,b) / 2)\n",
    "\n",
    "\n",
    "a = jnp.linspace(-1, -.1, 101)\n",
    "b = jnp.linspace(1.1, 2, 2)\n",
    "\n",
    "outer = lambda fun: vmap(vmap(fun, (None, 0)), (0, None))\n",
    "\n",
    "mus = outer(mu)(a,b)\n",
    "lower = outer(lower_bound)(a,b)\n",
    "upper = outer(upper_bound)(a,b)\n",
    "\n",
    "for i in range(b.shape[0]):\n",
    "    plt.plot(a, mus[:,i], label=f'b={b[i]}', color = 'C'+str(i))\n",
    "    plt.plot(a, lower[:,i], linestyle='--', label=f'b={b[i]}', color = 'C'+str(i))\n",
    "    plt.plot(a, upper[:,i], linestyle='--', label=f'b={b[i]}', color = 'C'+str(i))\n",
    "plt.show()"
   ]
  },
  {
   "cell_type": "code",
   "execution_count": null,
   "metadata": {},
   "outputs": [],
   "source": [
    "(jnp.nan_to_num(lower, nan=-jnp.inf) < mus).all(), (mus < upper).all()"
   ]
  },
  {
   "cell_type": "markdown",
   "metadata": {},
   "source": [
    "# Example for Theorem 3.2 (variance is not a good measure for convergence)"
   ]
  },
  {
   "cell_type": "code",
   "execution_count": null,
   "metadata": {},
   "outputs": [],
   "source": [
    "from sympy import *\n",
    "from sympy.stats import Normal, E\n",
    "\n",
    "x= Symbol(\"x\")\n",
    "s = Symbol(\"sigma\", positive=True)\n",
    "X = Normal(\"x\", 0, s)\n",
    "w = s * exp(-X**2/2*(1-1/s**2))\n",
    "\n",
    "assert E(w * X, conds=\"none\") == 0\n",
    "\n",
    "# w*X is centered\n",
    "var_weights = E(w ** 2 * X**2, conds=\"none\")\n",
    "display(var_weights.simplify())"
   ]
  }
 ],
 "metadata": {
  "kernelspec": {
   "display_name": "python3",
   "language": "python",
   "name": "python3"
  }
 },
 "nbformat": 4,
 "nbformat_minor": 2
}
