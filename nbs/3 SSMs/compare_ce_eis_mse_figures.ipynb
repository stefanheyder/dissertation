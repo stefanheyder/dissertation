{
 "cells": [
  {
   "cell_type": "raw",
   "metadata": {},
   "source": [
    "---\n",
    "skip_exec: true    # Skips in tests\n",
    "skip_showdoc: true # Skips in docs builds\n",
    "---"
   ]
  },
  {
   "cell_type": "markdown",
   "metadata": {},
   "source": [
    "# 3.9 Comparison of importance sampling methods - Figures\n"
   ]
  },
  {
   "cell_type": "code",
   "execution_count": null,
   "metadata": {},
   "outputs": [],
   "source": [
    "library(here)\n",
    "source(here(\"code/setup.R\"))\n",
    "\n",
    "df_mse <- read_csv(here(\"data/figures/03_state_space_models/compare_ce_eis_mse.csv\"))\n",
    "df_ef <- read_csv(here(\"data/figures/03_state_space_models/ef_large_N.csv\"))\n",
    "df_dimensions <- read_csv(here(\"data/figures/03_state_space_models/ef_dimensions.csv\"))"
   ]
  },
  {
   "cell_type": "code",
   "execution_count": null,
   "metadata": {},
   "outputs": [],
   "source": [
    "df_mse %>%\n",
    "    ggplot(aes(N, ef, group = interaction(N, method))) +\n",
    "    geom_boxplot(aes(color = method)) +\n",
    "    scale_x_log10() +\n",
    "    labs(x=\"N\", y=\"Efficiency factor\")\n",
    "\n",
    "ggsave_tikz(here(\"tikz/ef_comparison_medium_N.tex\"))"
   ]
  },
  {
   "cell_type": "code",
   "execution_count": null,
   "metadata": {},
   "outputs": [],
   "source": [
    "Ns <- df_mse %>% \n",
    "    distinct(N) %>%\n",
    "    pull\n",
    "\n",
    "mse_plot <- df_mse %>%\n",
    "    filter(method != \"LA\") %>%\n",
    "    mutate(mse = mean_bias + mean_var + var_bias + var_var) %>%\n",
    "    select(method, N, mse) %>%\n",
    "    group_by(method, N) %>%\n",
    "    summarise(lower = t.test(mse)$conf.int[1], upper = t.test(mse)$conf.int[2], middle = mean(mse)) %>%\n",
    "    ggplot(aes(N, group = interaction(N, method))) +\n",
    "    #geom_boxplot(aes(color = method)) +\n",
    "    geom_point(aes(y=middle, color=method)) +\n",
    "    scale_x_log10(breaks = Ns[c(T,F)], minor_breaks = Ns[c(F,T)]) +\n",
    "    scale_y_log10() +\n",
    "    scale_shape_discrete(name=\"\") +\n",
    "    scale_color_discrete(name=\"\") +\n",
    "    labs(x=\"N\", y=\"$\\\\widehat{\\\\mathrm{aMSE}}$\")\n",
    "\n",
    "\n",
    "bias_var_plot <- df_mse %>%\n",
    "    filter(method != \"LA\") %>%\n",
    "    select(method, N, mean_bias:var_var) %>%\n",
    "    pivot_longer(-c(method, N)) %>%\n",
    "    mutate(parameter = ifelse(str_starts(name, \"mean\"), \"$\\\\mu$\", \"$\\\\sigma^2$\")) %>% \n",
    "    mutate(type=ifelse(str_ends(name, \"bias\"), \"aBias$^2$\", \"aVar\")) %>%\n",
    "    mutate(combination = paste0(method, \" - \", type)) %>%\n",
    "    select(N, value, method, combination, type, parameter) %>%\n",
    "    group_by(N, method, combination, type, parameter) %>%\n",
    "    summarise(lower = t.test(value)$conf.int[1], upper = t.test(value)$conf.int[2], middle = mean(value)) %>%\n",
    "    ggplot(aes(N, middle)) +\n",
    "    #geom_boxplot(aes(color=method, group=interaction(N, combination), linetype = type)) +\n",
    "    #geom_errorbar(aes(ymin = lower, ymax = upper, color=method, group=interaction(N, combination), linetype = type)) +\n",
    "    geom_point(aes(x = N * ifelse(type == \"aBias$^2$\", 1.1, 1/1.01), y=middle, color=method, pch=type)) +\n",
    "    #geom_smooth(aes(color=method), method='lm', se=FALSE, alpha = .1) + \n",
    "    scale_y_log10() +\n",
    "    scale_x_log10(breaks = Ns[c(T,F)], minor_breaks = Ns[c(F,T)]) +\n",
    "    facet_wrap(~parameter) +\n",
    "    scale_shape_discrete(name=\"\") +\n",
    "    scale_color_discrete(name=\"\") +\n",
    "    xlab(\"N\") + ylab(\"\")\n",
    "\n",
    "(mse_plot / bias_var_plot) + plot_layout(guides = \"collect\")\n",
    "ggsave_tikz(here(\"tikz/mse_bias_var_decomposition.tex\"))"
   ]
  },
  {
   "cell_type": "code",
   "execution_count": null,
   "metadata": {},
   "outputs": [],
   "source": [
    "df_ef %>%\n",
    "    ggplot(aes(y=ef, color=method)) +\n",
    "    geom_boxplot() "
   ]
  },
  {
   "cell_type": "code",
   "execution_count": null,
   "metadata": {},
   "outputs": [],
   "source": [
    "N <- df_dimensions %>%\n",
    "    pull(N) %>%\n",
    "    unique\n",
    "    \n",
    "M <- df_dimensions %>%\n",
    "    count(N,n,m, method) %>%\n",
    "    pull(nn) %>%\n",
    "    min\n",
    "\n",
    "ns <- df_dimensions %>%\n",
    "    distinct(n) %>%\n",
    "    pull(n)\n",
    "\n",
    "caption <- str_glue(\"$\\\\alpha = \\\\frac 1 2, r = \\\\frac 1 {{10}}, N = 10^{{ {round(log(N, 10))} }}, M={M}$\")\n",
    "\n",
    "df_dimensions %>%\n",
    "    ggplot(aes(x=n, y=ef, color=method)) +\n",
    "    geom_boxplot(aes(group = interaction(n, method)), width=.1) +\n",
    "    scale_x_log10(breaks=ns) +\n",
    "    labs(x=\"n\", y=\"Efficiency factor [\\\\%]\", caption=caption) +\n",
    "    facet_wrap(~m, label=label_both)  +\n",
    "    scale_color_discrete(name=\"\") + \n",
    "    theme(legend.position = \"bottom\")\n",
    "\n",
    "ggsave_tikz(here(\"tikz/ef_time_dimension.tex\"))"
   ]
  }
 ],
 "metadata": {
  "kernelspec": {
   "display_name": "ir",
   "language": "R",
   "name": "ir"
  }
 },
 "nbformat": 4,
 "nbformat_minor": 2
}
