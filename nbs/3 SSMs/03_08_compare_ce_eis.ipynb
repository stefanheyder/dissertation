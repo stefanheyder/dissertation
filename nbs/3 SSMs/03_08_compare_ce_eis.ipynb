{
 "cells": [
  {
   "cell_type": "markdown",
   "id": "04e9c477",
   "metadata": {},
   "source": [
    "# Example 3.6 (Negative Binomial VAR(1) SSM)"
   ]
  },
  {
   "cell_type": "code",
   "execution_count": null,
   "id": "503cfb67",
   "metadata": {},
   "outputs": [],
   "source": [
    "from isssm.typing import GLSSMState, GLSSM\n",
    "from isssm.models.pgssm import nb_pgssm\n",
    "from isssm.pgssm import simulate_pgssm\n",
    "import jax.numpy as jnp\n",
    "import jax.random as jrn\n",
    "\n",
    "key = jrn.PRNGKey(1142424457)"
   ]
  },
  {
   "cell_type": "markdown",
   "id": "f24c7a12",
   "metadata": {},
   "source": [
    "## Setup model"
   ]
  },
  {
   "cell_type": "code",
   "execution_count": null,
   "id": "01a28bd9",
   "metadata": {},
   "outputs": [],
   "source": [
    "alpha = 0.1\n",
    "n = 100\n",
    "Sigma = jnp.ones((n, 1, 1))\n",
    "\n",
    "u = jnp.zeros((n + 1, 1))\n",
    "A = alpha * jnp.ones((n, 1, 1))\n",
    "\n",
    "glssm_state = GLSSMState(\n",
    "    u=u,\n",
    "    A=A,\n",
    "    D=jnp.ones((n, 1, 1)),\n",
    "    Sigma0=jnp.eye(1),\n",
    "    Sigma=Sigma,\n",
    ")"
   ]
  },
  {
   "cell_type": "code",
   "execution_count": null,
   "id": "bf202dfe",
   "metadata": {},
   "outputs": [],
   "source": [
    "r = 2.0\n",
    "glssm = GLSSM(\n",
    "    v=jnp.zeros((n + 1, 1)),\n",
    "    B=jnp.ones((n + 1, 1, 1)),\n",
    "    Omega=jnp.empty((n + 1, 1, 1)),\n",
    "    **glssm_state._asdict(),\n",
    ")\n",
    "\n",
    "model = nb_pgssm(\n",
    "    glssm,\n",
    "    r=r,\n",
    ")"
   ]
  },
  {
   "cell_type": "markdown",
   "id": "0367ab96",
   "metadata": {},
   "source": [
    "## Simulate from distribution"
   ]
  },
  {
   "cell_type": "code",
   "execution_count": null,
   "id": "f66af641",
   "metadata": {},
   "outputs": [],
   "source": [
    "key, subkey = jrn.split(key)\n",
    "(_,), (Y,) = simulate_pgssm(model, N=1, key=subkey)"
   ]
  },
  {
   "cell_type": "markdown",
   "id": "7808318b",
   "metadata": {},
   "source": [
    "## Perform LA "
   ]
  },
  {
   "cell_type": "code",
   "execution_count": null,
   "id": "6d75b01f",
   "metadata": {},
   "outputs": [],
   "source": [
    "from isssm.laplace_approximation import laplace_approximation\n",
    "from isssm.importance_sampling import pgssm_importance_sampling, ess_pct\n",
    "\n",
    "proposal, info = laplace_approximation(y=Y, model=model, n_iter=1000, eps=1e-6)\n",
    "key, subkey = jrn.split(key)\n",
    "\n",
    "\n",
    "def proposal_ess_pct(y, model, proposal, N=1000, key=None):\n",
    "    _, lw = pgssm_importance_sampling(\n",
    "        y=y,\n",
    "        model=model,\n",
    "        z=proposal.z,\n",
    "        Omega=proposal.Omega,\n",
    "        N=N,\n",
    "        key=key,\n",
    "    )\n",
    "\n",
    "    return ess_pct(lw)\n",
    "\n",
    "\n",
    "proposal_ess_pct(Y, model, proposal, N=1000, key=subkey)"
   ]
  },
  {
   "cell_type": "markdown",
   "id": "6763c089",
   "metadata": {},
   "source": [
    "## Find \"true\" proposals for CE/EIS"
   ]
  },
  {
   "cell_type": "code",
   "execution_count": null,
   "id": "c2c8bf89",
   "metadata": {},
   "outputs": [],
   "source": [
    "from isssm.ce_method import cross_entropy_method as cem\n",
    "from isssm.modified_efficient_importance_sampling import (\n",
    "    modified_efficient_importance_sampling as eis,\n",
    ")\n",
    "\n",
    "N_true = 100_000\n",
    "\n",
    "key, subkey = jrn.split(key)\n",
    "cem_true, log_w_cem = cem(model, Y, N_true, subkey, n_iter=100)\n",
    "ess_pct(log_w_cem)"
   ]
  },
  {
   "cell_type": "code",
   "execution_count": null,
   "id": "44cb4374",
   "metadata": {},
   "outputs": [],
   "source": [
    "key, subkey = jrn.split(key)\n",
    "eis_true, _ = eis(\n",
    "    y=Y,\n",
    "    model=model,\n",
    "    z_init=proposal.z,\n",
    "    Omega_init=proposal.Omega,\n",
    "    n_iter=100,\n",
    "    N=N_true,\n",
    "    key=subkey,\n",
    ")\n",
    "key, subkey = jrn.split(key)\n",
    "\n",
    "proposal_ess_pct(Y, model, eis_true, N=1000, key=subkey)"
   ]
  },
  {
   "cell_type": "markdown",
   "id": "9862063d",
   "metadata": {},
   "source": [
    "## Obtain proposals $\\hat{\\mathbf P}^N_{\\text{CE}}$ and $\\hat{\\mathbf P}^N_{\\text{EIS}}$"
   ]
  },
  {
   "cell_type": "code",
   "execution_count": null,
   "id": "6a1f603d",
   "metadata": {},
   "outputs": [],
   "source": [
    "def finite_N_cem(N, key):\n",
    "    key, subkey = jrn.split(key)\n",
    "    cem_finite, log_w_cem = cem(model, Y, N, subkey, n_iter=100)\n",
    "    return cem_finite"
   ]
  },
  {
   "cell_type": "markdown",
   "id": "d8cd6abf",
   "metadata": {},
   "source": [
    "## Extract marginal means and variances"
   ]
  },
  {
   "cell_type": "code",
   "execution_count": null,
   "id": "af64425f",
   "metadata": {},
   "outputs": [],
   "source": [
    "def cem_marginals(cem_proposal):\n",
    "    "
   ]
  },
  {
   "cell_type": "markdown",
   "id": "75320127",
   "metadata": {},
   "source": [
    "## Calculate MSE"
   ]
  },
  {
   "cell_type": "markdown",
   "id": "821d8033",
   "metadata": {},
   "source": [
    "## Bias-Variance decomposition"
   ]
  }
 ],
 "metadata": {
  "kernelspec": {
   "display_name": "python3",
   "language": "python",
   "name": "python3"
  }
 },
 "nbformat": 4,
 "nbformat_minor": 5
}
