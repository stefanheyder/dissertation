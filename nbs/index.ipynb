{
 "cells": [
  {
   "cell_type": "code",
   "execution_count": null,
   "metadata": {},
   "outputs": [],
   "source": [
    "#| hide"
   ]
  },
  {
   "cell_type": "markdown",
   "metadata": {},
   "source": [
    "# Thesis\n",
    "> code for my PhD thesis \"State space models for epidemiological data with application to COVID-19 in Germany\""
   ]
  },
  {
   "cell_type": "markdown",
   "metadata": {},
   "source": [
    "## README\n",
    "\n",
    "This repository contains the code and latex files to build my PhD thesis. The code heavily relies on my package [isssm](https://stefanheyder.github.io/isssm), extending it to non-standard use-cases.\n",
    "\n",
    "You can find the most recent version of my thesis under the following link: https://stefanheyder.github.io/dissertation/thesis.pdf.\n",
    "\n",
    "The code is developed in Jupyter notebooks and organized by the chapters and sections of the thesis. Simulations and analyses are run with `Python`, figures are created with `R`, using `ggplot` and `tikzDevice` to create `tikz` graphics.\n"
   ]
  }
 ],
 "metadata": {
  "kernelspec": {
   "display_name": "python3",
   "language": "python",
   "name": "python3"
  }
 },
 "nbformat": 4,
 "nbformat_minor": 4
}
