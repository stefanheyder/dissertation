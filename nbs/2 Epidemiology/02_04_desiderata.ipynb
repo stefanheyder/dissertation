{
 "cells": [
  {
   "cell_type": "raw",
   "metadata": {},
   "source": [
    "---\n",
    "skip_exec: true    # Skips in tests\n",
    "skip_showdoc: true # Skips in docs builds\n",
    "---"
   ]
  },
  {
   "cell_type": "markdown",
   "metadata": {},
   "source": [
    "# 2.4 Desiderata for epidemiological models"
   ]
  },
  {
   "cell_type": "code",
   "execution_count": null,
   "metadata": {},
   "outputs": [],
   "source": [
    "library(here)\n",
    "source(here(\"setup.R\"))\n"
   ]
  },
  {
   "cell_type": "code",
   "execution_count": null,
   "metadata": {},
   "outputs": [],
   "source": [
    "w_df <- read_csv(here(\"data/processed/generation_time.csv\"))\n",
    "w <- w_df$w\n",
    "\n",
    "estimate_R <- function(I, w) {\n",
    "    I_ext <- c(rep(0, length(w) - 1), I)\n",
    "    I / stats::filter(I_ext, c(0, w), sides = 1, method = \"convolution\")[-(1:(length(w) - 1))]\n",
    "}\n",
    "\n",
    "estimate_rho <- function(I) {\n",
    "    I / lag(I, 7)\n",
    "}\n",
    "\n",
    "fct_events <- ordered(c(\"outbreak\", \"christmas\"))\n",
    "\n",
    "stopifnot(length(estimate_R(rpois(100, 10), w)) == 100)\n",
    "\n",
    "rki <- read_csv(here(\"data/processed/rki_county.csv\"))\n",
    "\n",
    "\n",
    "rki %>%\n",
    "    group_by(date) %>%\n",
    "    summarize(cases = sum(cases)) %>%\n",
    "    mutate(cases_7 = rollmean(cases, k = 7, fill = NA)) %>%\n",
    "    mutate(R = estimate_R(cases, w)) %>%\n",
    "    mutate(R_7 = estimate_R(cases_7, w)) %>%\n",
    "    mutate(rho = estimate_rho(cases)) %>%\n",
    "    mutate(rho_7 = estimate_rho(cases_7)) %>%\n",
    "    filter(date >= \"2020-04-01\") %>%\n",
    "    select(date, R:rho_7) %>%\n",
    "    pivot_longer(-date) %>%\n",
    "    mutate(type = ifelse(str_starts(name, \"R\"), \"$\\\\hat R$\", \"$\\\\hat \\\\rho^7$\")) %>%\n",
    "    mutate(timescale = ifelse(str_ends(name, \"_7\"), \"7-day avg.\", \"daily\")) %>%\n",
    "    ggplot(aes(date, value, color = timescale, alpha = timescale, group = timescale)) +\n",
    "    geom_line() +\n",
    "    facet_wrap(~type, scales = \"free_y\", nrow = 2) +\n",
    "    scale_color_manual(values = c(\"daily\" = \"black\", \"7-day avg.\" = pal_npg()(1))) +\n",
    "    scale_alpha_manual(values = c(\"daily\" = .4, \"7-day avg.\" = 1)) +\n",
    "    coord_cartesian(ylim = c(0, 3.2)) +\n",
    "    scale_x_date(date_minor_breaks = \"1 month\", limits = c(ymd(\"2020-04-01\"), ymd(\"2021-03-01\")), date_breaks = \"3 months\", date_labels = \"%b %Y\") +\n",
    "    theme(legend.position = \"bottom\") +\n",
    "    geom_mark_rect(\n",
    "        aes(\n",
    "            x = date, y = value,\n",
    "            filter = (date <= ymd(\"2020-07-01\") & date >= ymd(\"2020-06-01\")), group = type, linetype = fct_events[1]\n",
    "        ),\n",
    "        inherit.aes = FALSE\n",
    "    ) +\n",
    "    geom_mark_rect(\n",
    "        aes(\n",
    "            x = date, y = value,\n",
    "            filter = (date >= ymd(\"2020-12-07\") & date <= ymd(\"2021-01-14\")),\n",
    "            group = type, linetype = fct_events[2]\n",
    "        ),\n",
    "        inherit.aes = FALSE\n",
    "    ) +\n",
    "    scale_linetype_manual(values = c(\"outbreak\" = \"dashed\", \"christmas\" = \"dotted\")) +\n",
    "    labs(x = \"\", y = \"\", color = \"incidences\", alpha = \"incidences\", linetype = \"\")\n",
    "# geom_magnify( # Toennies\n",
    "#    from = list(ymd(\"2020-06-01\"), ymd(\"2020-07-01\"), .6, 2.2),\n",
    "#    to = list(ymd(\"2020-08-01\"), ymd(\"2020-10-14\"), 2.1, 3),\n",
    "#    axes = \"x\"\n",
    "# )\n",
    "# geom_magnify( # christmas\n",
    "#    from = list(ymd(\"2020-12-07\"), ymd(\"2021-01-14\"), .5, 1.5),\n",
    "#    to = list(ymd(\"2021-03-01\"), ymd(\"2021-07-01\"), 2.2, 3.9),\n",
    "#    axes = \"x\"\n",
    "# )\n",
    "\n",
    "ggsave_tikz(here(\"tikz/rho_and_R_naive.tex\"))\n"
   ]
  }
 ],
 "metadata": {
  "kernelspec": {
   "display_name": "ir",
   "language": "R",
   "name": "ir"
  }
 },
 "nbformat": 4,
 "nbformat_minor": 2
}
