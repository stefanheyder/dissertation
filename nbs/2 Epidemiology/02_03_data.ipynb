{
 "cells": [
  {
   "cell_type": "raw",
   "metadata": {},
   "source": [
    "---\n",
    "skip_exec: true    # Skips in tests\n",
    "skip_showdoc: true # Skips in docs builds\n",
    "---"
   ]
  },
  {
   "cell_type": "markdown",
   "metadata": {},
   "source": [
    "# 2.3 Available data and its quality\n",
    ">"
   ]
  },
  {
   "cell_type": "code",
   "execution_count": null,
   "metadata": {},
   "outputs": [],
   "source": [
    "library(here)\n",
    "source(here(\"setup.R\"))\n",
    "library(zoo)\n",
    "library(ggmagnify)\n",
    "library(latex2exp)\n",
    "library(scales)\n"
   ]
  },
  {
   "cell_type": "markdown",
   "metadata": {},
   "source": [
    "## RKI case and death data"
   ]
  },
  {
   "cell_type": "markdown",
   "metadata": {},
   "source": [
    "### `tikz/cases_germany.tex`"
   ]
  },
  {
   "cell_type": "code",
   "execution_count": null,
   "metadata": {},
   "outputs": [],
   "source": [
    "rki_county <- here(\"data/processed/RKI_county.csv\") %>%\n",
    "    read_csv()\n",
    "\n",
    "df_weekly <- rki_county %>%\n",
    "    group_by(date) %>%\n",
    "    summarize(cases = sum(cases), deaths = sum(deaths)) %>%\n",
    "    mutate(cases_7 = rollmean(cases, k = 7, fill = NA), deaths_7 = rollmean(deaths, k = 7, fill = NA))\n",
    "\n",
    "p_cases <- df_weekly %>%\n",
    "    select(-deaths_7) %>%\n",
    "    pivot_longer(cols = c(cases, cases_7), names_to = \"type\", values_to = \"value\") %>%\n",
    "    mutate(type = ifelse(type == \"cases\", \"daily\", \"7-day avg.\")) %>%\n",
    "    ggplot(aes(date, value, color = type, alpha = type)) +\n",
    "    geom_line() +\n",
    "    scale_y_continuous(labels = scales::comma) +\n",
    "    scale_color_manual(values = c(\"daily\" = \"black\", \"7-day avg.\" = pal_npg()(1))) +\n",
    "    scale_alpha_manual(values = c(\"daily\" = .4, \"7-day avg.\" = 1)) +\n",
    "    labs(x = \"\", y = \"\\\\# reported cases\", alpha = \"\", color = \"\", title = \"A\") +\n",
    "    geom_magnify( # christmas\n",
    "        from = list(ymd(\"2020-12-01\"), ymd(\"2021-02-01\"), .1 * 1e5, .35 * 1e5),\n",
    "        to =   list(ymd(\"2021-03-01\"), ymd(\"2022-01-01\"), 1e5, 2.8e5),\n",
    "        axes = \"x\"\n",
    "    ) +\n",
    "    geom_magnify( # Toennies\n",
    "        from = list(ymd(\"2020-05-01\"), ymd(\"2020-08-01\"), 0, .1e4),\n",
    "        to = list(ymd(\"2020-01-01\"), ymd(\"2020-11-01\"), 1e5, 2.8e5),\n",
    "        axes = \"x\"\n",
    "    )\n",
    "\n",
    "p_deaths <- df_weekly %>%\n",
    "    select(-cases_7) %>%\n",
    "    pivot_longer(cols = c(deaths, deaths_7), names_to = \"type\", values_to = \"value\") %>%\n",
    "    mutate(type = ifelse(type == \"deaths\", \"daily\", \"7-day avg.\")) %>%\n",
    "    ggplot(aes(date, value, color = type, alpha = type)) +\n",
    "    geom_line() +\n",
    "    scale_color_manual(values = c(\"daily\" = \"black\", \"7-day avg.\" = pal_npg()(1))) +\n",
    "    scale_alpha_manual(values = c(\"daily\" = .4, \"7-day avg.\" = 1)) +\n",
    "    labs(x = \"reporting date (Meldedatum)\", y = \"\\\\# reported deaths\", alpha = \"\", color = \"\", title = \"B\")\n",
    "# geom_magnify( # christmas\n",
    "#    from = list(ymd(\"2020-11-15\"), ymd(\"2021-02-01\"), 600, 1000),\n",
    "#    to = list(ymd(\"2021-03-10\"), ymd(\"2021-10-10\"), 400, 1100),\n",
    "#    axes = \"x\"\n",
    "# )\n",
    "\n",
    "(p_cases / p_deaths) + plot_layout(guides = \"collect\") & theme(legend.position = \"bottom\", legend.box = \"horizontal\")\n",
    "ggsave_tikz(here(\"tikz/cases_germany.tex\"))\n"
   ]
  },
  {
   "cell_type": "markdown",
   "metadata": {},
   "source": [
    "### Infection date vs. reporting date"
   ]
  },
  {
   "cell_type": "code",
   "execution_count": null,
   "metadata": {},
   "outputs": [],
   "source": [
    "rki_raw <- read_csv(here(\"data/raw/RKI.csv\"))\n",
    "\n",
    "rki_raw %>%\n",
    "    group_by(IstErkrankungsbeginn) %>%\n",
    "    summarize(cases = sum(AnzahlFall * (NeuerFall >= 0))) %>%\n",
    "    mutate(prop = cases / sum(cases) * 100)\n",
    "\n",
    "rki_raw %>%\n",
    "    filter(IstErkrankungsbeginn == 1) %>%\n",
    "    group_by(Refdatum) %>%\n",
    "    summarize(cases = sum(AnzahlFall * (NeuerFall >= 0))) %>%\n",
    "    ggplot(aes(Refdatum, cases)) +\n",
    "    geom_line() +\n",
    "    labs(title = \"Only dates of symptom onset\")\n"
   ]
  },
  {
   "cell_type": "markdown",
   "metadata": {},
   "source": [
    "### reporting triangle\n",
    "\n",
    "We use the reporting triangle for the number of cases, i.e. on any day $t$ the number of cases $$I_{s,t}$$ that are reported associated with date $s < t$. \n",
    "\n",
    "We begin our analysis on April 1st 2020, when data have become stable enough to warrant an analysis."
   ]
  },
  {
   "cell_type": "code",
   "execution_count": null,
   "metadata": {},
   "outputs": [],
   "source": [
    "full_rep_tri <- read_csv(here(\"data/raw/rki_cases_deaths_delays.csv\")) %>%\n",
    "    select(t = rki_date, s = county_date, I = cases) %>%\n",
    "    filter(s >= ymd(\"2020-04-01\"))\n"
   ]
  },
  {
   "cell_type": "code",
   "execution_count": null,
   "metadata": {},
   "outputs": [],
   "source": [
    "full_rep_tri %>%\n",
    "    pull(s) %>%\n",
    "    range()\n"
   ]
  },
  {
   "cell_type": "code",
   "execution_count": null,
   "metadata": {},
   "outputs": [],
   "source": [
    "full_rep_tri %>%\n",
    "    mutate(I = ifelse(I < 1, NA, I)) %>%\n",
    "    ggplot(aes(x = s, y = t, fill = I)) +\n",
    "    geom_tile() +\n",
    "    scale_fill_viridis_c(trans = \"log10\") +\n",
    "    labs(x = \"s\", y = \"t\", fill = TeX(\"$I_{s,t}$\"))\n"
   ]
  },
  {
   "cell_type": "markdown",
   "metadata": {},
   "source": [
    "How often is $I_{s,t} > I_{s,T}$?"
   ]
  },
  {
   "cell_type": "code",
   "execution_count": null,
   "metadata": {},
   "outputs": [],
   "source": [
    "rel_diffs <- full_rep_tri %>%\n",
    "    group_by(s) %>%\n",
    "    arrange(t) %>%\n",
    "    mutate(rel_diff = (I - tail(I, 1)) / tail(I, 1)) %>%\n",
    "    ungroup() %>%\n",
    "    filter(rel_diff > 0) %>%\n",
    "    mutate(rel_diff_pct = rel_diff * 100)\n",
    "\n",
    "rel_diffs %>%\n",
    "    ggplot(aes(x = rel_diff)) +\n",
    "    geom_histogram(bins = 100) +\n",
    "    scale_x_log10()\n",
    "\n",
    "rel_diffs %>%\n",
    "    summarize(\n",
    "        q90 = quantile(rel_diff_pct, .9),\n",
    "        q95 = quantile(rel_diff_pct, .95),\n",
    "        q99 = quantile(rel_diff_pct, .99),\n",
    "        q999 = quantile(rel_diff_pct, .999)\n",
    "    )\n",
    "\n",
    "rel_diffs %>%\n",
    "    arrange(rel_diff_pct) %>%\n",
    "    tail(20)\n"
   ]
  },
  {
   "cell_type": "markdown",
   "metadata": {},
   "source": [
    "### `tikz/reporting_delays_cases.tex`"
   ]
  },
  {
   "cell_type": "code",
   "execution_count": null,
   "metadata": {},
   "outputs": [],
   "source": [
    "data_april <- full_rep_tri %>%\n",
    "    filter(s >= ymd(\"2021-12-01\"), s < ymd(\"2022-01-01\")) %>%\n",
    "    filter(t >= ymd(\"2021-12-01\"), t < ymd(\"2022-01-01\"))\n",
    "p_reptri_case <- data_april %>%\n",
    "    ggplot(aes(x = s, y = t, fill = I)) +\n",
    "    geom_tile() +\n",
    "    scale_fill_viridis_c(trans = \"log10\", labels = label_comma()) +\n",
    "    labs(x = \"$s$\", y = \"$t$\", fill = \"$I_{s,t}$\")\n",
    "\n",
    "p_maginal_case <- data_april %>%\n",
    "    ggplot(aes(x = s, y = I, color = t, group = factor(t))) +\n",
    "    geom_line() +\n",
    "    theme(axis.title.x = element_blank(), axis.ticks.x = element_blank(), axis.text.x = element_blank()) +\n",
    "    labs(x = \"\", y = \"$I_{s,t}$\", color = \"data date\") +\n",
    "    scale_color_viridis_c(option = \"H\", trans = \"date\")\n",
    "\n",
    "(p_maginal_case / p_reptri_case) + plot_layout(heights = c(1, 2))\n"
   ]
  },
  {
   "cell_type": "markdown",
   "metadata": {},
   "source": [
    "## `data/processed/RKI_4day_rt.csv`"
   ]
  },
  {
   "cell_type": "markdown",
   "metadata": {},
   "source": [
    "We are only interested in the number of _newly_ reported cases on each day. Let \n",
    "$$\n",
    "    I_{s,t} = \\sum_{\\tau = 0}^{t - s} i_{s, \\tau}\n",
    "$$\n",
    "be the distribution of reported on date $t$ for date $s$. We will assume that $i_{s,\\tau} \\geq 0$ always holds. To ensure this, let $T$ be the last date observed and set \n",
    "$$\n",
    "    \\tilde I_{s,t} = \\min \\{\\max \\{I_{s,s}, \\dots, I_{s,t}\\}, I_{s,T}\\}.\n",
    "$$\n",
    "$\\tilde I_{s,t}$ is a running maximum that is cut-off at the final value $I_{s,T}$ (to deal with big rearrangements of cases, due to missingness or faulty data)."
   ]
  },
  {
   "cell_type": "code",
   "execution_count": null,
   "metadata": {},
   "outputs": [],
   "source": [
    "rep_tri_cummax <- full_rep_tri %>%\n",
    "    arrange(t) %>%\n",
    "    group_by(s) %>%\n",
    "    mutate(\n",
    "        I_tilde = pmin(cummax(I), tail(I, 1)),\n",
    "    ) %>%\n",
    "    ungroup()\n",
    "\n",
    "increments <- rep_tri_cummax %>%\n",
    "    group_by(s) %>%\n",
    "    mutate(\n",
    "        i = I_tilde - lag(I_tilde, default = 0),\n",
    "    ) %>%\n",
    "    ungroup()\n",
    "\n",
    "stopifnot(all(increments$i >= 0))\n",
    "\n",
    "increments %>%\n",
    "    ggplot(aes(x = s, y = t - s, fill = i)) +\n",
    "    geom_tile() +\n",
    "    scale_fill_viridis_c(trans = \"log10\", na.value = rgb(0, 0, 0, 0)) +\n",
    "    ylim(0, 30)\n",
    "\n",
    "\n",
    "max_tau <- 4\n",
    "increments %>%\n",
    "    mutate(tau = as.numeric(t - s)) %>%\n",
    "    filter(tau <= max_tau) %>%\n",
    "    filter(s >= min(s) + max_tau) %>%\n",
    "    select(s, tau, i) %>%\n",
    "    pivot_wider(names_from = tau, values_from = i, values_fill = 0) %>%\n",
    "    rename(county_date = s) %>%\n",
    "    write_csv(here(\"data/processed/RKI_4day_rt.csv\"))\n"
   ]
  },
  {
   "cell_type": "markdown",
   "metadata": {},
   "source": [
    "We see that most delays are short. Let us investigate the proportion of reported cases with delay $\\tau = t - s$:\n",
    "\n",
    "$$\n",
    "    p_{\\tau} = \\frac{\\sum_{t - s = \\tau} i_{s, t}}{\\sum_{t,s} i_{s,t}}\n",
    "$$\n",
    "\n",
    "and we will look at the survival function \n",
    "$$\n",
    "    \\hat S(\\tau) =  1- \\sum_{\\tau' \\leq \\tau} p_{\\tau'}\n",
    "$$\n",
    "which measures the fraction of cases reported after $\\tau$ days of delay."
   ]
  },
  {
   "cell_type": "markdown",
   "metadata": {},
   "source": [
    "### `tikz/survival_function_rep_tri_incidences.tex`"
   ]
  },
  {
   "cell_type": "code",
   "execution_count": null,
   "metadata": {},
   "outputs": [],
   "source": [
    "total_S <- increments %>%\n",
    "    mutate(tau = as.numeric(t - s)) %>%\n",
    "    group_by(tau) %>%\n",
    "    summarize(total = sum(i)) %>%\n",
    "    ungroup() %>%\n",
    "    mutate(p = total / sum(total)) %>%\n",
    "    mutate(S = 1 - cumsum(p))\n",
    "\n",
    "quarter_S <- increments %>%\n",
    "    mutate(tau = as.numeric(t - s)) %>%\n",
    "    group_by(quarter = floor_date(s, \"quarter\"), tau) %>%\n",
    "    summarize(total = sum(i)) %>%\n",
    "    mutate(p = total / sum(total)) %>%\n",
    "    mutate(S = 1 - cumsum(p)) %>%\n",
    "    ungroup()\n",
    "p_boxplots <- increments %>%\n",
    "    mutate(tau = as.numeric(t - s)) %>%\n",
    "    group_by(s) %>%\n",
    "    arrange(t) %>%\n",
    "    mutate(p = i / sum(i)) %>%\n",
    "    mutate(S = 1 - cumsum(p)) %>%\n",
    "    ungroup() %>%\n",
    "    filter(tau <= 10) %>%\n",
    "    filter(S > 1e-7) %>%\n",
    "    ggplot(aes(x = factor(tau), y = S, group = tau)) +\n",
    "    geom_boxplot() +\n",
    "    scale_y_log10(breaks = c(1, .01, .0001), labels = c(\"1\", \"0.01\", \"0.0001\")) +\n",
    "    geom_hline(aes(yintercept = y, linetype = name), data = tibble(y = c(.05, .01), name = factor(2:3, labels = c(\"5\\\\%\", \"1\\\\%\")))) +\n",
    "    scale_linetype_manual(values = c(\"dashed\", \"dotted\")) +\n",
    "    labs(x = \"$\\\\tau$\", y = \"$\\\\hat S_{s}(\\\\tau)$\", title = \"A\", linetype = \"\")\n",
    "\n",
    "p_hat_S <- quarter_S %>%\n",
    "    filter(tau <= 10) %>%\n",
    "    # mutate(label = ifelse(tau %in% c(4,8), paste(round(S * 100, 1), \"\\\\%\") , NA)) %>%\n",
    "    mutate(ord_fct = ordered(quarter)) %>%\n",
    "    # relevel ord_fct to use levels(fct) <- paste0(year(fct), \"-Q\", quarter(fct))\n",
    "    mutate(ord_fct = fct_relevel(ord_fct, paste0(year(ord_fct), \"-Q\", quarter(ord_fct)))) %>%\n",
    "    mutate(group = as.numeric(ord_fct)) %>%\n",
    "    mutate(x = tau + (group - 8) / 25) %>%\n",
    "    ggplot(aes(x = x, y = S, color = group)) +\n",
    "    geom_point(size = .5) +\n",
    "    geom_segment(aes(x = x, xend = x, y = S, yend = 0), linewidth = .3) +\n",
    "    geom_hline(aes(yintercept = y, linetype = name), data = tibble(y = c(.05, .01), name = factor(2:3, labels = c(\"5\\\\%\", \"1\\\\%\")))) +\n",
    "    scale_linetype_manual(values = c(\"dashed\", \"dotted\")) +\n",
    "    scale_x_continuous(breaks = 0:10) +\n",
    "    scale_y_log10(breaks = c(.1, .01, .001), labels = c(\"0.1\", \"0.01\", \"0.001\")) +\n",
    "    labs(x = \"$\\\\tau$\", y = \"$\\\\hat S_q(\\\\tau)$\", color = \"\", linetype = \"\", title = \"B\") +\n",
    "    scale_color_viridis_c(breaks = c(2, 8, 14), labels = c(\"2020-Q3\", \"2022-Q1\", \"2023-Q2\")) +\n",
    "    guides(color = guide_colorbar())\n",
    "\n",
    "p_boxplots / p_hat_S + plot_layout(heights = c(1, 1), guides = \"collect\")\n",
    "\n",
    "ggsave_tikz(here(\"tikz/survival_function_rep_tri_incidences.tex\"))\n"
   ]
  },
  {
   "cell_type": "markdown",
   "metadata": {},
   "source": [
    "## RKI Hospitalization data\n",
    "\n",
    "Denote by \n",
    "$$\n",
    "    H^{a}_{s,t}\n",
    "$$\n",
    "the number of hospitalisations in age-group $a$ whose case reporting date is $s$ and whose hospitalization reporting date is $t$.\n"
   ]
  },
  {
   "cell_type": "code",
   "execution_count": null,
   "metadata": {},
   "outputs": [],
   "source": [
    "hospitalisations_raw <- read_csv(here(\"data/raw/all_hosp_age.csv\")) %>%\n",
    "    select(-location) %>%\n",
    "    rename(a = age_group, s = case_date, t = hosp_date, H = value)\n"
   ]
  },
  {
   "cell_type": "code",
   "execution_count": null,
   "metadata": {},
   "outputs": [],
   "source": [
    "df_hosp_plot <- hospitalisations_raw %>%\n",
    "    filter(s >= ymd(\"2021-12-01\"), s < ymd(\"2022-01-01\")) %>%\n",
    "    filter(t >= ymd(\"2021-12-01\"), t < ymd(\"2022-01-01\")) %>%\n",
    "    group_by(s, t) %>%\n",
    "    summarize(H = sum(H))\n",
    "\n",
    "p_reptri_hosp <- df_hosp_plot %>%\n",
    "    ggplot(aes(s, t, fill = H)) +\n",
    "    geom_tile() +\n",
    "    scale_fill_viridis_c(trans = \"log10\") +\n",
    "    labs(fill = \"$H_{s,t}$\", x = \"$s$\", y = \"$t$\")\n",
    "\n",
    "p_marginal_hosp <- df_hosp_plot %>%\n",
    "    ggplot(aes(s, H, color = t, group = t)) +\n",
    "    geom_line() +\n",
    "    theme(axis.title.x = element_blank(), axis.ticks.x = element_blank(), axis.text.x = element_blank()) +\n",
    "    labs(x = \"\", y = \"$H_{s,t}$\", color = \"data date\") +\n",
    "    scale_color_viridis_c(option = \"H\", trans = \"date\")\n",
    "\n",
    "p_marginal_hosp / p_reptri_hosp\n"
   ]
  },
  {
   "cell_type": "code",
   "execution_count": null,
   "metadata": {},
   "outputs": [],
   "source": [
    "(((p_maginal_case + ggtitle(\"A\")) / p_reptri_case) | ((p_marginal_hosp + ggtitle(\"B\")) / p_reptri_hosp)) + plot_layout(heights = c(1, 2), guides = \"collect\")\n",
    "\n",
    "ggsave_tikz(here(\"tikz/reporting_delays_cases.tex\"))\n"
   ]
  },
  {
   "cell_type": "code",
   "execution_count": null,
   "metadata": {},
   "outputs": [],
   "source": [
    "rep_tri_hosp_cummax <- hospitalisations_raw %>%\n",
    "    arrange(t) %>%\n",
    "    group_by(s, a) %>%\n",
    "    mutate(\n",
    "        H_tilde = pmin(cummax(H), tail(H, 1)),\n",
    "        h = H_tilde - lag(H_tilde, default = 0),\n",
    "    ) %>%\n",
    "    ungroup() %>%\n",
    "    mutate(tau = t - s)\n"
   ]
  },
  {
   "cell_type": "code",
   "execution_count": null,
   "metadata": {},
   "outputs": [],
   "source": [
    "p_s_plus_tau_constant <- rep_tri_hosp_cummax %>%\n",
    "    filter(tau <= 31) %>%\n",
    "    filter(s >= ymd(\"2021-12-01\")) %>%\n",
    "    filter(s < ymd(\"2022-01-01\")) %>%\n",
    "    group_by(s, tau) %>%\n",
    "    summarize(h = sum(h)) %>%\n",
    "    ggplot(aes(s, tau, fill = h)) +\n",
    "    geom_tile() +\n",
    "    # facet_wrap(~a) +\n",
    "    scale_fill_viridis_c(trans = \"log10\", na.value = \"grey80\") +\n",
    "    coord_fixed() +\n",
    "    labs(title = \"B\", x = \"reporting date $s$\", y = \"hosp. delay $\\\\tau$ [days]\", fill = \"$h_{s, \\\\tau}$\") +\n",
    "    theme(axis.text.x = element_text(angle = 90, hjust = 1, size = 10))\n",
    "\n",
    "p_delayed_reporting_double <- rep_tri_hosp_cummax %>%\n",
    "    filter(tau > 0, tau < 5) %>%\n",
    "    filter(s >= ymd(\"2021-11-30\")) %>%\n",
    "    filter(s < ymd(\"2022-01-01\")) %>%\n",
    "    group_by(s, tau) %>%\n",
    "    summarize(h = sum(h)) %>%\n",
    "    mutate(tau = factor(tau)) %>%\n",
    "    ggplot(aes(s, y = h, color = tau, group = tau)) +\n",
    "    geom_line() +\n",
    "    labs(color = \"$\\\\tau$\", x = \"\", y = \"increment $h_{s, \\\\tau}$\", title = \"A\") +\n",
    "    # theme(axis.title.x = element_blank(), axis.ticks.x = element_blank(), axis.text.x = element_blank())\n",
    "    theme(axis.text.x = element_text(angle = 90, hjust = 1, size = 10))\n",
    "\n",
    "p_survival <- rep_tri_hosp_cummax %>%\n",
    "    filter(s == ymd(\"2021-12-01\")) %>%\n",
    "    group_by(a) %>%\n",
    "    mutate(cum_p = cumsum(h) / sum(h)) %>%\n",
    "    ungroup() %>%\n",
    "    ggplot(aes(tau, 1 - cum_p, color = a)) +\n",
    "    geom_vline(xintercept = 28 * seq(4), linetype = 2, color = \"gray\") +\n",
    "    geom_step() +\n",
    "    coord_cartesian(xlim = c(NA, 120), ylim = c(0, .2)) +\n",
    "    labs(x = \"hospitalization delay $\\\\tau$ [days]\", y = \"empirical survival function $\\\\hat S^a(\\\\tau)$\", title = \"C\") +\n",
    "    scale_color_discrete(name = \"\") + # ) +labels = as_labeller(age_group_labels)) +\n",
    "    annotate(\"text\", x = 28 * seq(4) + 8, y = .205, label = paste0(seq(4), \" weeks\"), size = 2, color = \"gray\")\n",
    "\n",
    "((p_delayed_reporting_double / p_s_plus_tau_constant)) | p_survival\n",
    "\n",
    "ggsave_tikz(here(\"tikz/double_weekday_effect_hosp.tex\"))\n"
   ]
  },
  {
   "cell_type": "markdown",
   "metadata": {},
   "source": [
    "## Tests\n"
   ]
  },
  {
   "cell_type": "code",
   "execution_count": null,
   "metadata": {},
   "outputs": [],
   "source": [
    "# add leading zeros to week, i.e. W2-1 -> W02-1\n",
    "str_replace(\"2021-W2-1\", \"W([0-9])-\", \"W0\\\\1-\")\n"
   ]
  },
  {
   "cell_type": "code",
   "execution_count": null,
   "metadata": {},
   "outputs": [],
   "source": [
    "library(ISOweek)\n",
    "tests <- read_csv(\"https://github.com/robert-koch-institut/SARS-CoV-2-PCR-Testungen_in_Deutschland/raw/main/SARS-CoV-2-PCR-Testungen_in_Deutschland.csv\")\n",
    "\n",
    "tests %>%\n",
    "    mutate(date = paste0(date, \"-1\")) %>%\n",
    "    mutate(date = str_replace(date, \"W([0-9])-\", \"W0\\\\1-\")) %>%\n",
    "    mutate(date = ISOweek2date(date)) %>%\n",
    "    ggplot(aes(date, tests_positive_ratio * 100)) +\n",
    "    geom_line()\n",
    "\n",
    "tests %>%\n",
    "    mutate(date = paste0(date, \"-1\")) %>%\n",
    "    mutate(date = str_replace(date, \"W([0-9])-\", \"W0\\\\1-\")) %>%\n",
    "    mutate(date = ISOweek2date(date)) %>%\n",
    "    ggplot(aes(date, tests_total)) +\n",
    "    geom_line()\n"
   ]
  },
  {
   "cell_type": "markdown",
   "metadata": {},
   "source": [
    "## Generation time distribution used"
   ]
  },
  {
   "cell_type": "code",
   "execution_count": null,
   "metadata": {},
   "outputs": [],
   "source": [
    "w <- c((0:3) / 3, 1, (5:1) / 5)\n",
    "w <- w / sum(w)\n",
    "\n",
    "mean_w <- sum(seq_along(w) * w)\n",
    "\n",
    "tibble(tau = seq_along(w), w = w) %>%\n",
    "    ggplot(aes(tau, w)) +\n",
    "    geom_point(size = 4) +\n",
    "    geom_segment(aes(xend = tau, yend = 0)) +\n",
    "    geom_vline(data = tibble(mean = mean_w), mapping = aes(xintercept = mean, linetype = \"$\\\\bar w$\")) +\n",
    "    scale_x_continuous(breaks = 0:length(w)) +\n",
    "    scale_linetype_manual(values = \"dashed\") +\n",
    "    labs(x = \"$\\\\tau$\", y = \"$w_\\\\tau$\", linetype = \"\")\n",
    "\n",
    "ggsave_tikz(here(\"tikz/generation_time.tex\"), height = 3)\n",
    "write_csv(tibble(tau = seq_along(w), w = w), here(\"data/processed/generation_time.csv\"))\n"
   ]
  }
 ],
 "metadata": {
  "kernelspec": {
   "display_name": "ir",
   "language": "R",
   "name": "ir"
  }
 },
 "nbformat": 4,
 "nbformat_minor": 2
}
