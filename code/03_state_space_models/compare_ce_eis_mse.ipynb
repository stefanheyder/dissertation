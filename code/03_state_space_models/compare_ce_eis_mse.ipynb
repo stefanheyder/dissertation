{
 "cells": [
  {
   "cell_type": "markdown",
   "metadata": {},
   "source": [
    "# Simulation study CE vs. EIS bias/variance/rho"
   ]
  },
  {
   "cell_type": "markdown",
   "metadata": {},
   "source": [
    "## imports"
   ]
  },
  {
   "cell_type": "code",
   "execution_count": 1,
   "metadata": {},
   "outputs": [
    {
     "name": "stderr",
     "output_type": "stream",
     "text": [
      "2024-05-15 14:40:22.069195: E tensorflow/compiler/xla/stream_executor/cuda/cuda_dnn.cc:9342] Unable to register cuDNN factory: Attempting to register factory for plugin cuDNN when one has already been registered\n",
      "2024-05-15 14:40:22.069222: E tensorflow/compiler/xla/stream_executor/cuda/cuda_fft.cc:609] Unable to register cuFFT factory: Attempting to register factory for plugin cuFFT when one has already been registered\n",
      "2024-05-15 14:40:22.069229: E tensorflow/compiler/xla/stream_executor/cuda/cuda_blas.cc:1518] Unable to register cuBLAS factory: Attempting to register factory for plugin cuBLAS when one has already been registered\n"
     ]
    }
   ],
   "source": [
    "import jax\n",
    "from jax import vmap\n",
    "import jax.numpy as jnp\n",
    "import jax.random as jrn\n",
    "from functools import partial\n",
    "from jaxtyping import Array, Float\n",
    "\n",
    "import matplotlib.pyplot as plt\n",
    "import pandas as pd\n",
    "\n",
    "from isssm.lcssm import nb_lcssm, simulate_lcssm\n",
    "from isssm.mode_estimation import mode_estimation\n",
    "from isssm.modified_efficient_importance_sampling import modified_efficient_importance_sampling\n",
    "from isssm.ce_method import (\n",
    "    ce_cholesky_precision, \n",
    "    marginals,\n",
    "    simulate as simulate_ce,\n",
    "    ce_log_weights \n",
    ")\n",
    "from isssm.importance_sampling import ess_pct\n",
    "from isssm.importance_sampling import lcssm_importance_sampling\n",
    "from isssm.kalman import kalman, smoother"
   ]
  },
  {
   "cell_type": "markdown",
   "metadata": {},
   "source": [
    "## simulation code"
   ]
  },
  {
   "cell_type": "code",
   "execution_count": 2,
   "metadata": {},
   "outputs": [],
   "source": [
    "def eis_marginals(x0, A, Sigma, B, z, Omega):\n",
    "    x_filt, Xi_filt, x_pred, Xi_pred = kalman(z, x0, Sigma, Omega, A, B)\n",
    "    x_smooth, Xi_smooth = smoother(x_filt, Xi_filt, x_pred, Xi_pred, A)\n",
    "    \n",
    "    marg_means = x_smooth\n",
    "    marg_vars = vmap(jnp.diag)(Xi_smooth)\n",
    "\n",
    "    return marg_means, marg_vars\n",
    "\n",
    "def eis_single_outcome(key, N_eis, Y, x0, A, Sigma, B, dist, xi, z_la, Omega_la):\n",
    "    key, subkey = jrn.split(key)\n",
    "    z_eis, Omega_eis = modified_efficient_importance_sampling(\n",
    "        Y, x0, A, Sigma, B, xi, dist, z_la, Omega_la, 1, N_eis, subkey\n",
    "    )\n",
    "\n",
    "    key, subkey = jrn.split(key)\n",
    "    _, log_weights = lcssm_importance_sampling(\n",
    "        Y, x0, A, Sigma, B, dist, xi, z_eis, Omega_eis, N_eis, subkey\n",
    "    )\n",
    "\n",
    "    return *(eis_marginals(x0, A, Sigma, B, z_eis, Omega_eis)), ess_pct(log_weights)\n",
    "\n",
    "def ce_single_outcome(key, N_ce, Y, x0, A, Sigma, B, dist, xi, z_la, Omega_la):\n",
    "    key, subkey = jrn.split(key)\n",
    "    \n",
    "    samples, log_weights = lcssm_importance_sampling(Y, x0, A, Sigma, B, dist, xi, z_la, Omega_la, N_ce, subkey)\n",
    "\n",
    "    (diag, off_diag, mean), _, _ = ce_cholesky_precision(Y, x0, A, Sigma, B, xi, dist, samples, log_weights, 1, N_ce, subkey)\n",
    "\n",
    "    key, subkey = jrn.split(key)\n",
    "    samples = simulate_ce(\n",
    "        diag, off_diag, subkey, N_ce\n",
    "    )\n",
    "\n",
    "    log_weights = vmap(partial(ce_log_weights,\n",
    "        y=Y, full_diag=diag, off_diag=off_diag, mean=mean, x0=x0, A=A, Sigma=Sigma, B=B, dist=dist, xi=xi\n",
    "    ))(samples)\n",
    "\n",
    "    return *(marginals(mean, diag, off_diag)), ess_pct(log_weights)\n",
    "\n",
    "def bias_var(\n",
    "    samples: Float[Array, \"N ...\"],\n",
    "    true: Float[Array, \"...\"]\n",
    "):\n",
    "    bias_sr = (samples - true)**2\n",
    "    var = (samples - samples.mean(axis=0)) ** 2\n",
    "    return bias_sr, var\n",
    "\n",
    "def eis_outcomes(N_eis, key, N_mse, true_z, true_Omega, Y, x0, A, Sigma, B, dist, xi, z_la, Omega_la):\n",
    "    key, *subkeys = jrn.split(key, N_mse+1)\n",
    "    subkeys = jnp.array(subkeys)\n",
    "\n",
    "    true_mean, true_var = eis_marginals(x0, A, Sigma, B, true_z, true_Omega)\n",
    "\n",
    "    single_run = partial(eis_single_outcome, Y=Y, N_eis=N_eis, x0=x0, A=A, Sigma=Sigma, B=B, dist=dist, xi=xi, z_la=z_la, Omega_la=Omega_la)\n",
    "    marg_means, marg_vars, ef = vmap(single_run)(subkeys)\n",
    "        \n",
    "    mean_bias, mean_var = bias_var(marg_means, true_mean)\n",
    "    var_bias, var_var = bias_var(marg_vars, true_var)\n",
    "\n",
    "    return pd.DataFrame({\n",
    "        \"N\": int(N_eis),\n",
    "        \"N_mse\": N_mse,\n",
    "        \"mean_bias\": mean_bias.mean(axis=(-2, -1)),\n",
    "        \"mean_var\": mean_var.mean(axis=(-2,-1)),\n",
    "        \"var_bias\": var_bias.mean(axis=(-2,-1)),\n",
    "        \"var_var\": var_var.mean(axis=(-2,-1)),\n",
    "        \"ef\": ef,\n",
    "    })\n",
    "\n",
    "def ce_outcomes(N_ce, key, N_mse, true_mean, true_diag, true_off_diag, Y, x0, A, Sigma, B, dist, xi, z_la, Omega_la):\n",
    "    key, *subkeys = jrn.split(key, N_mse+1)\n",
    "    subkeys = jnp.array(subkeys)\n",
    "\n",
    "    true_mean, true_var = marginals(true_mean, true_diag, true_off_diag)\n",
    "\n",
    "    single_run = partial(ce_single_outcome, N_ce=N_ce, Y=Y,x0=x0, A=A, Sigma=Sigma, B=B, dist=dist, xi=xi, z_la=z_la, Omega_la=Omega_la)\n",
    "\n",
    "    marg_means, marg_vars, ef = vmap(single_run)(subkeys)\n",
    "        \n",
    "    mean_bias, mean_var = bias_var(marg_means, true_mean)\n",
    "    var_bias, var_var = bias_var(marg_vars, true_var)\n",
    "\n",
    "    return pd.DataFrame({\n",
    "        \"N\": int(N_ce),\n",
    "        \"N_mse\": N_mse,\n",
    "        \"mean_bias\": mean_bias.mean(axis=(-2,-1)),\n",
    "        \"mean_var\": mean_var.mean(axis=(-2,-1)),\n",
    "        \"var_bias\": var_bias.mean(axis=(-2,-1)),\n",
    "        \"var_var\": var_var.mean(axis=(-2,-1)),\n",
    "        \"ef\": ef,\n",
    "    })"
   ]
  },
  {
   "cell_type": "markdown",
   "metadata": {},
   "source": [
    "## setup"
   ]
  },
  {
   "cell_type": "code",
   "execution_count": 3,
   "metadata": {},
   "outputs": [],
   "source": [
    "x0 = jnp.zeros(1)\n",
    "n = 20\n",
    "alpha = .5\n",
    "A = alpha * jnp.tile(jnp.eye(1)[None,:,:], (n, 1, 1))\n",
    "Sigma = (1 - alpha ** 2) * jnp.tile(jnp.eye(1)[None,:,:], (n + 1, 1, 1))\n",
    "\n",
    "# NB observations \n",
    "\n",
    "nb_model = nb_lcssm(\n",
    "    x0,\n",
    "    A,\n",
    "    Sigma,\n",
    "    jnp.tile(jnp.eye(1)[None, :,:], (n + 1, 1, 1)),\n",
    "    .1\n",
    ")\n",
    "x0, A, Sigma, B, dist, xi = nb_model\n",
    "\n",
    "key = jrn.PRNGKey(342234)\n",
    "key, subkey = jrn.split(key)\n",
    "(X,), (Y,) = simulate_lcssm(*nb_model, 1, subkey)\n",
    "\n",
    "X_smooth, z_la, Omega_la = mode_estimation(Y, x0, A, Sigma, B, dist, xi, X, 10)\n",
    "\n",
    "# more will result in OOMs\n",
    "N_true = int(1.5 * 1e5)\n",
    "N_mse = 100\n",
    "Ns = jnp.logspace(1,3.5,10).astype(jnp.int32)"
   ]
  },
  {
   "cell_type": "markdown",
   "metadata": {},
   "source": [
    "## LA simulation"
   ]
  },
  {
   "cell_type": "code",
   "execution_count": 4,
   "metadata": {},
   "outputs": [],
   "source": [
    "key, subkey_run = jrn.split(key)\n",
    "\n",
    "def la_single_outcome(key, N, Y, x0, A, Sigma, B, dist, xi, z, Omega):\n",
    "    _, log_weights = lcssm_importance_sampling(Y, x0, A, Sigma, B, dist, xi, z, Omega, N, key)\n",
    "    return ess_pct(log_weights)\n",
    "\n",
    "def la_outcomes(N_la, key, N_mse, Y, x0, A, Sigma, B, dist, xi, z_la, Omega_la):\n",
    "    key, *subkeys = jrn.split(key, N_mse+1)\n",
    "    subkeys = jnp.array(subkeys)\n",
    "\n",
    "    single_run = partial(la_single_outcome, N=N_la, Y=Y,x0=x0, A=A, Sigma=Sigma, B=B, dist=dist, xi=xi, z=z_la, Omega=Omega_la)\n",
    "\n",
    "    ef = vmap(single_run)(subkeys)\n",
    "\n",
    "    return pd.DataFrame({\n",
    "        \"N\": int(N_la),\n",
    "        \"N_mse\": N_mse,\n",
    "        \"mean_bias\": None,\n",
    "        \"mean_var\": None,\n",
    "        \"var_bias\": None,\n",
    "        \"var_var\": None,\n",
    "        \"ef\": ef,\n",
    "    })\n",
    "\n",
    "results_la = pd.concat([\n",
    "    la_outcomes(N, subkey_run, N_mse, Y, x0, A, Sigma, B, dist, xi, z_la, Omega_la)\n",
    "    for N in Ns\n",
    "]).reset_index(drop=True)"
   ]
  },
  {
   "cell_type": "markdown",
   "metadata": {},
   "source": [
    "## EIS simulation"
   ]
  },
  {
   "cell_type": "code",
   "execution_count": 5,
   "metadata": {},
   "outputs": [],
   "source": [
    "key, subkey = jrn.split(key)\n",
    "true_z_eis, true_omega_eis = modified_efficient_importance_sampling(\n",
    "    Y, x0, A, Sigma, B, xi, dist, z_la, Omega_la, 1, N_true, subkey,\n",
    ")"
   ]
  },
  {
   "cell_type": "code",
   "execution_count": 6,
   "metadata": {},
   "outputs": [],
   "source": [
    "single_N_run_eis = partial(\n",
    "    eis_outcomes, \n",
    "    Y=Y, key=subkey_run, N_mse=N_mse, true_z=true_z_eis, true_Omega=true_omega_eis, x0=x0, A=A, Sigma=Sigma, B=B, dist=dist, xi=xi, z_la=z_la, Omega_la=Omega_la\n",
    ")\n",
    "\n",
    "results_eis = pd.concat([\n",
    "    single_N_run_eis(N) for N in Ns\n",
    "]).reset_index(drop=True)\n"
   ]
  },
  {
   "cell_type": "markdown",
   "metadata": {},
   "source": [
    "## CE simulation"
   ]
  },
  {
   "cell_type": "code",
   "execution_count": 7,
   "metadata": {},
   "outputs": [],
   "source": [
    "key, subkey = jrn.split(key)\n",
    "samples_la, log_weights_la = lcssm_importance_sampling(Y, x0, A, Sigma, B, dist, xi, z_la, Omega_la, N_true, subkey)\n",
    "\n",
    "key, subkey = jrn.split(key)\n",
    "(true_diag, true_off_diag, true_mu), (_, log_weights_ce), _ = ce_cholesky_precision(Y, x0, A, Sigma, B, xi, dist, samples_la, log_weights_la, 1, N_true, subkey)"
   ]
  },
  {
   "cell_type": "code",
   "execution_count": 8,
   "metadata": {},
   "outputs": [],
   "source": [
    "single_N_run_ce = partial(\n",
    "    ce_outcomes, \n",
    "    Y=Y, key=subkey_run, N_mse=N_mse, true_mean=true_mu, true_diag=true_diag, true_off_diag=true_off_diag, x0=x0, A=A, Sigma=Sigma, B=B, dist=dist, xi=xi, z_la=z_la, Omega_la=Omega_la\n",
    ")\n",
    "\n",
    "results_ce = pd.concat([\n",
    "    single_N_run_ce(N) for N in Ns\n",
    "]).reset_index(drop=True)"
   ]
  },
  {
   "cell_type": "markdown",
   "metadata": {},
   "source": [
    "## inspect true solutions"
   ]
  },
  {
   "cell_type": "code",
   "execution_count": 9,
   "metadata": {},
   "outputs": [
    {
     "data": {
      "text/plain": [
       "(Array(99.19363796, dtype=float64),\n",
       " Array(99.73211251, dtype=float64),\n",
       " Array(98.60006564, dtype=float64))"
      ]
     },
     "execution_count": 9,
     "metadata": {},
     "output_type": "execute_result"
    }
   ],
   "source": [
    "_, log_weights_eis = lcssm_importance_sampling(Y, x0, A, Sigma, B, dist, xi, true_z_eis, true_omega_eis, N_true, subkey)\n",
    "ess_pct(log_weights_la), ess_pct(log_weights_ce), ess_pct(log_weights_eis)"
   ]
  },
  {
   "cell_type": "code",
   "execution_count": 10,
   "metadata": {},
   "outputs": [
    {
     "data": {
      "image/png": "[encoded data removed]",
      "text/plain": [
       "<Figure size 1400x600 with 2 Axes>"
      ]
     },
     "metadata": {},
     "output_type": "display_data"
    }
   ],
   "source": [
    "ce_true_mu, ce_true_var = marginals(true_mu, true_diag, true_off_diag)\n",
    "eis_true_mu, eis_true_var = eis_marginals(x0, A, Sigma, B, true_z_eis, true_omega_eis)\n",
    "la_mu, la_var = eis_marginals(x0, A, Sigma, B, z_la, Omega_la)\n",
    "\n",
    "\n",
    "fig, axs = plt.subplots(1,2, figsize=(14,6))\n",
    "\n",
    "axs[0].set_title(\"Mean\")\n",
    "axs[0].plot(la_mu[:,0], label=\"LA\")\n",
    "axs[0].plot(ce_true_mu[:,0], label=\"CE\")\n",
    "axs[0].plot(eis_true_mu[:,0], label=\"EIS\")\n",
    "axs[0].legend()\n",
    "axs[1].set_title(\"marginal variances\")\n",
    "axs[1].plot(la_var[:,0], label=\"LA\")\n",
    "axs[1].plot(ce_true_var[:,0], label=\"CE\")\n",
    "axs[1].plot(eis_true_var[:,0], label=\"EIS\")\n",
    "axs[1].legend()\n",
    "plt.show()"
   ]
  },
  {
   "cell_type": "markdown",
   "metadata": {},
   "source": [
    "## simulation results"
   ]
  },
  {
   "cell_type": "code",
   "execution_count": 11,
   "metadata": {},
   "outputs": [
    {
     "data": {
      "text/html": [
       "<div>\n",
       "<style scoped>\n",
       "    .dataframe tbody tr th:only-of-type {\n",
       "        vertical-align: middle;\n",
       "    }\n",
       "\n",
       "    .dataframe tbody tr th {\n",
       "        vertical-align: top;\n",
       "    }\n",
       "\n",
       "    .dataframe thead th {\n",
       "        text-align: right;\n",
       "    }\n",
       "</style>\n",
       "<table border=\"1\" class=\"dataframe\">\n",
       "  <thead>\n",
       "    <tr style=\"text-align: right;\">\n",
       "      <th></th>\n",
       "      <th>N</th>\n",
       "      <th>N_mse</th>\n",
       "      <th>mean_bias</th>\n",
       "      <th>mean_var</th>\n",
       "      <th>var_bias</th>\n",
       "      <th>var_var</th>\n",
       "      <th>ef</th>\n",
       "    </tr>\n",
       "  </thead>\n",
       "  <tbody>\n",
       "    <tr>\n",
       "      <th>0</th>\n",
       "      <td>10</td>\n",
       "      <td>100</td>\n",
       "      <td>2.376029e-06</td>\n",
       "      <td>1.323266e-05</td>\n",
       "      <td>7.073716e-05</td>\n",
       "      <td>1.197233e-04</td>\n",
       "      <td>99.388882</td>\n",
       "    </tr>\n",
       "    <tr>\n",
       "      <th>1</th>\n",
       "      <td>10</td>\n",
       "      <td>100</td>\n",
       "      <td>3.679463e-05</td>\n",
       "      <td>1.336297e-05</td>\n",
       "      <td>4.360925e-04</td>\n",
       "      <td>1.058926e-04</td>\n",
       "      <td>99.919367</td>\n",
       "    </tr>\n",
       "    <tr>\n",
       "      <th>2</th>\n",
       "      <td>10</td>\n",
       "      <td>100</td>\n",
       "      <td>3.726607e-05</td>\n",
       "      <td>7.752917e-06</td>\n",
       "      <td>3.206791e-04</td>\n",
       "      <td>9.473126e-05</td>\n",
       "      <td>99.884425</td>\n",
       "    </tr>\n",
       "    <tr>\n",
       "      <th>3</th>\n",
       "      <td>10</td>\n",
       "      <td>100</td>\n",
       "      <td>4.763048e-05</td>\n",
       "      <td>1.419563e-05</td>\n",
       "      <td>2.901827e-04</td>\n",
       "      <td>4.324263e-05</td>\n",
       "      <td>99.344105</td>\n",
       "    </tr>\n",
       "    <tr>\n",
       "      <th>4</th>\n",
       "      <td>10</td>\n",
       "      <td>100</td>\n",
       "      <td>1.264507e-05</td>\n",
       "      <td>2.187693e-06</td>\n",
       "      <td>2.562766e-04</td>\n",
       "      <td>2.556983e-05</td>\n",
       "      <td>98.119059</td>\n",
       "    </tr>\n",
       "    <tr>\n",
       "      <th>...</th>\n",
       "      <td>...</td>\n",
       "      <td>...</td>\n",
       "      <td>...</td>\n",
       "      <td>...</td>\n",
       "      <td>...</td>\n",
       "      <td>...</td>\n",
       "      <td>...</td>\n",
       "    </tr>\n",
       "    <tr>\n",
       "      <th>995</th>\n",
       "      <td>3162</td>\n",
       "      <td>100</td>\n",
       "      <td>3.289474e-08</td>\n",
       "      <td>5.387409e-08</td>\n",
       "      <td>8.355205e-08</td>\n",
       "      <td>6.368821e-08</td>\n",
       "      <td>98.571151</td>\n",
       "    </tr>\n",
       "    <tr>\n",
       "      <th>996</th>\n",
       "      <td>3162</td>\n",
       "      <td>100</td>\n",
       "      <td>1.041701e-06</td>\n",
       "      <td>1.173027e-06</td>\n",
       "      <td>1.789955e-06</td>\n",
       "      <td>1.911074e-06</td>\n",
       "      <td>98.633717</td>\n",
       "    </tr>\n",
       "    <tr>\n",
       "      <th>997</th>\n",
       "      <td>3162</td>\n",
       "      <td>100</td>\n",
       "      <td>1.291244e-07</td>\n",
       "      <td>8.925567e-08</td>\n",
       "      <td>3.740082e-07</td>\n",
       "      <td>3.048106e-07</td>\n",
       "      <td>98.598259</td>\n",
       "    </tr>\n",
       "    <tr>\n",
       "      <th>998</th>\n",
       "      <td>3162</td>\n",
       "      <td>100</td>\n",
       "      <td>7.938764e-07</td>\n",
       "      <td>7.009492e-07</td>\n",
       "      <td>1.041545e-06</td>\n",
       "      <td>9.187332e-07</td>\n",
       "      <td>98.606377</td>\n",
       "    </tr>\n",
       "    <tr>\n",
       "      <th>999</th>\n",
       "      <td>3162</td>\n",
       "      <td>100</td>\n",
       "      <td>7.447348e-08</td>\n",
       "      <td>8.199033e-08</td>\n",
       "      <td>1.433332e-07</td>\n",
       "      <td>1.916671e-07</td>\n",
       "      <td>98.754631</td>\n",
       "    </tr>\n",
       "  </tbody>\n",
       "</table>\n",
       "<p>1000 rows × 7 columns</p>\n",
       "</div>"
      ],
      "text/plain": [
       "        N  N_mse     mean_bias      mean_var      var_bias       var_var  \\\n",
       "0      10    100  2.376029e-06  1.323266e-05  7.073716e-05  1.197233e-04   \n",
       "1      10    100  3.679463e-05  1.336297e-05  4.360925e-04  1.058926e-04   \n",
       "2      10    100  3.726607e-05  7.752917e-06  3.206791e-04  9.473126e-05   \n",
       "3      10    100  4.763048e-05  1.419563e-05  2.901827e-04  4.324263e-05   \n",
       "4      10    100  1.264507e-05  2.187693e-06  2.562766e-04  2.556983e-05   \n",
       "..    ...    ...           ...           ...           ...           ...   \n",
       "995  3162    100  3.289474e-08  5.387409e-08  8.355205e-08  6.368821e-08   \n",
       "996  3162    100  1.041701e-06  1.173027e-06  1.789955e-06  1.911074e-06   \n",
       "997  3162    100  1.291244e-07  8.925567e-08  3.740082e-07  3.048106e-07   \n",
       "998  3162    100  7.938764e-07  7.009492e-07  1.041545e-06  9.187332e-07   \n",
       "999  3162    100  7.447348e-08  8.199033e-08  1.433332e-07  1.916671e-07   \n",
       "\n",
       "            ef  \n",
       "0    99.388882  \n",
       "1    99.919367  \n",
       "2    99.884425  \n",
       "3    99.344105  \n",
       "4    98.119059  \n",
       "..         ...  \n",
       "995  98.571151  \n",
       "996  98.633717  \n",
       "997  98.598259  \n",
       "998  98.606377  \n",
       "999  98.754631  \n",
       "\n",
       "[1000 rows x 7 columns]"
      ]
     },
     "execution_count": 11,
     "metadata": {},
     "output_type": "execute_result"
    }
   ],
   "source": [
    "import seaborn as sns\n",
    "results_eis"
   ]
  },
  {
   "cell_type": "code",
   "execution_count": 12,
   "metadata": {},
   "outputs": [
    {
     "name": "stderr",
     "output_type": "stream",
     "text": [
      "/tmp/ipykernel_260345/409058690.py:1: FutureWarning: The behavior of DataFrame concatenation with empty or all-NA entries is deprecated. In a future version, this will no longer exclude empty or all-NA columns when determining the result dtypes. To retain the old behavior, exclude the relevant entries before the concat operation.\n",
      "  results = pd.concat([\n"
     ]
    }
   ],
   "source": [
    "results = pd.concat([\n",
    "    results_la.assign(method=\"LA\"),\n",
    "    results_eis.assign(method=\"EIS\"), \n",
    "    results_ce.assign(method=\"CE\")\n",
    "])\n",
    "results.to_csv(\"../../data/figures/03_state_space_models/compare_ce_eis_mse.csv\", index=False)"
   ]
  },
  {
   "cell_type": "code",
   "execution_count": 13,
   "metadata": {},
   "outputs": [
    {
     "data": {
      "text/plain": [
       "<Axes: xlabel='N', ylabel='ef'>"
      ]
     },
     "execution_count": 13,
     "metadata": {},
     "output_type": "execute_result"
    },
    {
     "data": {
      "image/png": "[encoded data removed]",
      "text/plain": [
       "<Figure size 640x480 with 1 Axes>"
      ]
     },
     "metadata": {},
     "output_type": "display_data"
    }
   ],
   "source": [
    "results_eis[\"N\"] = results_eis[\"N\"].astype(jnp.float64)\n",
    "sns.boxplot(results_eis, x=\"N\", y=\"ef\")"
   ]
  },
  {
   "cell_type": "markdown",
   "metadata": {},
   "source": [
    "## Optimum analysis: efficiency factors"
   ]
  },
  {
   "cell_type": "code",
   "execution_count": 7,
   "metadata": {},
   "outputs": [
    {
     "name": "stderr",
     "output_type": "stream",
     "text": [
      "/tmp/ipykernel_552802/3756798560.py:49: FutureWarning: The behavior of array concatenation with empty entries is deprecated. In a future version, this will no longer exclude empty items when determining the result dtype. To retain the old behavior, exclude the empty entries before the concat operation.\n",
      "  df_ef = pd.concat([\n"
     ]
    }
   ],
   "source": [
    "df_ef = pd.DataFrame({\n",
    "    \"N\": {},\n",
    "    \"method\": {},\n",
    "    \"ef\": {}\n",
    "})\n",
    "(n_iter_la, n_iter_eis, n_iter_ce) = (10, 10, 10)\n",
    "\n",
    "key, *subkeys_large = jrn.split(key, 3)\n",
    "subkeys_large = jnp.array(subkeys_large)\n",
    "\n",
    "for subkey in subkeys_large:\n",
    "    n = 10\n",
    "    N_true = int(1.5 * 1e6 / n)\n",
    "    x0 = jnp.zeros(1)\n",
    "    alpha = .5\n",
    "    A = alpha * jnp.tile(jnp.eye(1)[None,:,:], (n, 1, 1))\n",
    "    Sigma = (1 - alpha ** 2) * jnp.tile(jnp.eye(1)[None,:,:], (n + 1, 1, 1))\n",
    "\n",
    "    # NB observations \n",
    "    model = nb_lcssm(\n",
    "        x0,\n",
    "        A,\n",
    "        Sigma,\n",
    "        jnp.tile(jnp.eye(1)[None, :,:], (n + 1, 1, 1)),\n",
    "        .1\n",
    "    )\n",
    "    #model = poisson_lcssm(\n",
    "    #    x0,\n",
    "    #    A,\n",
    "    #    Sigma,\n",
    "    #    jnp.tile(jnp.eye(1)[None, :,:], (n + 1, 1, 1)),\n",
    "    #)\n",
    "    x0, A, Sigma, B, dist, xi = model\n",
    "\n",
    "    key, subkey = jrn.split(key)\n",
    "    (X,), (Y,) = simulate_lcssm(*model, 1, subkey)\n",
    "    X_smooth, z_la, Omega_la = mode_estimation(Y, x0, A, Sigma, B, dist, xi, X, n_iter_la)\n",
    "    true_z_eis, true_omega_eis = modified_efficient_importance_sampling(\n",
    "        Y, x0, A, Sigma, B, xi, dist, z_la, Omega_la, n_iter_eis, N_true, subkey,\n",
    "    )\n",
    "\n",
    "    _, log_weights_eis = lcssm_importance_sampling(Y, x0, A, Sigma, B, dist, xi, true_z_eis, true_omega_eis, N_true, subkey)\n",
    "\n",
    "    samples_la, log_weights_la = lcssm_importance_sampling(Y, x0, A, Sigma, B, dist, xi, z_la, Omega_la, N_true, subkey)\n",
    "\n",
    "    key, subkey = jrn.split(key)\n",
    "    _, (_, log_weights_ce), _ = ce_cholesky_precision(Y, x0, A, Sigma, B, xi, dist, samples_la, log_weights_la, n_iter_ce, N_true, subkey)\n",
    "\n",
    "    df_ef = pd.concat([\n",
    "            df_ef,\n",
    "            pd.DataFrame({\n",
    "                \"N\": N_true,\n",
    "                \"method\": [\"LA\", \"EIS\", \"CE\"],\n",
    "                \"ef\": [ess_pct(log_weights_la), ess_pct(log_weights_eis), ess_pct(log_weights_ce)]\n",
    "            })\n",
    "        ])\n",
    "    \n",
    "df_ef.to_csv(\"../../data/figures/03_state_space_models/ef_large_N.csv\", index=False)"
   ]
  },
  {
   "cell_type": "code",
   "execution_count": 8,
   "metadata": {},
   "outputs": [
    {
     "name": "stderr",
     "output_type": "stream",
     "text": [
      "/tmp/ipykernel_552802/411855959.py:57: FutureWarning: The behavior of array concatenation with empty entries is deprecated. In a future version, this will no longer exclude empty items when determining the result dtype. To retain the old behavior, exclude the empty entries before the concat operation.\n",
      "  df_dimensions = pd.concat([\n"
     ]
    }
   ],
   "source": [
    "from isssm.lcssm import poisson_lcssm\n",
    "df_dimensions = pd.DataFrame({\n",
    "    \"N\": {},\n",
    "    \"m\": {},\n",
    "    \"n\": {},\n",
    "    \"method\": {},\n",
    "    \"ef\": {}\n",
    "})\n",
    "\n",
    "(n_iter_la, n_iter_eis, n_iter_ce) = (10, 10, 10)\n",
    "\n",
    "key, *subkeys_large = jrn.split(key, 3)\n",
    "subkeys_large = jnp.array(subkeys_large)\n",
    "\n",
    "ns = jnp.array([10, 20, 50, 100, 500, 1000])\n",
    "\n",
    "for key in subkeys_large:\n",
    "    for n in ns:\n",
    "\n",
    "        # prevent OOM, smaller N for larger n\n",
    "        N_true = int(1.5 * 1e6 / n)\n",
    "        x0 = jnp.zeros(1)\n",
    "        alpha = .5\n",
    "        A = alpha * jnp.tile(jnp.eye(1)[None,:,:], (n, 1, 1))\n",
    "        Sigma = (1 - alpha ** 2) * jnp.tile(jnp.eye(1)[None,:,:], (n + 1, 1, 1))\n",
    "\n",
    "        # NB observations \n",
    "        model = nb_lcssm(\n",
    "            x0,\n",
    "            A,\n",
    "            Sigma,\n",
    "            jnp.tile(jnp.eye(1)[None, :,:], (n + 1, 1, 1)),\n",
    "            .1\n",
    "        )\n",
    "        #model = poisson_lcssm(\n",
    "        #    x0,\n",
    "        #    A,\n",
    "        #    Sigma,\n",
    "        #    jnp.tile(jnp.eye(1)[None, :,:], (n + 1, 1, 1)),\n",
    "        #)\n",
    "        x0, A, Sigma, B, dist, xi = model\n",
    "\n",
    "        key, subkey = jrn.split(key)\n",
    "        (X,), (Y,) = simulate_lcssm(*model, 1, subkey)\n",
    "        X_smooth, z_la, Omega_la = mode_estimation(Y, x0, A, Sigma, B, dist, xi, X, n_iter_la)\n",
    "\n",
    "        key, subkey = jrn.split(key)\n",
    "        true_z_eis, true_omega_eis = modified_efficient_importance_sampling(\n",
    "            Y, x0, A, Sigma, B, xi, dist, z_la, Omega_la, n_iter_ce, N_true, subkey,\n",
    "        )\n",
    "\n",
    "        key, subkey = jrn.split(key)\n",
    "        samples_la, log_weights_la = lcssm_importance_sampling(Y, x0, A, Sigma, B, dist, xi, z_la, Omega_la, N_true, subkey)\n",
    "        _, log_weights_eis = lcssm_importance_sampling(Y, x0, A, Sigma, B, dist, xi, true_z_eis, true_omega_eis, N_true, subkey)\n",
    "        _, (_, log_weights_ce), _ = ce_cholesky_precision(Y, x0, A, Sigma, B, xi, dist, samples_la, log_weights_la, n_iter_ce, N_true, subkey)\n",
    "\n",
    "        df_dimensions = pd.concat([\n",
    "                df_dimensions,\n",
    "                pd.DataFrame({\n",
    "                    \"N\": N_true,\n",
    "                    \"m\": 1,\n",
    "                    \"n\": n,\n",
    "                    \"method\": [\"LA\", \"EIS\", \"CE\"],\n",
    "                    \"ef\": [ess_pct(log_weights_la), ess_pct(log_weights_eis), ess_pct(log_weights_ce)]\n",
    "                })\n",
    "            ])\n",
    "        \n",
    "df_dimensions.to_csv(\"../../data/figures/03_state_space_models/ef_dimensions.csv\", index=False)"
   ]
  }
 ],
 "metadata": {
  "kernelspec": {
   "display_name": "research",
   "language": "python",
   "name": "python3"
  },
  "language_info": {
   "codemirror_mode": {
    "name": "ipython",
    "version": 3
   },
   "file_extension": ".py",
   "mimetype": "text/x-python",
   "name": "python",
   "nbconvert_exporter": "python",
   "pygments_lexer": "ipython3",
   "version": "3.11.8"
  }
 },
 "nbformat": 4,
 "nbformat_minor": 2
}
