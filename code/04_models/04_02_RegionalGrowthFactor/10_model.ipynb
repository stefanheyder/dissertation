{
 "cells": [
  {
   "cell_type": "markdown",
   "metadata": {},
   "source": [
    "# Regional Growth Factor Model"
   ]
  },
  {
   "cell_type": "code",
   "execution_count": 1,
   "metadata": {},
   "outputs": [],
   "source": [
    "#| default_exp model"
   ]
  },
  {
   "cell_type": "code",
   "execution_count": 2,
   "metadata": {},
   "outputs": [],
   "source": [
    "#| export\n",
    "import jax.numpy as jnp\n",
    "import jax.scipy as jsp\n",
    "import jax\n",
    "from jax import vmap, jit\n",
    "import matplotlib.pyplot as plt\n",
    "import matplotlib as mpl\n",
    "\n",
    "from isssm.typing import PGSSM, GLSSMState\n",
    "from jaxtyping import Array, Float\n",
    "\n",
    "from tensorflow_probability.substrates.jax.distributions import NegativeBinomial as NBinom"
   ]
  },
  {
   "cell_type": "code",
   "execution_count": 3,
   "metadata": {},
   "outputs": [],
   "source": [
    "mpl.rcParams['figure.figsize'] = (20, 6)\n",
    "jax.config.update(\"jax_enable_x64\", True)"
   ]
  },
  {
   "cell_type": "markdown",
   "metadata": {},
   "source": [
    "\n",
    "## States\n",
    "Let $\\bar r_t = \\log \\bar \\rho_t$ be the average growth factor (on the log scale) across all counties and $u_t^c$ be the deviation of county $c$'s log-growth factor for $\\bar r_t$. \n",
    "We model $\\bar r_t$ following a random walk and $u^\\cdot_t$ following an $\\text{VAR}(1)$ process with transition matrix $\\alpha I$ and spatial correlation $\\Omega$.\n",
    "\n",
    "Thus we have\n",
    "$$\n",
    "\\begin{align*}\n",
    "\\bar r_{t + 1} &= \\bar r_{t} + \\varepsilon_{t + 1}^\\rho \\\\\n",
    "u^c_{t + 1} &= \\alpha u^c_t + \\varepsilon_{t + 1}^c\n",
    "\\end{align*}\n",
    "$$\n",
    "\n",
    "with $\\text{Var}(\\varepsilon_{t + 1}^\\rho) = \\sigma^2_\\rho$ and $\\text{Cov}(\\varepsilon_{t + 1}) = \\Omega$. \n",
    "The covariance matrix of the stationary distribution is $\\Sigma = \\frac {1} {1 - \\alpha^2} \\Omega$."
   ]
  },
  {
   "cell_type": "code",
   "execution_count": 4,
   "metadata": {},
   "outputs": [],
   "source": [
    "#| export\n",
    "def _state_model(r0, u0, alpha, s2_rho, Omega, n) -> GLSSMState:\n",
    "    x0 = jnp.concatenate([r0, u0])\n",
    "    K, = u0.shape\n",
    "    A = jnp.broadcast_to(\n",
    "        jsp.linalg.block_diag(alpha, jnp.eye(K)),\n",
    "        (n, K + 1, K + 1)\n",
    "    )\n",
    "    Sigma0 = 1e3 * jnp.eye(K + 1)\n",
    "    Sigma = jnp.linalg.block_diag(s2_rho * jnp.eye(1), 1/(1 - alpha ** 2) * Omega)\n",
    "    Sigma = jnp.concatenate([ \n",
    "        Sigma0[None, ...], \n",
    "        jnp.broadcast_to(Sigma, (n, K + 1, K + 1))\n",
    "        ], axis=0)\n",
    "\n",
    "    return GLSSMState(x0, A, Sigma)"
   ]
  },
  {
   "cell_type": "markdown",
   "metadata": {},
   "source": [
    "## Observations\n",
    "The log growth factor in a region at time $t$, $r^c_t$, is given by the mean log growth factor $\\bar r_t$ and the per-region deviation $u^c_t$.\n",
    "Conditional on the log growth factors and past cases, cases are Negative Binomially distributed with shared overdispersion parameter $r$\n",
    "$$\n",
    "\\begin{align*}\n",
    "r^c_t &= \\bar r_t + u^c_{t} \\\\\n",
    "\\lambda_t^c &= \\exp(r^c_t) \\sum_{d}p_{c,d} I_t^d \\\\\n",
    "I^c_{t + 1} | I^c_{t}, \\rho_t, u^c_t &\\sim \\text{NegBinom}(\\underbrace{\\lambda_t^c}_{\\text{mean}}, \\underbrace{r}_{\\text{overdispersion}})\n",
    "\\end{align*}\n",
    "$$\n",
    "\n",
    "where the variance of the negative binomial distribution is $\\mu + \\frac{\\mu^2}{r}$\n"
   ]
  },
  {
   "cell_type": "code",
   "execution_count": 5,
   "metadata": {},
   "outputs": [],
   "source": [
    "#| export\n",
    "def _observation_model(\n",
    "        obs: Float[Array, \"n+2 K\"],\n",
    "        P: Float[Array, \"K K\"],\n",
    "        r: Float\n",
    "    ):\n",
    "\n",
    "    np2, p = obs.shape\n",
    "\n",
    "    delayed_obs = obs[:-1]\n",
    "    cases_adjusted = vmap(jnp.matmul, (None, 0))(P, delayed_obs)\n",
    "\n",
    "    xi = jnp.concatenate((\n",
    "        jnp.full((np2 - 1, p, 1), r),\n",
    "        cases_adjusted[:,:, None]\n",
    "    ), axis=-1)\n",
    "\n",
    "    def dist_obs(signal, xi):\n",
    "        r, sum_I =jnp.moveaxis(xi, -1, 0)\n",
    "        return NBinom(r, logits=signal + jnp.log(sum_I))\n",
    "    \n",
    "    return dist_obs, xi"
   ]
  },
  {
   "cell_type": "markdown",
   "metadata": {},
   "source": [
    "## Spatial Correlations\n",
    "\n",
    "Suppose we have in county $c$ $S^c$ many new infections generated, which may be attributed to the same county or another one, $c'$ say.\n",
    "Let $p_{c,c'}$ be the fraction of cases generated in county $c'$ (instead of in county $c$) and $p_{c,c} = 1 - \\sum_{c' \\neq c} p_{c,c'}$.\n",
    "\n",
    "\n",
    "Let $P = \\left(p_{c,c'}\\right)_{c = 1, \\dots, K, c' = 1,\\dots, K}$.\n",
    "\n",
    "Let $\\tilde S^c = \\sum p_{c,d} S^d$ be the number of cases generated in county $c$.\n",
    "\n",
    "Then we are interested in \n",
    "\n",
    "$$\n",
    "\\begin{align*}\n",
    "    \\text{Cov}(\\tilde S^c, \\tilde S^{c'}) = \\underbrace{\\sigma^2}_{\\text{Var}(S^c)} (\\sum_{d} p_{c,d} p_{c',d}) = \\sigma^2_{\\text{spat}} (P P^T)_{c, c'}\n",
    "\\end{align*}\n",
    "$$"
   ]
  },
  {
   "cell_type": "markdown",
   "metadata": {},
   "source": [
    "\n",
    "To obtain $p_{c,c'}$ we use data on commuters $q_{c,c'}$ the fraction of socially insured employees that have their center of life in county $c$ but are registered to work in county $c'$. \n",
    "\n",
    "To account for non-working inhabitants (elderly, kids, ...) we introduce a constant $C \\geq 1$ s.t. \n",
    "$$\n",
    "p_{c,c'} = \\bar q + (1 - \\bar q)\\frac{\\mathbf 1 _{c \\neq c'} q_{c,c'}}{ \\sum_{d \\neq c} q_{c,d} + C q_{c,c}},\n",
    "$$\n",
    "i.e. we blow up the proportion of \"stay at home\" by a constant $C$ (that is the same for all counties) and add a constant \"socket\" of travel $\\bar q$ between the counties.\n",
    "\n",
    "\n",
    "Finally we choose\n",
    "\n",
    "$$\n",
    "\\Omega = \\sigma^2_{\\text{spat}}PP^T %+ \\sigma^2_{\\text{nugget}} I\n",
    "$$"
   ]
  },
  {
   "cell_type": "code",
   "execution_count": 6,
   "metadata": {},
   "outputs": [],
   "source": [
    "#| export\n",
    "def _P(C, q, n_ij, n_tot) -> Float[Array, \"K K\"]:\n",
    "    p, _ = n_ij.shape\n",
    "    m_ij = n_ij + jnp.diag(C * n_tot - n_ij.sum(axis=1)) \n",
    "    normalize_rows = lambda x: x / x.sum(axis=1).reshape((-1,1))\n",
    "    return jnp.full((p,p), q / p) + (1 - q) * normalize_rows(m_ij)"
   ]
  },
  {
   "cell_type": "markdown",
   "metadata": {},
   "source": [
    "\n",
    "## Parameters\n",
    "\n",
    "$$\n",
    "\\theta = \\left( \\text{logit}(\\alpha), \\log \\sigma^2_r, \\log \\sigma^2_{\\text{spat}}, C, \\log \\mu \\right)%\\log \\sigma^2_{\\text{nugget}}, \\log \\mu \\right)\n",
    "$$\n"
   ]
  },
  {
   "cell_type": "markdown",
   "metadata": {},
   "source": [
    "## Final Model"
   ]
  },
  {
   "cell_type": "code",
   "execution_count": 7,
   "metadata": {},
   "outputs": [],
   "source": [
    "#| export\n",
    "def growth_factor_model(\n",
    "        theta,\n",
    "        aux\n",
    "    ) -> PGSSM:\n",
    "    \n",
    "    logit_alpha, log_s2_r, log_s2_spat, logit_q, C, log_r= theta\n",
    "    obs, n_ij, n_tot= aux\n",
    "\n",
    "    np2, _ = obs.shape\n",
    "    np1 = np2 - 1\n",
    "    K, = n_tot\n",
    "    \n",
    "    alpha = jsp.special.expit(logit_alpha)\n",
    "    s2_rho = jnp.exp(log_s2_r)\n",
    "    s2_spat = jnp.exp(log_s2_spat)\n",
    "    r = jnp.exp(log_r)\n",
    "    q = jsp.special.expit(logit_q)\n",
    "\n",
    "    P = _P(C, q, n_ij, n_tot)\n",
    "    state  = _state_model(jnp.zeros(1), jnp.zeros(K), alpha, s2_rho, s2_spat * P @ P.T)\n",
    "    dist, xi = _observation_model(obs, P, r)\n",
    "\n",
    "    B = jnp.broadcast_to(\n",
    "        jnp.block([jnp.zeros((K, 1)), jnp.eye(K)]),\n",
    "        (np1, K, K + 1)\n",
    "    )\n",
    "\n",
    "    return PGSSM(\n",
    "        x0 = state.x0,\n",
    "        A = state.A,\n",
    "        Sigma = state.Sigma,\n",
    "        B = B,\n",
    "        dist = dist,\n",
    "        xi = xi\n",
    "    )"
   ]
  },
  {
   "cell_type": "code",
   "execution_count": 8,
   "metadata": {},
   "outputs": [],
   "source": [
    "from nbdev import export\n",
    "export.nb_export(\n",
    "    \"10_model.ipynb\",\n",
    "    \"src\"\n",
    ")"
   ]
  }
 ],
 "metadata": {
  "kernelspec": {
   "display_name": "research",
   "language": "python",
   "name": "python3"
  },
  "language_info": {
   "codemirror_mode": {
    "name": "ipython",
    "version": 3
   },
   "file_extension": ".py",
   "mimetype": "text/x-python",
   "name": "python",
   "nbconvert_exporter": "python",
   "pygments_lexer": "ipython3",
   "version": "3.10.13"
  }
 },
 "nbformat": 4,
 "nbformat_minor": 2
}
