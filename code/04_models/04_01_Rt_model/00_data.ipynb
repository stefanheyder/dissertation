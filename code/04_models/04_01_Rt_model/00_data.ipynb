{
 "cells": [
  {
   "cell_type": "code",
   "execution_count": 1,
   "metadata": {
    "vscode": {
     "languageId": "r"
    }
   },
   "outputs": [
    {
     "name": "stderr",
     "output_type": "stream",
     "text": [
      "here() starts at /Users/stefan/workspace/work/phd/thesis\n",
      "\n"
     ]
    }
   ],
   "source": [
    "library(here)\n",
    "source(here(\"code/setup.R\"))\n",
    "library(latex2exp)"
   ]
  },
  {
   "cell_type": "markdown",
   "metadata": {},
   "source": [
    "# RKI data - reporting triangle\n",
    "\n",
    "We use the reporting triangle for the number of cases, i.e. on any day $t$ the number of cases $$I_{s,t}$$ that are reported associated with date $s < t$. \n",
    "\n",
    "We begin our analysis on April 1st 2020, when data have become stable enough to warrant an analysis.\n",
    "\n",
    "Most delays are less than 4 days, so we consider only those delays."
   ]
  },
  {
   "cell_type": "code",
   "execution_count": 2,
   "metadata": {
    "vscode": {
     "languageId": "r"
    }
   },
   "outputs": [],
   "source": [
    "full_rep_tri <- read_csv(here(\"data/raw/rki_cases_deaths_delays.csv\")) %>%\n",
    "    select(t = rki_date, s = county_date, I = cases) %>%\n",
    "    filter(s >= ymd(\"2020-04-01\"))"
   ]
  },
  {
   "cell_type": "code",
   "execution_count": 4,
   "metadata": {
    "vscode": {
     "languageId": "r"
    }
   },
   "outputs": [
    {
     "data": {
      "text/html": [
       "<table class=\"dataframe\">\n",
       "<caption>A tibble: 0 × 6</caption>\n",
       "<thead>\n",
       "\t<tr><th scope=col>t</th><th scope=col>s</th><th scope=col>I</th><th scope=col>I_tilde</th><th scope=col>i</th><th scope=col>tau</th></tr>\n",
       "\t<tr><th scope=col>&lt;date&gt;</th><th scope=col>&lt;date&gt;</th><th scope=col>&lt;dbl&gt;</th><th scope=col>&lt;dbl&gt;</th><th scope=col>&lt;dbl&gt;</th><th scope=col>&lt;dbl&gt;</th></tr>\n",
       "</thead>\n",
       "<tbody>\n",
       "</tbody>\n",
       "</table>\n"
      ],
      "text/latex": [
       "A tibble: 0 × 6\n",
       "\\begin{tabular}{llllll}\n",
       " t & s & I & I\\_tilde & i & tau\\\\\n",
       " <date> & <date> & <dbl> & <dbl> & <dbl> & <dbl>\\\\\n",
       "\\hline\n",
       "\\end{tabular}\n"
      ],
      "text/markdown": [
       "\n",
       "A tibble: 0 × 6\n",
       "\n",
       "| t &lt;date&gt; | s &lt;date&gt; | I &lt;dbl&gt; | I_tilde &lt;dbl&gt; | i &lt;dbl&gt; | tau &lt;dbl&gt; |\n",
       "|---|---|---|---|---|---|\n",
       "\n"
      ],
      "text/plain": [
       "     t s I I_tilde i tau"
      ]
     },
     "metadata": {},
     "output_type": "display_data"
    },
    {
     "name": "stdout",
     "output_type": "stream",
     "text": [
      "[1] \"No tau = 0 delays\"\n"
     ]
    }
   ],
   "source": [
    "rep_tri_cummax <- full_rep_tri %>%\n",
    "    arrange(t) %>%\n",
    "    group_by(s)  %>%\n",
    "    mutate(\n",
    "        I_tilde = pmin(cummax(I), tail(I, 1)),\n",
    "    ) %>%\n",
    "    ungroup()\n",
    "\n",
    "increments <- rep_tri_cummax %>%\n",
    "    group_by(s) %>%\n",
    "    mutate(\n",
    "        i = I_tilde - lag(I_tilde, default = 0),\n",
    "    ) %>%\n",
    "    ungroup()\n",
    "increments %>%\n",
    "    mutate(tau = as.numeric(t - s)) %>%\n",
    "    filter(tau == 0, i > 0)\n",
    "print(\"No tau = 0 delays\")\n",
    " \n",
    "increments %>%\n",
    "    mutate(tau = as.numeric(t - s)) %>%\n",
    "    filter(s >= ymd(\"2020-04-01\")) %>%\n",
    "    select(s, tau, i) %>%\n",
    "    filter(tau <= 4) %>%\n",
    "    pivot_wider(names_from = tau, values_from = i) %>%\n",
    "    rename(date = s) %>%\n",
    "    write_csv(here(\"data/RKI_4day_rt.csv\"))"
   ]
  }
 ],
 "metadata": {
  "kernelspec": {
   "display_name": "R",
   "language": "R",
   "name": "ir"
  },
  "language_info": {
   "codemirror_mode": "r",
   "file_extension": ".r",
   "mimetype": "text/x-r-source",
   "name": "R",
   "pygments_lexer": "r",
   "version": "4.3.3"
  }
 },
 "nbformat": 4,
 "nbformat_minor": 2
}
